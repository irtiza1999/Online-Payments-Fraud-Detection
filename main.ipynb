{
 "cells": [
  {
   "cell_type": "markdown",
   "id": "efff5302",
   "metadata": {},
   "source": [
    "### Importing dependencies"
   ]
  },
  {
   "cell_type": "code",
   "execution_count": 85,
   "id": "9ef62a93",
   "metadata": {},
   "outputs": [],
   "source": [
    "import pandas as pd\n",
    "import numpy as np\n",
    "import sklearn\n",
    "import seaborn as sns\n",
    "import matplotlib.pyplot as plt\n",
    "import plotly.express as px\n",
    "from sklearn.model_selection import train_test_split\n",
    "from sklearn.preprocessing import StandardScaler\n",
    "from sklearn.neighbors import KNeighborsClassifier\n",
    "from sklearn.metrics import confusion_matrix, accuracy_score, precision_score, recall_score, f1_score, fbeta_score\n",
    "from seaborn import heatmap\n",
    "from sklearn.linear_model import LogisticRegression\n",
    "from sklearn.naive_bayes import GaussianNB\n",
    "from sklearn.svm import SVC\n",
    "from sklearn.metrics import classification_report\n",
    "from sklearn.metrics import precision_recall_fscore_support\n",
    "from sklearn.impute import SimpleImputer\n",
    "from sklearn.preprocessing import LabelEncoder\n",
    "from imblearn.over_sampling import SMOTE"
   ]
  },
  {
   "cell_type": "markdown",
   "id": "2eabfa23",
   "metadata": {},
   "source": [
    "### Reading the Dataset and seeing the datapoints"
   ]
  },
  {
   "cell_type": "code",
   "execution_count": 86,
   "id": "e99d640f",
   "metadata": {},
   "outputs": [
    {
     "data": {
      "text/plain": [
       "(1296675, 23)"
      ]
     },
     "execution_count": 86,
     "metadata": {},
     "output_type": "execute_result"
    }
   ],
   "source": [
    "dataset = pd.read_csv(\"fraudTrain_new.csv\")\n",
    "dataset.shape"
   ]
  },
  {
   "cell_type": "code",
   "execution_count": 87,
   "id": "39368566",
   "metadata": {},
   "outputs": [
    {
     "name": "stdout",
     "output_type": "stream",
     "text": [
      "<class 'pandas.core.frame.DataFrame'>\n",
      "RangeIndex: 1296675 entries, 0 to 1296674\n",
      "Data columns (total 23 columns):\n",
      " #   Column                 Non-Null Count    Dtype  \n",
      "---  ------                 --------------    -----  \n",
      " 0   Unnamed: 0             1296675 non-null  int64  \n",
      " 1   trans_date_trans_time  1296675 non-null  object \n",
      " 2   cc_num                 1296675 non-null  int64  \n",
      " 3   merchant               1296675 non-null  object \n",
      " 4   category               1296675 non-null  object \n",
      " 5   amt                    1295394 non-null  float64\n",
      " 6   first                  1296675 non-null  object \n",
      " 7   last                   1296675 non-null  object \n",
      " 8   gender                 1296675 non-null  object \n",
      " 9   street                 1296675 non-null  object \n",
      " 10  city                   1296675 non-null  object \n",
      " 11  state                  1296675 non-null  object \n",
      " 12  zip                    1296675 non-null  int64  \n",
      " 13  lat                    1296675 non-null  float64\n",
      " 14  long                   1296675 non-null  float64\n",
      " 15  city_pop               1296675 non-null  int64  \n",
      " 16  job                    1296675 non-null  object \n",
      " 17  dob                    1296675 non-null  object \n",
      " 18  trans_num              1296675 non-null  object \n",
      " 19  unix_time              1296524 non-null  float64\n",
      " 20  merch_lat              1296675 non-null  float64\n",
      " 21  merch_long             1296675 non-null  float64\n",
      " 22  is_fraud               1296675 non-null  int64  \n",
      "dtypes: float64(6), int64(5), object(12)\n",
      "memory usage: 227.5+ MB\n"
     ]
    }
   ],
   "source": [
    "dataset.info()"
   ]
  },
  {
   "cell_type": "markdown",
   "id": "65b74a00",
   "metadata": {},
   "source": [
    "### Exploring the dataset's rows and columns"
   ]
  },
  {
   "cell_type": "code",
   "execution_count": 88,
   "id": "90ea3ffe",
   "metadata": {},
   "outputs": [
    {
     "data": {
      "text/html": [
       "<div>\n",
       "<style scoped>\n",
       "    .dataframe tbody tr th:only-of-type {\n",
       "        vertical-align: middle;\n",
       "    }\n",
       "\n",
       "    .dataframe tbody tr th {\n",
       "        vertical-align: top;\n",
       "    }\n",
       "\n",
       "    .dataframe thead th {\n",
       "        text-align: right;\n",
       "    }\n",
       "</style>\n",
       "<table border=\"1\" class=\"dataframe\">\n",
       "  <thead>\n",
       "    <tr style=\"text-align: right;\">\n",
       "      <th></th>\n",
       "      <th>Unnamed: 0</th>\n",
       "      <th>trans_date_trans_time</th>\n",
       "      <th>cc_num</th>\n",
       "      <th>merchant</th>\n",
       "      <th>category</th>\n",
       "      <th>amt</th>\n",
       "      <th>first</th>\n",
       "      <th>last</th>\n",
       "      <th>gender</th>\n",
       "      <th>street</th>\n",
       "      <th>...</th>\n",
       "      <th>lat</th>\n",
       "      <th>long</th>\n",
       "      <th>city_pop</th>\n",
       "      <th>job</th>\n",
       "      <th>dob</th>\n",
       "      <th>trans_num</th>\n",
       "      <th>unix_time</th>\n",
       "      <th>merch_lat</th>\n",
       "      <th>merch_long</th>\n",
       "      <th>is_fraud</th>\n",
       "    </tr>\n",
       "  </thead>\n",
       "  <tbody>\n",
       "    <tr>\n",
       "      <th>0</th>\n",
       "      <td>0</td>\n",
       "      <td>2019-01-01 00:00:18</td>\n",
       "      <td>2703186189652095</td>\n",
       "      <td>fraud_Rippin, Kub and Mann</td>\n",
       "      <td>misc_net</td>\n",
       "      <td>4.97</td>\n",
       "      <td>Jennifer</td>\n",
       "      <td>Banks</td>\n",
       "      <td>F</td>\n",
       "      <td>561 Perry Cove</td>\n",
       "      <td>...</td>\n",
       "      <td>36.0788</td>\n",
       "      <td>-81.1781</td>\n",
       "      <td>3495</td>\n",
       "      <td>Psychologist, counselling</td>\n",
       "      <td>1988-03-09</td>\n",
       "      <td>0b242abb623afc578575680df30655b9</td>\n",
       "      <td>1.325376e+09</td>\n",
       "      <td>36.011293</td>\n",
       "      <td>-82.048315</td>\n",
       "      <td>0</td>\n",
       "    </tr>\n",
       "    <tr>\n",
       "      <th>1</th>\n",
       "      <td>1</td>\n",
       "      <td>2019-01-01 00:00:44</td>\n",
       "      <td>630423337322</td>\n",
       "      <td>fraud_Heller, Gutmann and Zieme</td>\n",
       "      <td>grocery_pos</td>\n",
       "      <td>107.23</td>\n",
       "      <td>Stephanie</td>\n",
       "      <td>Gill</td>\n",
       "      <td>F</td>\n",
       "      <td>43039 Riley Greens Suite 393</td>\n",
       "      <td>...</td>\n",
       "      <td>48.8878</td>\n",
       "      <td>-118.2105</td>\n",
       "      <td>149</td>\n",
       "      <td>Special educational needs teacher</td>\n",
       "      <td>1978-06-21</td>\n",
       "      <td>1f76529f8574734946361c461b024d99</td>\n",
       "      <td>1.325376e+09</td>\n",
       "      <td>49.159047</td>\n",
       "      <td>-118.186462</td>\n",
       "      <td>0</td>\n",
       "    </tr>\n",
       "    <tr>\n",
       "      <th>2</th>\n",
       "      <td>2</td>\n",
       "      <td>2019-01-01 00:00:51</td>\n",
       "      <td>38859492057661</td>\n",
       "      <td>fraud_Lind-Buckridge</td>\n",
       "      <td>entertainment</td>\n",
       "      <td>220.11</td>\n",
       "      <td>Edward</td>\n",
       "      <td>Sanchez</td>\n",
       "      <td>M</td>\n",
       "      <td>594 White Dale Suite 530</td>\n",
       "      <td>...</td>\n",
       "      <td>42.1808</td>\n",
       "      <td>-112.2620</td>\n",
       "      <td>4154</td>\n",
       "      <td>Nature conservation officer</td>\n",
       "      <td>1962-01-19</td>\n",
       "      <td>a1a22d70485983eac12b5b88dad1cf95</td>\n",
       "      <td>1.325376e+09</td>\n",
       "      <td>43.150704</td>\n",
       "      <td>-112.154481</td>\n",
       "      <td>0</td>\n",
       "    </tr>\n",
       "    <tr>\n",
       "      <th>3</th>\n",
       "      <td>3</td>\n",
       "      <td>2019-01-01 00:01:16</td>\n",
       "      <td>3534093764340240</td>\n",
       "      <td>fraud_Kutch, Hermiston and Farrell</td>\n",
       "      <td>gas_transport</td>\n",
       "      <td>45.00</td>\n",
       "      <td>Jeremy</td>\n",
       "      <td>White</td>\n",
       "      <td>M</td>\n",
       "      <td>9443 Cynthia Court Apt. 038</td>\n",
       "      <td>...</td>\n",
       "      <td>46.2306</td>\n",
       "      <td>-112.1138</td>\n",
       "      <td>1939</td>\n",
       "      <td>Patent attorney</td>\n",
       "      <td>1967-01-12</td>\n",
       "      <td>6b849c168bdad6f867558c3793159a81</td>\n",
       "      <td>1.325376e+09</td>\n",
       "      <td>47.034331</td>\n",
       "      <td>-112.561071</td>\n",
       "      <td>0</td>\n",
       "    </tr>\n",
       "    <tr>\n",
       "      <th>4</th>\n",
       "      <td>4</td>\n",
       "      <td>2019-01-01 00:03:06</td>\n",
       "      <td>375534208663984</td>\n",
       "      <td>fraud_Keeling-Crist</td>\n",
       "      <td>misc_pos</td>\n",
       "      <td>41.96</td>\n",
       "      <td>Tyler</td>\n",
       "      <td>Garcia</td>\n",
       "      <td>M</td>\n",
       "      <td>408 Bradley Rest</td>\n",
       "      <td>...</td>\n",
       "      <td>38.4207</td>\n",
       "      <td>-79.4629</td>\n",
       "      <td>99</td>\n",
       "      <td>Dance movement psychotherapist</td>\n",
       "      <td>1986-03-28</td>\n",
       "      <td>a41d7549acf90789359a9aa5346dcb46</td>\n",
       "      <td>1.325376e+09</td>\n",
       "      <td>38.674999</td>\n",
       "      <td>-78.632459</td>\n",
       "      <td>0</td>\n",
       "    </tr>\n",
       "  </tbody>\n",
       "</table>\n",
       "<p>5 rows × 23 columns</p>\n",
       "</div>"
      ],
      "text/plain": [
       "   Unnamed: 0 trans_date_trans_time            cc_num  \\\n",
       "0           0   2019-01-01 00:00:18  2703186189652095   \n",
       "1           1   2019-01-01 00:00:44      630423337322   \n",
       "2           2   2019-01-01 00:00:51    38859492057661   \n",
       "3           3   2019-01-01 00:01:16  3534093764340240   \n",
       "4           4   2019-01-01 00:03:06   375534208663984   \n",
       "\n",
       "                             merchant       category     amt      first  \\\n",
       "0          fraud_Rippin, Kub and Mann       misc_net    4.97   Jennifer   \n",
       "1     fraud_Heller, Gutmann and Zieme    grocery_pos  107.23  Stephanie   \n",
       "2                fraud_Lind-Buckridge  entertainment  220.11     Edward   \n",
       "3  fraud_Kutch, Hermiston and Farrell  gas_transport   45.00     Jeremy   \n",
       "4                 fraud_Keeling-Crist       misc_pos   41.96      Tyler   \n",
       "\n",
       "      last gender                        street  ...      lat      long  \\\n",
       "0    Banks      F                561 Perry Cove  ...  36.0788  -81.1781   \n",
       "1     Gill      F  43039 Riley Greens Suite 393  ...  48.8878 -118.2105   \n",
       "2  Sanchez      M      594 White Dale Suite 530  ...  42.1808 -112.2620   \n",
       "3    White      M   9443 Cynthia Court Apt. 038  ...  46.2306 -112.1138   \n",
       "4   Garcia      M              408 Bradley Rest  ...  38.4207  -79.4629   \n",
       "\n",
       "   city_pop                                job         dob  \\\n",
       "0      3495          Psychologist, counselling  1988-03-09   \n",
       "1       149  Special educational needs teacher  1978-06-21   \n",
       "2      4154        Nature conservation officer  1962-01-19   \n",
       "3      1939                    Patent attorney  1967-01-12   \n",
       "4        99     Dance movement psychotherapist  1986-03-28   \n",
       "\n",
       "                          trans_num     unix_time  merch_lat  merch_long  \\\n",
       "0  0b242abb623afc578575680df30655b9  1.325376e+09  36.011293  -82.048315   \n",
       "1  1f76529f8574734946361c461b024d99  1.325376e+09  49.159047 -118.186462   \n",
       "2  a1a22d70485983eac12b5b88dad1cf95  1.325376e+09  43.150704 -112.154481   \n",
       "3  6b849c168bdad6f867558c3793159a81  1.325376e+09  47.034331 -112.561071   \n",
       "4  a41d7549acf90789359a9aa5346dcb46  1.325376e+09  38.674999  -78.632459   \n",
       "\n",
       "   is_fraud  \n",
       "0         0  \n",
       "1         0  \n",
       "2         0  \n",
       "3         0  \n",
       "4         0  \n",
       "\n",
       "[5 rows x 23 columns]"
      ]
     },
     "execution_count": 88,
     "metadata": {},
     "output_type": "execute_result"
    }
   ],
   "source": [
    "dataset.head()"
   ]
  },
  {
   "cell_type": "markdown",
   "id": "12b83b23",
   "metadata": {},
   "source": [
    "### Unbalaced dataset"
   ]
  },
  {
   "cell_type": "code",
   "execution_count": 5,
   "id": "d30d941e",
   "metadata": {},
   "outputs": [
    {
     "data": {
      "text/plain": [
       "0    1289169\n",
       "1       7506\n",
       "Name: is_fraud, dtype: int64"
      ]
     },
     "execution_count": 5,
     "metadata": {},
     "output_type": "execute_result"
    }
   ],
   "source": [
    "dataset['is_fraud'].value_counts()"
   ]
  },
  {
   "cell_type": "code",
   "execution_count": 89,
   "id": "8751ef92",
   "metadata": {},
   "outputs": [
    {
     "data": {
      "application/vnd.plotly.v1+json": {
       "config": {
        "plotlyServerURL": "https://plot.ly"
       },
       "data": [
        {
         "domain": {
          "x": [
           0,
           1
          ],
          "y": [
           0,
           1
          ]
         },
         "hovertemplate": "label=%{label}<br>value=%{value}<extra></extra>",
         "labels": [
          "Genuine",
          "Fraud"
         ],
         "legendgroup": "",
         "name": "",
         "showlegend": true,
         "type": "pie",
         "values": [
          1289169,
          7506
         ]
        }
       ],
       "layout": {
        "height": 400,
        "legend": {
         "tracegroupgap": 0
        },
        "piecolorway": [
         "skyblue",
         "black"
        ],
        "template": {
         "data": {
          "bar": [
           {
            "error_x": {
             "color": "#2a3f5f"
            },
            "error_y": {
             "color": "#2a3f5f"
            },
            "marker": {
             "line": {
              "color": "#E5ECF6",
              "width": 0.5
             },
             "pattern": {
              "fillmode": "overlay",
              "size": 10,
              "solidity": 0.2
             }
            },
            "type": "bar"
           }
          ],
          "barpolar": [
           {
            "marker": {
             "line": {
              "color": "#E5ECF6",
              "width": 0.5
             },
             "pattern": {
              "fillmode": "overlay",
              "size": 10,
              "solidity": 0.2
             }
            },
            "type": "barpolar"
           }
          ],
          "carpet": [
           {
            "aaxis": {
             "endlinecolor": "#2a3f5f",
             "gridcolor": "white",
             "linecolor": "white",
             "minorgridcolor": "white",
             "startlinecolor": "#2a3f5f"
            },
            "baxis": {
             "endlinecolor": "#2a3f5f",
             "gridcolor": "white",
             "linecolor": "white",
             "minorgridcolor": "white",
             "startlinecolor": "#2a3f5f"
            },
            "type": "carpet"
           }
          ],
          "choropleth": [
           {
            "colorbar": {
             "outlinewidth": 0,
             "ticks": ""
            },
            "type": "choropleth"
           }
          ],
          "contour": [
           {
            "colorbar": {
             "outlinewidth": 0,
             "ticks": ""
            },
            "colorscale": [
             [
              0,
              "#0d0887"
             ],
             [
              0.1111111111111111,
              "#46039f"
             ],
             [
              0.2222222222222222,
              "#7201a8"
             ],
             [
              0.3333333333333333,
              "#9c179e"
             ],
             [
              0.4444444444444444,
              "#bd3786"
             ],
             [
              0.5555555555555556,
              "#d8576b"
             ],
             [
              0.6666666666666666,
              "#ed7953"
             ],
             [
              0.7777777777777778,
              "#fb9f3a"
             ],
             [
              0.8888888888888888,
              "#fdca26"
             ],
             [
              1,
              "#f0f921"
             ]
            ],
            "type": "contour"
           }
          ],
          "contourcarpet": [
           {
            "colorbar": {
             "outlinewidth": 0,
             "ticks": ""
            },
            "type": "contourcarpet"
           }
          ],
          "heatmap": [
           {
            "colorbar": {
             "outlinewidth": 0,
             "ticks": ""
            },
            "colorscale": [
             [
              0,
              "#0d0887"
             ],
             [
              0.1111111111111111,
              "#46039f"
             ],
             [
              0.2222222222222222,
              "#7201a8"
             ],
             [
              0.3333333333333333,
              "#9c179e"
             ],
             [
              0.4444444444444444,
              "#bd3786"
             ],
             [
              0.5555555555555556,
              "#d8576b"
             ],
             [
              0.6666666666666666,
              "#ed7953"
             ],
             [
              0.7777777777777778,
              "#fb9f3a"
             ],
             [
              0.8888888888888888,
              "#fdca26"
             ],
             [
              1,
              "#f0f921"
             ]
            ],
            "type": "heatmap"
           }
          ],
          "heatmapgl": [
           {
            "colorbar": {
             "outlinewidth": 0,
             "ticks": ""
            },
            "colorscale": [
             [
              0,
              "#0d0887"
             ],
             [
              0.1111111111111111,
              "#46039f"
             ],
             [
              0.2222222222222222,
              "#7201a8"
             ],
             [
              0.3333333333333333,
              "#9c179e"
             ],
             [
              0.4444444444444444,
              "#bd3786"
             ],
             [
              0.5555555555555556,
              "#d8576b"
             ],
             [
              0.6666666666666666,
              "#ed7953"
             ],
             [
              0.7777777777777778,
              "#fb9f3a"
             ],
             [
              0.8888888888888888,
              "#fdca26"
             ],
             [
              1,
              "#f0f921"
             ]
            ],
            "type": "heatmapgl"
           }
          ],
          "histogram": [
           {
            "marker": {
             "pattern": {
              "fillmode": "overlay",
              "size": 10,
              "solidity": 0.2
             }
            },
            "type": "histogram"
           }
          ],
          "histogram2d": [
           {
            "colorbar": {
             "outlinewidth": 0,
             "ticks": ""
            },
            "colorscale": [
             [
              0,
              "#0d0887"
             ],
             [
              0.1111111111111111,
              "#46039f"
             ],
             [
              0.2222222222222222,
              "#7201a8"
             ],
             [
              0.3333333333333333,
              "#9c179e"
             ],
             [
              0.4444444444444444,
              "#bd3786"
             ],
             [
              0.5555555555555556,
              "#d8576b"
             ],
             [
              0.6666666666666666,
              "#ed7953"
             ],
             [
              0.7777777777777778,
              "#fb9f3a"
             ],
             [
              0.8888888888888888,
              "#fdca26"
             ],
             [
              1,
              "#f0f921"
             ]
            ],
            "type": "histogram2d"
           }
          ],
          "histogram2dcontour": [
           {
            "colorbar": {
             "outlinewidth": 0,
             "ticks": ""
            },
            "colorscale": [
             [
              0,
              "#0d0887"
             ],
             [
              0.1111111111111111,
              "#46039f"
             ],
             [
              0.2222222222222222,
              "#7201a8"
             ],
             [
              0.3333333333333333,
              "#9c179e"
             ],
             [
              0.4444444444444444,
              "#bd3786"
             ],
             [
              0.5555555555555556,
              "#d8576b"
             ],
             [
              0.6666666666666666,
              "#ed7953"
             ],
             [
              0.7777777777777778,
              "#fb9f3a"
             ],
             [
              0.8888888888888888,
              "#fdca26"
             ],
             [
              1,
              "#f0f921"
             ]
            ],
            "type": "histogram2dcontour"
           }
          ],
          "mesh3d": [
           {
            "colorbar": {
             "outlinewidth": 0,
             "ticks": ""
            },
            "type": "mesh3d"
           }
          ],
          "parcoords": [
           {
            "line": {
             "colorbar": {
              "outlinewidth": 0,
              "ticks": ""
             }
            },
            "type": "parcoords"
           }
          ],
          "pie": [
           {
            "automargin": true,
            "type": "pie"
           }
          ],
          "scatter": [
           {
            "fillpattern": {
             "fillmode": "overlay",
             "size": 10,
             "solidity": 0.2
            },
            "type": "scatter"
           }
          ],
          "scatter3d": [
           {
            "line": {
             "colorbar": {
              "outlinewidth": 0,
              "ticks": ""
             }
            },
            "marker": {
             "colorbar": {
              "outlinewidth": 0,
              "ticks": ""
             }
            },
            "type": "scatter3d"
           }
          ],
          "scattercarpet": [
           {
            "marker": {
             "colorbar": {
              "outlinewidth": 0,
              "ticks": ""
             }
            },
            "type": "scattercarpet"
           }
          ],
          "scattergeo": [
           {
            "marker": {
             "colorbar": {
              "outlinewidth": 0,
              "ticks": ""
             }
            },
            "type": "scattergeo"
           }
          ],
          "scattergl": [
           {
            "marker": {
             "colorbar": {
              "outlinewidth": 0,
              "ticks": ""
             }
            },
            "type": "scattergl"
           }
          ],
          "scattermapbox": [
           {
            "marker": {
             "colorbar": {
              "outlinewidth": 0,
              "ticks": ""
             }
            },
            "type": "scattermapbox"
           }
          ],
          "scatterpolar": [
           {
            "marker": {
             "colorbar": {
              "outlinewidth": 0,
              "ticks": ""
             }
            },
            "type": "scatterpolar"
           }
          ],
          "scatterpolargl": [
           {
            "marker": {
             "colorbar": {
              "outlinewidth": 0,
              "ticks": ""
             }
            },
            "type": "scatterpolargl"
           }
          ],
          "scatterternary": [
           {
            "marker": {
             "colorbar": {
              "outlinewidth": 0,
              "ticks": ""
             }
            },
            "type": "scatterternary"
           }
          ],
          "surface": [
           {
            "colorbar": {
             "outlinewidth": 0,
             "ticks": ""
            },
            "colorscale": [
             [
              0,
              "#0d0887"
             ],
             [
              0.1111111111111111,
              "#46039f"
             ],
             [
              0.2222222222222222,
              "#7201a8"
             ],
             [
              0.3333333333333333,
              "#9c179e"
             ],
             [
              0.4444444444444444,
              "#bd3786"
             ],
             [
              0.5555555555555556,
              "#d8576b"
             ],
             [
              0.6666666666666666,
              "#ed7953"
             ],
             [
              0.7777777777777778,
              "#fb9f3a"
             ],
             [
              0.8888888888888888,
              "#fdca26"
             ],
             [
              1,
              "#f0f921"
             ]
            ],
            "type": "surface"
           }
          ],
          "table": [
           {
            "cells": {
             "fill": {
              "color": "#EBF0F8"
             },
             "line": {
              "color": "white"
             }
            },
            "header": {
             "fill": {
              "color": "#C8D4E3"
             },
             "line": {
              "color": "white"
             }
            },
            "type": "table"
           }
          ]
         },
         "layout": {
          "annotationdefaults": {
           "arrowcolor": "#2a3f5f",
           "arrowhead": 0,
           "arrowwidth": 1
          },
          "autotypenumbers": "strict",
          "coloraxis": {
           "colorbar": {
            "outlinewidth": 0,
            "ticks": ""
           }
          },
          "colorscale": {
           "diverging": [
            [
             0,
             "#8e0152"
            ],
            [
             0.1,
             "#c51b7d"
            ],
            [
             0.2,
             "#de77ae"
            ],
            [
             0.3,
             "#f1b6da"
            ],
            [
             0.4,
             "#fde0ef"
            ],
            [
             0.5,
             "#f7f7f7"
            ],
            [
             0.6,
             "#e6f5d0"
            ],
            [
             0.7,
             "#b8e186"
            ],
            [
             0.8,
             "#7fbc41"
            ],
            [
             0.9,
             "#4d9221"
            ],
            [
             1,
             "#276419"
            ]
           ],
           "sequential": [
            [
             0,
             "#0d0887"
            ],
            [
             0.1111111111111111,
             "#46039f"
            ],
            [
             0.2222222222222222,
             "#7201a8"
            ],
            [
             0.3333333333333333,
             "#9c179e"
            ],
            [
             0.4444444444444444,
             "#bd3786"
            ],
            [
             0.5555555555555556,
             "#d8576b"
            ],
            [
             0.6666666666666666,
             "#ed7953"
            ],
            [
             0.7777777777777778,
             "#fb9f3a"
            ],
            [
             0.8888888888888888,
             "#fdca26"
            ],
            [
             1,
             "#f0f921"
            ]
           ],
           "sequentialminus": [
            [
             0,
             "#0d0887"
            ],
            [
             0.1111111111111111,
             "#46039f"
            ],
            [
             0.2222222222222222,
             "#7201a8"
            ],
            [
             0.3333333333333333,
             "#9c179e"
            ],
            [
             0.4444444444444444,
             "#bd3786"
            ],
            [
             0.5555555555555556,
             "#d8576b"
            ],
            [
             0.6666666666666666,
             "#ed7953"
            ],
            [
             0.7777777777777778,
             "#fb9f3a"
            ],
            [
             0.8888888888888888,
             "#fdca26"
            ],
            [
             1,
             "#f0f921"
            ]
           ]
          },
          "colorway": [
           "#636efa",
           "#EF553B",
           "#00cc96",
           "#ab63fa",
           "#FFA15A",
           "#19d3f3",
           "#FF6692",
           "#B6E880",
           "#FF97FF",
           "#FECB52"
          ],
          "font": {
           "color": "#2a3f5f"
          },
          "geo": {
           "bgcolor": "white",
           "lakecolor": "white",
           "landcolor": "#E5ECF6",
           "showlakes": true,
           "showland": true,
           "subunitcolor": "white"
          },
          "hoverlabel": {
           "align": "left"
          },
          "hovermode": "closest",
          "mapbox": {
           "style": "light"
          },
          "paper_bgcolor": "white",
          "plot_bgcolor": "#E5ECF6",
          "polar": {
           "angularaxis": {
            "gridcolor": "white",
            "linecolor": "white",
            "ticks": ""
           },
           "bgcolor": "#E5ECF6",
           "radialaxis": {
            "gridcolor": "white",
            "linecolor": "white",
            "ticks": ""
           }
          },
          "scene": {
           "xaxis": {
            "backgroundcolor": "#E5ECF6",
            "gridcolor": "white",
            "gridwidth": 2,
            "linecolor": "white",
            "showbackground": true,
            "ticks": "",
            "zerolinecolor": "white"
           },
           "yaxis": {
            "backgroundcolor": "#E5ECF6",
            "gridcolor": "white",
            "gridwidth": 2,
            "linecolor": "white",
            "showbackground": true,
            "ticks": "",
            "zerolinecolor": "white"
           },
           "zaxis": {
            "backgroundcolor": "#E5ECF6",
            "gridcolor": "white",
            "gridwidth": 2,
            "linecolor": "white",
            "showbackground": true,
            "ticks": "",
            "zerolinecolor": "white"
           }
          },
          "shapedefaults": {
           "line": {
            "color": "#2a3f5f"
           }
          },
          "ternary": {
           "aaxis": {
            "gridcolor": "white",
            "linecolor": "white",
            "ticks": ""
           },
           "baxis": {
            "gridcolor": "white",
            "linecolor": "white",
            "ticks": ""
           },
           "bgcolor": "#E5ECF6",
           "caxis": {
            "gridcolor": "white",
            "linecolor": "white",
            "ticks": ""
           }
          },
          "title": {
           "x": 0.05
          },
          "xaxis": {
           "automargin": true,
           "gridcolor": "white",
           "linecolor": "white",
           "ticks": "",
           "title": {
            "standoff": 15
           },
           "zerolinecolor": "white",
           "zerolinewidth": 2
          },
          "yaxis": {
           "automargin": true,
           "gridcolor": "white",
           "linecolor": "white",
           "ticks": "",
           "title": {
            "standoff": 15
           },
           "zerolinecolor": "white",
           "zerolinewidth": 2
          }
         }
        },
        "title": {
         "text": "Fraud vs Genuine Transactions"
        },
        "width": 700
       }
      },
      "text/html": [
       "<div>                            <div id=\"94b10cda-196c-4ce6-b66c-bb09e0e53d16\" class=\"plotly-graph-div\" style=\"height:400px; width:700px;\"></div>            <script type=\"text/javascript\">                require([\"plotly\"], function(Plotly) {                    window.PLOTLYENV=window.PLOTLYENV || {};                                    if (document.getElementById(\"94b10cda-196c-4ce6-b66c-bb09e0e53d16\")) {                    Plotly.newPlot(                        \"94b10cda-196c-4ce6-b66c-bb09e0e53d16\",                        [{\"domain\":{\"x\":[0.0,1.0],\"y\":[0.0,1.0]},\"hovertemplate\":\"label=%{label}<br>value=%{value}<extra></extra>\",\"labels\":[\"Genuine\",\"Fraud\"],\"legendgroup\":\"\",\"name\":\"\",\"showlegend\":true,\"values\":[1289169,7506],\"type\":\"pie\"}],                        {\"template\":{\"data\":{\"histogram2dcontour\":[{\"type\":\"histogram2dcontour\",\"colorbar\":{\"outlinewidth\":0,\"ticks\":\"\"},\"colorscale\":[[0.0,\"#0d0887\"],[0.1111111111111111,\"#46039f\"],[0.2222222222222222,\"#7201a8\"],[0.3333333333333333,\"#9c179e\"],[0.4444444444444444,\"#bd3786\"],[0.5555555555555556,\"#d8576b\"],[0.6666666666666666,\"#ed7953\"],[0.7777777777777778,\"#fb9f3a\"],[0.8888888888888888,\"#fdca26\"],[1.0,\"#f0f921\"]]}],\"choropleth\":[{\"type\":\"choropleth\",\"colorbar\":{\"outlinewidth\":0,\"ticks\":\"\"}}],\"histogram2d\":[{\"type\":\"histogram2d\",\"colorbar\":{\"outlinewidth\":0,\"ticks\":\"\"},\"colorscale\":[[0.0,\"#0d0887\"],[0.1111111111111111,\"#46039f\"],[0.2222222222222222,\"#7201a8\"],[0.3333333333333333,\"#9c179e\"],[0.4444444444444444,\"#bd3786\"],[0.5555555555555556,\"#d8576b\"],[0.6666666666666666,\"#ed7953\"],[0.7777777777777778,\"#fb9f3a\"],[0.8888888888888888,\"#fdca26\"],[1.0,\"#f0f921\"]]}],\"heatmap\":[{\"type\":\"heatmap\",\"colorbar\":{\"outlinewidth\":0,\"ticks\":\"\"},\"colorscale\":[[0.0,\"#0d0887\"],[0.1111111111111111,\"#46039f\"],[0.2222222222222222,\"#7201a8\"],[0.3333333333333333,\"#9c179e\"],[0.4444444444444444,\"#bd3786\"],[0.5555555555555556,\"#d8576b\"],[0.6666666666666666,\"#ed7953\"],[0.7777777777777778,\"#fb9f3a\"],[0.8888888888888888,\"#fdca26\"],[1.0,\"#f0f921\"]]}],\"heatmapgl\":[{\"type\":\"heatmapgl\",\"colorbar\":{\"outlinewidth\":0,\"ticks\":\"\"},\"colorscale\":[[0.0,\"#0d0887\"],[0.1111111111111111,\"#46039f\"],[0.2222222222222222,\"#7201a8\"],[0.3333333333333333,\"#9c179e\"],[0.4444444444444444,\"#bd3786\"],[0.5555555555555556,\"#d8576b\"],[0.6666666666666666,\"#ed7953\"],[0.7777777777777778,\"#fb9f3a\"],[0.8888888888888888,\"#fdca26\"],[1.0,\"#f0f921\"]]}],\"contourcarpet\":[{\"type\":\"contourcarpet\",\"colorbar\":{\"outlinewidth\":0,\"ticks\":\"\"}}],\"contour\":[{\"type\":\"contour\",\"colorbar\":{\"outlinewidth\":0,\"ticks\":\"\"},\"colorscale\":[[0.0,\"#0d0887\"],[0.1111111111111111,\"#46039f\"],[0.2222222222222222,\"#7201a8\"],[0.3333333333333333,\"#9c179e\"],[0.4444444444444444,\"#bd3786\"],[0.5555555555555556,\"#d8576b\"],[0.6666666666666666,\"#ed7953\"],[0.7777777777777778,\"#fb9f3a\"],[0.8888888888888888,\"#fdca26\"],[1.0,\"#f0f921\"]]}],\"surface\":[{\"type\":\"surface\",\"colorbar\":{\"outlinewidth\":0,\"ticks\":\"\"},\"colorscale\":[[0.0,\"#0d0887\"],[0.1111111111111111,\"#46039f\"],[0.2222222222222222,\"#7201a8\"],[0.3333333333333333,\"#9c179e\"],[0.4444444444444444,\"#bd3786\"],[0.5555555555555556,\"#d8576b\"],[0.6666666666666666,\"#ed7953\"],[0.7777777777777778,\"#fb9f3a\"],[0.8888888888888888,\"#fdca26\"],[1.0,\"#f0f921\"]]}],\"mesh3d\":[{\"type\":\"mesh3d\",\"colorbar\":{\"outlinewidth\":0,\"ticks\":\"\"}}],\"scatter\":[{\"fillpattern\":{\"fillmode\":\"overlay\",\"size\":10,\"solidity\":0.2},\"type\":\"scatter\"}],\"parcoords\":[{\"type\":\"parcoords\",\"line\":{\"colorbar\":{\"outlinewidth\":0,\"ticks\":\"\"}}}],\"scatterpolargl\":[{\"type\":\"scatterpolargl\",\"marker\":{\"colorbar\":{\"outlinewidth\":0,\"ticks\":\"\"}}}],\"bar\":[{\"error_x\":{\"color\":\"#2a3f5f\"},\"error_y\":{\"color\":\"#2a3f5f\"},\"marker\":{\"line\":{\"color\":\"#E5ECF6\",\"width\":0.5},\"pattern\":{\"fillmode\":\"overlay\",\"size\":10,\"solidity\":0.2}},\"type\":\"bar\"}],\"scattergeo\":[{\"type\":\"scattergeo\",\"marker\":{\"colorbar\":{\"outlinewidth\":0,\"ticks\":\"\"}}}],\"scatterpolar\":[{\"type\":\"scatterpolar\",\"marker\":{\"colorbar\":{\"outlinewidth\":0,\"ticks\":\"\"}}}],\"histogram\":[{\"marker\":{\"pattern\":{\"fillmode\":\"overlay\",\"size\":10,\"solidity\":0.2}},\"type\":\"histogram\"}],\"scattergl\":[{\"type\":\"scattergl\",\"marker\":{\"colorbar\":{\"outlinewidth\":0,\"ticks\":\"\"}}}],\"scatter3d\":[{\"type\":\"scatter3d\",\"line\":{\"colorbar\":{\"outlinewidth\":0,\"ticks\":\"\"}},\"marker\":{\"colorbar\":{\"outlinewidth\":0,\"ticks\":\"\"}}}],\"scattermapbox\":[{\"type\":\"scattermapbox\",\"marker\":{\"colorbar\":{\"outlinewidth\":0,\"ticks\":\"\"}}}],\"scatterternary\":[{\"type\":\"scatterternary\",\"marker\":{\"colorbar\":{\"outlinewidth\":0,\"ticks\":\"\"}}}],\"scattercarpet\":[{\"type\":\"scattercarpet\",\"marker\":{\"colorbar\":{\"outlinewidth\":0,\"ticks\":\"\"}}}],\"carpet\":[{\"aaxis\":{\"endlinecolor\":\"#2a3f5f\",\"gridcolor\":\"white\",\"linecolor\":\"white\",\"minorgridcolor\":\"white\",\"startlinecolor\":\"#2a3f5f\"},\"baxis\":{\"endlinecolor\":\"#2a3f5f\",\"gridcolor\":\"white\",\"linecolor\":\"white\",\"minorgridcolor\":\"white\",\"startlinecolor\":\"#2a3f5f\"},\"type\":\"carpet\"}],\"table\":[{\"cells\":{\"fill\":{\"color\":\"#EBF0F8\"},\"line\":{\"color\":\"white\"}},\"header\":{\"fill\":{\"color\":\"#C8D4E3\"},\"line\":{\"color\":\"white\"}},\"type\":\"table\"}],\"barpolar\":[{\"marker\":{\"line\":{\"color\":\"#E5ECF6\",\"width\":0.5},\"pattern\":{\"fillmode\":\"overlay\",\"size\":10,\"solidity\":0.2}},\"type\":\"barpolar\"}],\"pie\":[{\"automargin\":true,\"type\":\"pie\"}]},\"layout\":{\"autotypenumbers\":\"strict\",\"colorway\":[\"#636efa\",\"#EF553B\",\"#00cc96\",\"#ab63fa\",\"#FFA15A\",\"#19d3f3\",\"#FF6692\",\"#B6E880\",\"#FF97FF\",\"#FECB52\"],\"font\":{\"color\":\"#2a3f5f\"},\"hovermode\":\"closest\",\"hoverlabel\":{\"align\":\"left\"},\"paper_bgcolor\":\"white\",\"plot_bgcolor\":\"#E5ECF6\",\"polar\":{\"bgcolor\":\"#E5ECF6\",\"angularaxis\":{\"gridcolor\":\"white\",\"linecolor\":\"white\",\"ticks\":\"\"},\"radialaxis\":{\"gridcolor\":\"white\",\"linecolor\":\"white\",\"ticks\":\"\"}},\"ternary\":{\"bgcolor\":\"#E5ECF6\",\"aaxis\":{\"gridcolor\":\"white\",\"linecolor\":\"white\",\"ticks\":\"\"},\"baxis\":{\"gridcolor\":\"white\",\"linecolor\":\"white\",\"ticks\":\"\"},\"caxis\":{\"gridcolor\":\"white\",\"linecolor\":\"white\",\"ticks\":\"\"}},\"coloraxis\":{\"colorbar\":{\"outlinewidth\":0,\"ticks\":\"\"}},\"colorscale\":{\"sequential\":[[0.0,\"#0d0887\"],[0.1111111111111111,\"#46039f\"],[0.2222222222222222,\"#7201a8\"],[0.3333333333333333,\"#9c179e\"],[0.4444444444444444,\"#bd3786\"],[0.5555555555555556,\"#d8576b\"],[0.6666666666666666,\"#ed7953\"],[0.7777777777777778,\"#fb9f3a\"],[0.8888888888888888,\"#fdca26\"],[1.0,\"#f0f921\"]],\"sequentialminus\":[[0.0,\"#0d0887\"],[0.1111111111111111,\"#46039f\"],[0.2222222222222222,\"#7201a8\"],[0.3333333333333333,\"#9c179e\"],[0.4444444444444444,\"#bd3786\"],[0.5555555555555556,\"#d8576b\"],[0.6666666666666666,\"#ed7953\"],[0.7777777777777778,\"#fb9f3a\"],[0.8888888888888888,\"#fdca26\"],[1.0,\"#f0f921\"]],\"diverging\":[[0,\"#8e0152\"],[0.1,\"#c51b7d\"],[0.2,\"#de77ae\"],[0.3,\"#f1b6da\"],[0.4,\"#fde0ef\"],[0.5,\"#f7f7f7\"],[0.6,\"#e6f5d0\"],[0.7,\"#b8e186\"],[0.8,\"#7fbc41\"],[0.9,\"#4d9221\"],[1,\"#276419\"]]},\"xaxis\":{\"gridcolor\":\"white\",\"linecolor\":\"white\",\"ticks\":\"\",\"title\":{\"standoff\":15},\"zerolinecolor\":\"white\",\"automargin\":true,\"zerolinewidth\":2},\"yaxis\":{\"gridcolor\":\"white\",\"linecolor\":\"white\",\"ticks\":\"\",\"title\":{\"standoff\":15},\"zerolinecolor\":\"white\",\"automargin\":true,\"zerolinewidth\":2},\"scene\":{\"xaxis\":{\"backgroundcolor\":\"#E5ECF6\",\"gridcolor\":\"white\",\"linecolor\":\"white\",\"showbackground\":true,\"ticks\":\"\",\"zerolinecolor\":\"white\",\"gridwidth\":2},\"yaxis\":{\"backgroundcolor\":\"#E5ECF6\",\"gridcolor\":\"white\",\"linecolor\":\"white\",\"showbackground\":true,\"ticks\":\"\",\"zerolinecolor\":\"white\",\"gridwidth\":2},\"zaxis\":{\"backgroundcolor\":\"#E5ECF6\",\"gridcolor\":\"white\",\"linecolor\":\"white\",\"showbackground\":true,\"ticks\":\"\",\"zerolinecolor\":\"white\",\"gridwidth\":2}},\"shapedefaults\":{\"line\":{\"color\":\"#2a3f5f\"}},\"annotationdefaults\":{\"arrowcolor\":\"#2a3f5f\",\"arrowhead\":0,\"arrowwidth\":1},\"geo\":{\"bgcolor\":\"white\",\"landcolor\":\"#E5ECF6\",\"subunitcolor\":\"white\",\"showland\":true,\"showlakes\":true,\"lakecolor\":\"white\"},\"title\":{\"x\":0.05},\"mapbox\":{\"style\":\"light\"}}},\"legend\":{\"tracegroupgap\":0},\"title\":{\"text\":\"Fraud vs Genuine Transactions\"},\"piecolorway\":[\"skyblue\",\"black\"],\"height\":400,\"width\":700},                        {\"responsive\": true}                    ).then(function(){\n",
       "                            \n",
       "var gd = document.getElementById('94b10cda-196c-4ce6-b66c-bb09e0e53d16');\n",
       "var x = new MutationObserver(function (mutations, observer) {{\n",
       "        var display = window.getComputedStyle(gd).display;\n",
       "        if (!display || display === 'none') {{\n",
       "            console.log([gd, 'removed!']);\n",
       "            Plotly.purge(gd);\n",
       "            observer.disconnect();\n",
       "        }}\n",
       "}});\n",
       "\n",
       "// Listen for the removal of the full notebook cells\n",
       "var notebookContainer = gd.closest('#notebook-container');\n",
       "if (notebookContainer) {{\n",
       "    x.observe(notebookContainer, {childList: true});\n",
       "}}\n",
       "\n",
       "// Listen for the clearing of the current output cell\n",
       "var outputEl = gd.closest('.output');\n",
       "if (outputEl) {{\n",
       "    x.observe(outputEl, {childList: true});\n",
       "}}\n",
       "\n",
       "                        })                };                });            </script>        </div>"
      ]
     },
     "metadata": {},
     "output_type": "display_data"
    }
   ],
   "source": [
    "labels=[\"Genuine\",\"Fraud\"]\n",
    "\n",
    "fraud_or_not = dataset[\"is_fraud\"].value_counts().tolist()\n",
    "values = [fraud_or_not[0], fraud_or_not[1]]\n",
    "\n",
    "fig = px.pie(values=dataset['is_fraud'].value_counts(), names=labels , width=700, height=400, color_discrete_sequence=[\"skyblue\",\"black\"]\n",
    "             ,title=\"Fraud vs Genuine Transactions\")\n",
    "fig.show()"
   ]
  },
  {
   "cell_type": "markdown",
   "id": "cb1df8f7",
   "metadata": {},
   "source": [
    "### Data pre-processing"
   ]
  },
  {
   "cell_type": "code",
   "execution_count": 90,
   "id": "70962c35",
   "metadata": {},
   "outputs": [
    {
     "data": {
      "text/plain": [
       "Unnamed: 0                  0\n",
       "trans_date_trans_time       0\n",
       "cc_num                      0\n",
       "merchant                    0\n",
       "category                    0\n",
       "amt                      1281\n",
       "first                       0\n",
       "last                        0\n",
       "gender                      0\n",
       "street                      0\n",
       "city                        0\n",
       "state                       0\n",
       "zip                         0\n",
       "lat                         0\n",
       "long                        0\n",
       "city_pop                    0\n",
       "job                         0\n",
       "dob                         0\n",
       "trans_num                   0\n",
       "unix_time                 151\n",
       "merch_lat                   0\n",
       "merch_long                  0\n",
       "is_fraud                    0\n",
       "dtype: int64"
      ]
     },
     "execution_count": 90,
     "metadata": {},
     "output_type": "execute_result"
    }
   ],
   "source": [
    "dataset.isnull().sum()"
   ]
  },
  {
   "cell_type": "markdown",
   "id": "cd27a21b",
   "metadata": {},
   "source": [
    "###  Handling with Null values"
   ]
  },
  {
   "cell_type": "code",
   "execution_count": 91,
   "id": "d775a6ac",
   "metadata": {},
   "outputs": [
    {
     "name": "stdout",
     "output_type": "stream",
     "text": [
      "Mean: 70.35528299498066\n",
      "Mode: 1.14\n",
      "Median: 47.52\n"
     ]
    }
   ],
   "source": [
    "mean = dataset['amt'].mean()\n",
    "mode = dataset['amt'].mode().values[0]\n",
    "median = dataset['amt'].median()\n",
    "\n",
    "print('Mean:', mean)\n",
    "print('Mode:', mode)\n",
    "print('Median:', median)"
   ]
  },
  {
   "cell_type": "code",
   "execution_count": 9,
   "id": "1e6c87f7",
   "metadata": {},
   "outputs": [
    {
     "data": {
      "image/png": "[encoded data removed]",
      "text/plain": [
       "<Figure size 640x480 with 1 Axes>"
      ]
     },
     "metadata": {},
     "output_type": "display_data"
    }
   ],
   "source": [
    "# calculate the percentage of values that are closest to mean, mode, and median\n",
    "dataset['closest_to_mean'] = abs(dataset['amt'] - mean) <= abs(dataset['amt'] - mode)\n",
    "dataset['closest_to_mode'] = dataset['amt'] == mode\n",
    "dataset['closest_to_median'] = abs(dataset['amt'] - median) <= abs(dataset['amt'] - mode)\n",
    "\n",
    "# calculate the percentage of values that are closest to mean, mode, and median with respect to all values in the column\n",
    "percentage_closest_to_mean = round((dataset['closest_to_mean'].sum() / dataset['amt'].count()) * 100, 2)\n",
    "percentage_closest_to_mode = round((dataset['closest_to_mode'].sum() / dataset['amt'].count()) * 100, 2)\n",
    "percentage_closest_to_median = round((dataset['closest_to_median'].sum() / dataset['amt'].count()) * 100, 2)\n",
    "\n",
    "# create a pie chart showing the percentage of values that are closest to mean, mode, and median with respect to all values in the column\n",
    "labels = ['Closest to Mean', 'Closest to Mode', 'Closest to Median']\n",
    "sizes = [percentage_closest_to_mean, percentage_closest_to_mode, percentage_closest_to_median]\n",
    "colors = ['#1f77b4', '#ff7f0e', '#2ca02c']\n",
    "explode = (0.1, 0, 0)\n",
    "plt.pie(sizes, labels=labels, colors=colors, explode=explode, autopct='%1.1f%%', startangle=90)\n",
    "plt.axis('equal')\n",
    "plt.title('Percentage of Values Closest to Mean, Mode, and Median')\n",
    "plt.show()"
   ]
  },
  {
   "cell_type": "code",
   "execution_count": 92,
   "id": "3d3330d5",
   "metadata": {},
   "outputs": [],
   "source": [
    "#imputing\n",
    "impute = SimpleImputer(missing_values=np.nan, strategy='median')\n",
    "impute.fit(dataset[['amt']])\n",
    "dataset['amt'] = impute.transform(dataset[['amt']])"
   ]
  },
  {
   "cell_type": "code",
   "execution_count": 93,
   "id": "93ae2f76",
   "metadata": {},
   "outputs": [],
   "source": [
    "#Dropping Null column\n",
    "dataset = dataset.dropna(subset=['unix_time'])"
   ]
  },
  {
   "cell_type": "code",
   "execution_count": 94,
   "id": "ce2682a6",
   "metadata": {},
   "outputs": [
    {
     "data": {
      "text/plain": [
       "Unnamed: 0               0\n",
       "trans_date_trans_time    0\n",
       "cc_num                   0\n",
       "merchant                 0\n",
       "category                 0\n",
       "amt                      0\n",
       "first                    0\n",
       "last                     0\n",
       "gender                   0\n",
       "street                   0\n",
       "city                     0\n",
       "state                    0\n",
       "zip                      0\n",
       "lat                      0\n",
       "long                     0\n",
       "city_pop                 0\n",
       "job                      0\n",
       "dob                      0\n",
       "trans_num                0\n",
       "unix_time                0\n",
       "merch_lat                0\n",
       "merch_long               0\n",
       "is_fraud                 0\n",
       "dtype: int64"
      ]
     },
     "execution_count": 94,
     "metadata": {},
     "output_type": "execute_result"
    }
   ],
   "source": [
    "dataset.isnull().sum()"
   ]
  },
  {
   "cell_type": "code",
   "execution_count": 95,
   "id": "5fb5d920",
   "metadata": {},
   "outputs": [
    {
     "data": {
      "text/plain": [
       "(1296524, 23)"
      ]
     },
     "execution_count": 95,
     "metadata": {},
     "output_type": "execute_result"
    }
   ],
   "source": [
    "dataset.shape"
   ]
  },
  {
   "cell_type": "markdown",
   "id": "0bbc9d9e",
   "metadata": {},
   "source": [
    "###  Handling with Catagorical values"
   ]
  },
  {
   "cell_type": "code",
   "execution_count": 96,
   "id": "8db097c8",
   "metadata": {},
   "outputs": [],
   "source": [
    "object_cols = dataset.select_dtypes(include=['object']).columns\n",
    "for col in object_cols:\n",
    "    le = LabelEncoder()\n",
    "    dataset[col] = le.fit_transform(dataset[col])"
   ]
  },
  {
   "cell_type": "code",
   "execution_count": 97,
   "id": "670cdcce",
   "metadata": {},
   "outputs": [
    {
     "data": {
      "text/html": [
       "<div>\n",
       "<style scoped>\n",
       "    .dataframe tbody tr th:only-of-type {\n",
       "        vertical-align: middle;\n",
       "    }\n",
       "\n",
       "    .dataframe tbody tr th {\n",
       "        vertical-align: top;\n",
       "    }\n",
       "\n",
       "    .dataframe thead th {\n",
       "        text-align: right;\n",
       "    }\n",
       "</style>\n",
       "<table border=\"1\" class=\"dataframe\">\n",
       "  <thead>\n",
       "    <tr style=\"text-align: right;\">\n",
       "      <th></th>\n",
       "      <th>Unnamed: 0</th>\n",
       "      <th>trans_date_trans_time</th>\n",
       "      <th>cc_num</th>\n",
       "      <th>merchant</th>\n",
       "      <th>category</th>\n",
       "      <th>amt</th>\n",
       "      <th>first</th>\n",
       "      <th>last</th>\n",
       "      <th>gender</th>\n",
       "      <th>street</th>\n",
       "      <th>...</th>\n",
       "      <th>lat</th>\n",
       "      <th>long</th>\n",
       "      <th>city_pop</th>\n",
       "      <th>job</th>\n",
       "      <th>dob</th>\n",
       "      <th>trans_num</th>\n",
       "      <th>unix_time</th>\n",
       "      <th>merch_lat</th>\n",
       "      <th>merch_long</th>\n",
       "      <th>is_fraud</th>\n",
       "    </tr>\n",
       "  </thead>\n",
       "  <tbody>\n",
       "    <tr>\n",
       "      <th>0</th>\n",
       "      <td>0</td>\n",
       "      <td>0</td>\n",
       "      <td>2703186189652095</td>\n",
       "      <td>514</td>\n",
       "      <td>8</td>\n",
       "      <td>4.97</td>\n",
       "      <td>162</td>\n",
       "      <td>18</td>\n",
       "      <td>0</td>\n",
       "      <td>568</td>\n",
       "      <td>...</td>\n",
       "      <td>36.0788</td>\n",
       "      <td>-81.1781</td>\n",
       "      <td>3495</td>\n",
       "      <td>370</td>\n",
       "      <td>779</td>\n",
       "      <td>56433</td>\n",
       "      <td>1.325376e+09</td>\n",
       "      <td>36.011293</td>\n",
       "      <td>-82.048315</td>\n",
       "      <td>0</td>\n",
       "    </tr>\n",
       "    <tr>\n",
       "      <th>1</th>\n",
       "      <td>1</td>\n",
       "      <td>1</td>\n",
       "      <td>630423337322</td>\n",
       "      <td>241</td>\n",
       "      <td>4</td>\n",
       "      <td>107.23</td>\n",
       "      <td>309</td>\n",
       "      <td>157</td>\n",
       "      <td>0</td>\n",
       "      <td>435</td>\n",
       "      <td>...</td>\n",
       "      <td>48.8878</td>\n",
       "      <td>-118.2105</td>\n",
       "      <td>149</td>\n",
       "      <td>428</td>\n",
       "      <td>607</td>\n",
       "      <td>159380</td>\n",
       "      <td>1.325376e+09</td>\n",
       "      <td>49.159047</td>\n",
       "      <td>-118.186462</td>\n",
       "      <td>0</td>\n",
       "    </tr>\n",
       "    <tr>\n",
       "      <th>2</th>\n",
       "      <td>2</td>\n",
       "      <td>2</td>\n",
       "      <td>38859492057661</td>\n",
       "      <td>390</td>\n",
       "      <td>0</td>\n",
       "      <td>220.11</td>\n",
       "      <td>115</td>\n",
       "      <td>381</td>\n",
       "      <td>1</td>\n",
       "      <td>602</td>\n",
       "      <td>...</td>\n",
       "      <td>42.1808</td>\n",
       "      <td>-112.2620</td>\n",
       "      <td>4154</td>\n",
       "      <td>307</td>\n",
       "      <td>302</td>\n",
       "      <td>818618</td>\n",
       "      <td>1.325376e+09</td>\n",
       "      <td>43.150704</td>\n",
       "      <td>-112.154481</td>\n",
       "      <td>0</td>\n",
       "    </tr>\n",
       "    <tr>\n",
       "      <th>3</th>\n",
       "      <td>3</td>\n",
       "      <td>3</td>\n",
       "      <td>3534093764340240</td>\n",
       "      <td>360</td>\n",
       "      <td>2</td>\n",
       "      <td>45.00</td>\n",
       "      <td>163</td>\n",
       "      <td>463</td>\n",
       "      <td>1</td>\n",
       "      <td>930</td>\n",
       "      <td>...</td>\n",
       "      <td>46.2306</td>\n",
       "      <td>-112.1138</td>\n",
       "      <td>1939</td>\n",
       "      <td>328</td>\n",
       "      <td>397</td>\n",
       "      <td>544518</td>\n",
       "      <td>1.325376e+09</td>\n",
       "      <td>47.034331</td>\n",
       "      <td>-112.561071</td>\n",
       "      <td>0</td>\n",
       "    </tr>\n",
       "    <tr>\n",
       "      <th>4</th>\n",
       "      <td>4</td>\n",
       "      <td>4</td>\n",
       "      <td>375534208663984</td>\n",
       "      <td>297</td>\n",
       "      <td>9</td>\n",
       "      <td>41.96</td>\n",
       "      <td>336</td>\n",
       "      <td>149</td>\n",
       "      <td>1</td>\n",
       "      <td>418</td>\n",
       "      <td>...</td>\n",
       "      <td>38.4207</td>\n",
       "      <td>-79.4629</td>\n",
       "      <td>99</td>\n",
       "      <td>116</td>\n",
       "      <td>734</td>\n",
       "      <td>831025</td>\n",
       "      <td>1.325376e+09</td>\n",
       "      <td>38.674999</td>\n",
       "      <td>-78.632459</td>\n",
       "      <td>0</td>\n",
       "    </tr>\n",
       "  </tbody>\n",
       "</table>\n",
       "<p>5 rows × 23 columns</p>\n",
       "</div>"
      ],
      "text/plain": [
       "   Unnamed: 0  trans_date_trans_time            cc_num  merchant  category  \\\n",
       "0           0                      0  2703186189652095       514         8   \n",
       "1           1                      1      630423337322       241         4   \n",
       "2           2                      2    38859492057661       390         0   \n",
       "3           3                      3  3534093764340240       360         2   \n",
       "4           4                      4   375534208663984       297         9   \n",
       "\n",
       "      amt  first  last  gender  street  ...      lat      long  city_pop  job  \\\n",
       "0    4.97    162    18       0     568  ...  36.0788  -81.1781      3495  370   \n",
       "1  107.23    309   157       0     435  ...  48.8878 -118.2105       149  428   \n",
       "2  220.11    115   381       1     602  ...  42.1808 -112.2620      4154  307   \n",
       "3   45.00    163   463       1     930  ...  46.2306 -112.1138      1939  328   \n",
       "4   41.96    336   149       1     418  ...  38.4207  -79.4629        99  116   \n",
       "\n",
       "   dob  trans_num     unix_time  merch_lat  merch_long  is_fraud  \n",
       "0  779      56433  1.325376e+09  36.011293  -82.048315         0  \n",
       "1  607     159380  1.325376e+09  49.159047 -118.186462         0  \n",
       "2  302     818618  1.325376e+09  43.150704 -112.154481         0  \n",
       "3  397     544518  1.325376e+09  47.034331 -112.561071         0  \n",
       "4  734     831025  1.325376e+09  38.674999  -78.632459         0  \n",
       "\n",
       "[5 rows x 23 columns]"
      ]
     },
     "execution_count": 97,
     "metadata": {},
     "output_type": "execute_result"
    }
   ],
   "source": [
    "dataset.head()"
   ]
  },
  {
   "cell_type": "markdown",
   "id": "e92e15fd",
   "metadata": {},
   "source": [
    "### Correlation of all the features"
   ]
  },
  {
   "cell_type": "code",
   "execution_count": 98,
   "id": "223f06ea",
   "metadata": {},
   "outputs": [
    {
     "data": {
      "text/html": [
       "<div>\n",
       "<style scoped>\n",
       "    .dataframe tbody tr th:only-of-type {\n",
       "        vertical-align: middle;\n",
       "    }\n",
       "\n",
       "    .dataframe tbody tr th {\n",
       "        vertical-align: top;\n",
       "    }\n",
       "\n",
       "    .dataframe thead th {\n",
       "        text-align: right;\n",
       "    }\n",
       "</style>\n",
       "<table border=\"1\" class=\"dataframe\">\n",
       "  <thead>\n",
       "    <tr style=\"text-align: right;\">\n",
       "      <th></th>\n",
       "      <th>Unnamed: 0</th>\n",
       "      <th>trans_date_trans_time</th>\n",
       "      <th>cc_num</th>\n",
       "      <th>merchant</th>\n",
       "      <th>category</th>\n",
       "      <th>amt</th>\n",
       "      <th>first</th>\n",
       "      <th>last</th>\n",
       "      <th>gender</th>\n",
       "      <th>street</th>\n",
       "      <th>...</th>\n",
       "      <th>lat</th>\n",
       "      <th>long</th>\n",
       "      <th>city_pop</th>\n",
       "      <th>job</th>\n",
       "      <th>dob</th>\n",
       "      <th>trans_num</th>\n",
       "      <th>unix_time</th>\n",
       "      <th>merch_lat</th>\n",
       "      <th>merch_long</th>\n",
       "      <th>is_fraud</th>\n",
       "    </tr>\n",
       "  </thead>\n",
       "  <tbody>\n",
       "    <tr>\n",
       "      <th>Unnamed: 0</th>\n",
       "      <td>1.000000</td>\n",
       "      <td>0.999999</td>\n",
       "      <td>0.000389</td>\n",
       "      <td>-0.000968</td>\n",
       "      <td>0.000243</td>\n",
       "      <td>-0.000239</td>\n",
       "      <td>0.000515</td>\n",
       "      <td>0.000126</td>\n",
       "      <td>-0.000943</td>\n",
       "      <td>-0.001081</td>\n",
       "      <td>...</td>\n",
       "      <td>0.000600</td>\n",
       "      <td>-0.000658</td>\n",
       "      <td>-0.001688</td>\n",
       "      <td>-0.000010</td>\n",
       "      <td>0.003713</td>\n",
       "      <td>-0.000596</td>\n",
       "      <td>0.998971</td>\n",
       "      <td>0.000539</td>\n",
       "      <td>-0.000653</td>\n",
       "      <td>-0.004755</td>\n",
       "    </tr>\n",
       "    <tr>\n",
       "      <th>trans_date_trans_time</th>\n",
       "      <td>0.999999</td>\n",
       "      <td>1.000000</td>\n",
       "      <td>0.000388</td>\n",
       "      <td>-0.000969</td>\n",
       "      <td>0.000243</td>\n",
       "      <td>-0.000241</td>\n",
       "      <td>0.000514</td>\n",
       "      <td>0.000126</td>\n",
       "      <td>-0.000943</td>\n",
       "      <td>-0.001081</td>\n",
       "      <td>...</td>\n",
       "      <td>0.000600</td>\n",
       "      <td>-0.000658</td>\n",
       "      <td>-0.001689</td>\n",
       "      <td>-0.000009</td>\n",
       "      <td>0.003710</td>\n",
       "      <td>-0.000597</td>\n",
       "      <td>0.999007</td>\n",
       "      <td>0.000538</td>\n",
       "      <td>-0.000653</td>\n",
       "      <td>-0.004764</td>\n",
       "    </tr>\n",
       "    <tr>\n",
       "      <th>cc_num</th>\n",
       "      <td>0.000389</td>\n",
       "      <td>0.000388</td>\n",
       "      <td>1.000000</td>\n",
       "      <td>0.000060</td>\n",
       "      <td>0.001232</td>\n",
       "      <td>0.001725</td>\n",
       "      <td>-0.027177</td>\n",
       "      <td>0.006899</td>\n",
       "      <td>0.001128</td>\n",
       "      <td>0.046510</td>\n",
       "      <td>...</td>\n",
       "      <td>-0.059278</td>\n",
       "      <td>-0.048267</td>\n",
       "      <td>-0.008993</td>\n",
       "      <td>0.029146</td>\n",
       "      <td>0.002393</td>\n",
       "      <td>0.001409</td>\n",
       "      <td>0.000356</td>\n",
       "      <td>-0.058951</td>\n",
       "      <td>-0.048240</td>\n",
       "      <td>-0.000975</td>\n",
       "    </tr>\n",
       "    <tr>\n",
       "      <th>merchant</th>\n",
       "      <td>-0.000968</td>\n",
       "      <td>-0.000969</td>\n",
       "      <td>0.000060</td>\n",
       "      <td>1.000000</td>\n",
       "      <td>0.032304</td>\n",
       "      <td>-0.002636</td>\n",
       "      <td>-0.001572</td>\n",
       "      <td>-0.000434</td>\n",
       "      <td>-0.000920</td>\n",
       "      <td>0.000736</td>\n",
       "      <td>...</td>\n",
       "      <td>-0.002249</td>\n",
       "      <td>-0.000710</td>\n",
       "      <td>0.001938</td>\n",
       "      <td>0.001375</td>\n",
       "      <td>0.006801</td>\n",
       "      <td>-0.000466</td>\n",
       "      <td>-0.000995</td>\n",
       "      <td>-0.002248</td>\n",
       "      <td>-0.000687</td>\n",
       "      <td>-0.000529</td>\n",
       "    </tr>\n",
       "    <tr>\n",
       "      <th>category</th>\n",
       "      <td>0.000243</td>\n",
       "      <td>0.000243</td>\n",
       "      <td>0.001232</td>\n",
       "      <td>0.032304</td>\n",
       "      <td>1.000000</td>\n",
       "      <td>0.030870</td>\n",
       "      <td>-0.001925</td>\n",
       "      <td>-0.004325</td>\n",
       "      <td>-0.028249</td>\n",
       "      <td>0.002257</td>\n",
       "      <td>...</td>\n",
       "      <td>-0.008662</td>\n",
       "      <td>-0.000740</td>\n",
       "      <td>0.009392</td>\n",
       "      <td>0.003478</td>\n",
       "      <td>0.004359</td>\n",
       "      <td>-0.000345</td>\n",
       "      <td>0.000175</td>\n",
       "      <td>-0.008521</td>\n",
       "      <td>-0.000708</td>\n",
       "      <td>0.020203</td>\n",
       "    </tr>\n",
       "    <tr>\n",
       "      <th>amt</th>\n",
       "      <td>-0.000239</td>\n",
       "      <td>-0.000241</td>\n",
       "      <td>0.001725</td>\n",
       "      <td>-0.002636</td>\n",
       "      <td>0.030870</td>\n",
       "      <td>1.000000</td>\n",
       "      <td>-0.003587</td>\n",
       "      <td>-0.004689</td>\n",
       "      <td>0.001044</td>\n",
       "      <td>0.001345</td>\n",
       "      <td>...</td>\n",
       "      <td>-0.001929</td>\n",
       "      <td>-0.000147</td>\n",
       "      <td>0.005827</td>\n",
       "      <td>-0.000633</td>\n",
       "      <td>0.010665</td>\n",
       "      <td>-0.001272</td>\n",
       "      <td>-0.000280</td>\n",
       "      <td>-0.001875</td>\n",
       "      <td>-0.000110</td>\n",
       "      <td>0.219178</td>\n",
       "    </tr>\n",
       "    <tr>\n",
       "      <th>first</th>\n",
       "      <td>0.000515</td>\n",
       "      <td>0.000514</td>\n",
       "      <td>-0.027177</td>\n",
       "      <td>-0.001572</td>\n",
       "      <td>-0.001925</td>\n",
       "      <td>-0.003587</td>\n",
       "      <td>1.000000</td>\n",
       "      <td>-0.056981</td>\n",
       "      <td>0.015197</td>\n",
       "      <td>-0.045359</td>\n",
       "      <td>...</td>\n",
       "      <td>0.131865</td>\n",
       "      <td>-0.016476</td>\n",
       "      <td>-0.066601</td>\n",
       "      <td>-0.039693</td>\n",
       "      <td>0.004200</td>\n",
       "      <td>0.000883</td>\n",
       "      <td>0.000488</td>\n",
       "      <td>0.130960</td>\n",
       "      <td>-0.016489</td>\n",
       "      <td>-0.003220</td>\n",
       "    </tr>\n",
       "    <tr>\n",
       "      <th>last</th>\n",
       "      <td>0.000126</td>\n",
       "      <td>0.000126</td>\n",
       "      <td>0.006899</td>\n",
       "      <td>-0.000434</td>\n",
       "      <td>-0.004325</td>\n",
       "      <td>-0.004689</td>\n",
       "      <td>-0.056981</td>\n",
       "      <td>1.000000</td>\n",
       "      <td>0.043737</td>\n",
       "      <td>0.005639</td>\n",
       "      <td>...</td>\n",
       "      <td>-0.034928</td>\n",
       "      <td>-0.025545</td>\n",
       "      <td>-0.012027</td>\n",
       "      <td>-0.024588</td>\n",
       "      <td>-0.019168</td>\n",
       "      <td>0.000154</td>\n",
       "      <td>0.000099</td>\n",
       "      <td>-0.034562</td>\n",
       "      <td>-0.025545</td>\n",
       "      <td>-0.000090</td>\n",
       "    </tr>\n",
       "    <tr>\n",
       "      <th>gender</th>\n",
       "      <td>-0.000943</td>\n",
       "      <td>-0.000943</td>\n",
       "      <td>0.001128</td>\n",
       "      <td>-0.000920</td>\n",
       "      <td>-0.028249</td>\n",
       "      <td>0.001044</td>\n",
       "      <td>0.015197</td>\n",
       "      <td>0.043737</td>\n",
       "      <td>1.000000</td>\n",
       "      <td>0.042685</td>\n",
       "      <td>...</td>\n",
       "      <td>0.042922</td>\n",
       "      <td>0.050399</td>\n",
       "      <td>-0.028639</td>\n",
       "      <td>-0.079912</td>\n",
       "      <td>-0.012178</td>\n",
       "      <td>-0.000255</td>\n",
       "      <td>-0.000958</td>\n",
       "      <td>0.042630</td>\n",
       "      <td>0.050345</td>\n",
       "      <td>0.007620</td>\n",
       "    </tr>\n",
       "    <tr>\n",
       "      <th>street</th>\n",
       "      <td>-0.001081</td>\n",
       "      <td>-0.001081</td>\n",
       "      <td>0.046510</td>\n",
       "      <td>0.000736</td>\n",
       "      <td>0.002257</td>\n",
       "      <td>0.001345</td>\n",
       "      <td>-0.045359</td>\n",
       "      <td>0.005639</td>\n",
       "      <td>0.042685</td>\n",
       "      <td>1.000000</td>\n",
       "      <td>...</td>\n",
       "      <td>-0.012652</td>\n",
       "      <td>0.071336</td>\n",
       "      <td>-0.012541</td>\n",
       "      <td>-0.020225</td>\n",
       "      <td>-0.042522</td>\n",
       "      <td>-0.001430</td>\n",
       "      <td>-0.001104</td>\n",
       "      <td>-0.012518</td>\n",
       "      <td>0.071295</td>\n",
       "      <td>0.001441</td>\n",
       "    </tr>\n",
       "    <tr>\n",
       "      <th>city</th>\n",
       "      <td>-0.000404</td>\n",
       "      <td>-0.000405</td>\n",
       "      <td>0.049167</td>\n",
       "      <td>-0.000285</td>\n",
       "      <td>0.000791</td>\n",
       "      <td>-0.000587</td>\n",
       "      <td>-0.009216</td>\n",
       "      <td>0.017566</td>\n",
       "      <td>0.016039</td>\n",
       "      <td>-0.024819</td>\n",
       "      <td>...</td>\n",
       "      <td>-0.032041</td>\n",
       "      <td>-0.066710</td>\n",
       "      <td>0.034932</td>\n",
       "      <td>0.020437</td>\n",
       "      <td>0.014333</td>\n",
       "      <td>0.000793</td>\n",
       "      <td>-0.000448</td>\n",
       "      <td>-0.031825</td>\n",
       "      <td>-0.066724</td>\n",
       "      <td>-0.002092</td>\n",
       "    </tr>\n",
       "    <tr>\n",
       "      <th>state</th>\n",
       "      <td>0.001035</td>\n",
       "      <td>0.001036</td>\n",
       "      <td>-0.036375</td>\n",
       "      <td>-0.000411</td>\n",
       "      <td>0.000204</td>\n",
       "      <td>0.001740</td>\n",
       "      <td>0.043147</td>\n",
       "      <td>-0.048147</td>\n",
       "      <td>-0.031788</td>\n",
       "      <td>0.014041</td>\n",
       "      <td>...</td>\n",
       "      <td>0.213266</td>\n",
       "      <td>0.132473</td>\n",
       "      <td>-0.012213</td>\n",
       "      <td>0.042908</td>\n",
       "      <td>0.054853</td>\n",
       "      <td>-0.000189</td>\n",
       "      <td>0.001058</td>\n",
       "      <td>0.211839</td>\n",
       "      <td>0.132353</td>\n",
       "      <td>0.001743</td>\n",
       "    </tr>\n",
       "    <tr>\n",
       "      <th>zip</th>\n",
       "      <td>0.000693</td>\n",
       "      <td>0.000692</td>\n",
       "      <td>0.041457</td>\n",
       "      <td>0.001123</td>\n",
       "      <td>0.002339</td>\n",
       "      <td>0.001807</td>\n",
       "      <td>0.004767</td>\n",
       "      <td>0.028287</td>\n",
       "      <td>-0.065941</td>\n",
       "      <td>-0.053868</td>\n",
       "      <td>...</td>\n",
       "      <td>-0.114300</td>\n",
       "      <td>-0.909730</td>\n",
       "      <td>0.078478</td>\n",
       "      <td>-0.005681</td>\n",
       "      <td>-0.013302</td>\n",
       "      <td>-0.000616</td>\n",
       "      <td>0.000654</td>\n",
       "      <td>-0.113571</td>\n",
       "      <td>-0.908922</td>\n",
       "      <td>-0.002168</td>\n",
       "    </tr>\n",
       "    <tr>\n",
       "      <th>lat</th>\n",
       "      <td>0.000600</td>\n",
       "      <td>0.000600</td>\n",
       "      <td>-0.059278</td>\n",
       "      <td>-0.002249</td>\n",
       "      <td>-0.008662</td>\n",
       "      <td>-0.001929</td>\n",
       "      <td>0.131865</td>\n",
       "      <td>-0.034928</td>\n",
       "      <td>0.042922</td>\n",
       "      <td>-0.012652</td>\n",
       "      <td>...</td>\n",
       "      <td>1.000000</td>\n",
       "      <td>-0.015523</td>\n",
       "      <td>-0.155721</td>\n",
       "      <td>-0.027605</td>\n",
       "      <td>-0.049742</td>\n",
       "      <td>-0.001583</td>\n",
       "      <td>0.000631</td>\n",
       "      <td>0.993592</td>\n",
       "      <td>-0.015499</td>\n",
       "      <td>0.001889</td>\n",
       "    </tr>\n",
       "    <tr>\n",
       "      <th>long</th>\n",
       "      <td>-0.000658</td>\n",
       "      <td>-0.000658</td>\n",
       "      <td>-0.048267</td>\n",
       "      <td>-0.000710</td>\n",
       "      <td>-0.000740</td>\n",
       "      <td>-0.000147</td>\n",
       "      <td>-0.016476</td>\n",
       "      <td>-0.025545</td>\n",
       "      <td>0.050399</td>\n",
       "      <td>0.071336</td>\n",
       "      <td>...</td>\n",
       "      <td>-0.015523</td>\n",
       "      <td>1.000000</td>\n",
       "      <td>-0.052730</td>\n",
       "      <td>-0.002719</td>\n",
       "      <td>0.031883</td>\n",
       "      <td>0.000914</td>\n",
       "      <td>-0.000623</td>\n",
       "      <td>-0.015441</td>\n",
       "      <td>0.999120</td>\n",
       "      <td>0.001715</td>\n",
       "    </tr>\n",
       "    <tr>\n",
       "      <th>city_pop</th>\n",
       "      <td>-0.001688</td>\n",
       "      <td>-0.001689</td>\n",
       "      <td>-0.008993</td>\n",
       "      <td>0.001938</td>\n",
       "      <td>0.009392</td>\n",
       "      <td>0.005827</td>\n",
       "      <td>-0.066601</td>\n",
       "      <td>-0.012027</td>\n",
       "      <td>-0.028639</td>\n",
       "      <td>-0.012541</td>\n",
       "      <td>...</td>\n",
       "      <td>-0.155721</td>\n",
       "      <td>-0.052730</td>\n",
       "      <td>1.000000</td>\n",
       "      <td>-0.054938</td>\n",
       "      <td>0.088747</td>\n",
       "      <td>0.000219</td>\n",
       "      <td>-0.001724</td>\n",
       "      <td>-0.154772</td>\n",
       "      <td>-0.052703</td>\n",
       "      <td>0.002143</td>\n",
       "    </tr>\n",
       "    <tr>\n",
       "      <th>job</th>\n",
       "      <td>-0.000010</td>\n",
       "      <td>-0.000009</td>\n",
       "      <td>0.029146</td>\n",
       "      <td>0.001375</td>\n",
       "      <td>0.003478</td>\n",
       "      <td>-0.000633</td>\n",
       "      <td>-0.039693</td>\n",
       "      <td>-0.024588</td>\n",
       "      <td>-0.079912</td>\n",
       "      <td>-0.020225</td>\n",
       "      <td>...</td>\n",
       "      <td>-0.027605</td>\n",
       "      <td>-0.002719</td>\n",
       "      <td>-0.054938</td>\n",
       "      <td>1.000000</td>\n",
       "      <td>0.028408</td>\n",
       "      <td>0.000457</td>\n",
       "      <td>0.000023</td>\n",
       "      <td>-0.027424</td>\n",
       "      <td>-0.002716</td>\n",
       "      <td>-0.000113</td>\n",
       "    </tr>\n",
       "    <tr>\n",
       "      <th>dob</th>\n",
       "      <td>0.003713</td>\n",
       "      <td>0.003710</td>\n",
       "      <td>0.002393</td>\n",
       "      <td>0.006801</td>\n",
       "      <td>0.004359</td>\n",
       "      <td>0.010665</td>\n",
       "      <td>0.004200</td>\n",
       "      <td>-0.019168</td>\n",
       "      <td>-0.012178</td>\n",
       "      <td>-0.042522</td>\n",
       "      <td>...</td>\n",
       "      <td>-0.049742</td>\n",
       "      <td>0.031883</td>\n",
       "      <td>0.088747</td>\n",
       "      <td>0.028408</td>\n",
       "      <td>1.000000</td>\n",
       "      <td>0.000560</td>\n",
       "      <td>0.003630</td>\n",
       "      <td>-0.049351</td>\n",
       "      <td>0.031813</td>\n",
       "      <td>-0.012158</td>\n",
       "    </tr>\n",
       "    <tr>\n",
       "      <th>trans_num</th>\n",
       "      <td>-0.000596</td>\n",
       "      <td>-0.000597</td>\n",
       "      <td>0.001409</td>\n",
       "      <td>-0.000466</td>\n",
       "      <td>-0.000345</td>\n",
       "      <td>-0.001272</td>\n",
       "      <td>0.000883</td>\n",
       "      <td>0.000154</td>\n",
       "      <td>-0.000255</td>\n",
       "      <td>-0.001430</td>\n",
       "      <td>...</td>\n",
       "      <td>-0.001583</td>\n",
       "      <td>0.000914</td>\n",
       "      <td>0.000219</td>\n",
       "      <td>0.000457</td>\n",
       "      <td>0.000560</td>\n",
       "      <td>1.000000</td>\n",
       "      <td>-0.000611</td>\n",
       "      <td>-0.001554</td>\n",
       "      <td>0.000943</td>\n",
       "      <td>0.000824</td>\n",
       "    </tr>\n",
       "    <tr>\n",
       "      <th>unix_time</th>\n",
       "      <td>0.998971</td>\n",
       "      <td>0.999007</td>\n",
       "      <td>0.000356</td>\n",
       "      <td>-0.000995</td>\n",
       "      <td>0.000175</td>\n",
       "      <td>-0.000280</td>\n",
       "      <td>0.000488</td>\n",
       "      <td>0.000099</td>\n",
       "      <td>-0.000958</td>\n",
       "      <td>-0.001104</td>\n",
       "      <td>...</td>\n",
       "      <td>0.000631</td>\n",
       "      <td>-0.000623</td>\n",
       "      <td>-0.001724</td>\n",
       "      <td>0.000023</td>\n",
       "      <td>0.003630</td>\n",
       "      <td>-0.000611</td>\n",
       "      <td>1.000000</td>\n",
       "      <td>0.000559</td>\n",
       "      <td>-0.000617</td>\n",
       "      <td>-0.005065</td>\n",
       "    </tr>\n",
       "    <tr>\n",
       "      <th>merch_lat</th>\n",
       "      <td>0.000539</td>\n",
       "      <td>0.000538</td>\n",
       "      <td>-0.058951</td>\n",
       "      <td>-0.002248</td>\n",
       "      <td>-0.008521</td>\n",
       "      <td>-0.001875</td>\n",
       "      <td>0.130960</td>\n",
       "      <td>-0.034562</td>\n",
       "      <td>0.042630</td>\n",
       "      <td>-0.012518</td>\n",
       "      <td>...</td>\n",
       "      <td>0.993592</td>\n",
       "      <td>-0.015441</td>\n",
       "      <td>-0.154772</td>\n",
       "      <td>-0.027424</td>\n",
       "      <td>-0.049351</td>\n",
       "      <td>-0.001554</td>\n",
       "      <td>0.000559</td>\n",
       "      <td>1.000000</td>\n",
       "      <td>-0.015420</td>\n",
       "      <td>0.001736</td>\n",
       "    </tr>\n",
       "    <tr>\n",
       "      <th>merch_long</th>\n",
       "      <td>-0.000653</td>\n",
       "      <td>-0.000653</td>\n",
       "      <td>-0.048240</td>\n",
       "      <td>-0.000687</td>\n",
       "      <td>-0.000708</td>\n",
       "      <td>-0.000110</td>\n",
       "      <td>-0.016489</td>\n",
       "      <td>-0.025545</td>\n",
       "      <td>0.050345</td>\n",
       "      <td>0.071295</td>\n",
       "      <td>...</td>\n",
       "      <td>-0.015499</td>\n",
       "      <td>0.999120</td>\n",
       "      <td>-0.052703</td>\n",
       "      <td>-0.002716</td>\n",
       "      <td>0.031813</td>\n",
       "      <td>0.000943</td>\n",
       "      <td>-0.000617</td>\n",
       "      <td>-0.015420</td>\n",
       "      <td>1.000000</td>\n",
       "      <td>0.001716</td>\n",
       "    </tr>\n",
       "    <tr>\n",
       "      <th>is_fraud</th>\n",
       "      <td>-0.004755</td>\n",
       "      <td>-0.004764</td>\n",
       "      <td>-0.000975</td>\n",
       "      <td>-0.000529</td>\n",
       "      <td>0.020203</td>\n",
       "      <td>0.219178</td>\n",
       "      <td>-0.003220</td>\n",
       "      <td>-0.000090</td>\n",
       "      <td>0.007620</td>\n",
       "      <td>0.001441</td>\n",
       "      <td>...</td>\n",
       "      <td>0.001889</td>\n",
       "      <td>0.001715</td>\n",
       "      <td>0.002143</td>\n",
       "      <td>-0.000113</td>\n",
       "      <td>-0.012158</td>\n",
       "      <td>0.000824</td>\n",
       "      <td>-0.005065</td>\n",
       "      <td>0.001736</td>\n",
       "      <td>0.001716</td>\n",
       "      <td>1.000000</td>\n",
       "    </tr>\n",
       "  </tbody>\n",
       "</table>\n",
       "<p>23 rows × 23 columns</p>\n",
       "</div>"
      ],
      "text/plain": [
       "                       Unnamed: 0  trans_date_trans_time    cc_num  merchant  \\\n",
       "Unnamed: 0               1.000000               0.999999  0.000389 -0.000968   \n",
       "trans_date_trans_time    0.999999               1.000000  0.000388 -0.000969   \n",
       "cc_num                   0.000389               0.000388  1.000000  0.000060   \n",
       "merchant                -0.000968              -0.000969  0.000060  1.000000   \n",
       "category                 0.000243               0.000243  0.001232  0.032304   \n",
       "amt                     -0.000239              -0.000241  0.001725 -0.002636   \n",
       "first                    0.000515               0.000514 -0.027177 -0.001572   \n",
       "last                     0.000126               0.000126  0.006899 -0.000434   \n",
       "gender                  -0.000943              -0.000943  0.001128 -0.000920   \n",
       "street                  -0.001081              -0.001081  0.046510  0.000736   \n",
       "city                    -0.000404              -0.000405  0.049167 -0.000285   \n",
       "state                    0.001035               0.001036 -0.036375 -0.000411   \n",
       "zip                      0.000693               0.000692  0.041457  0.001123   \n",
       "lat                      0.000600               0.000600 -0.059278 -0.002249   \n",
       "long                    -0.000658              -0.000658 -0.048267 -0.000710   \n",
       "city_pop                -0.001688              -0.001689 -0.008993  0.001938   \n",
       "job                     -0.000010              -0.000009  0.029146  0.001375   \n",
       "dob                      0.003713               0.003710  0.002393  0.006801   \n",
       "trans_num               -0.000596              -0.000597  0.001409 -0.000466   \n",
       "unix_time                0.998971               0.999007  0.000356 -0.000995   \n",
       "merch_lat                0.000539               0.000538 -0.058951 -0.002248   \n",
       "merch_long              -0.000653              -0.000653 -0.048240 -0.000687   \n",
       "is_fraud                -0.004755              -0.004764 -0.000975 -0.000529   \n",
       "\n",
       "                       category       amt     first      last    gender  \\\n",
       "Unnamed: 0             0.000243 -0.000239  0.000515  0.000126 -0.000943   \n",
       "trans_date_trans_time  0.000243 -0.000241  0.000514  0.000126 -0.000943   \n",
       "cc_num                 0.001232  0.001725 -0.027177  0.006899  0.001128   \n",
       "merchant               0.032304 -0.002636 -0.001572 -0.000434 -0.000920   \n",
       "category               1.000000  0.030870 -0.001925 -0.004325 -0.028249   \n",
       "amt                    0.030870  1.000000 -0.003587 -0.004689  0.001044   \n",
       "first                 -0.001925 -0.003587  1.000000 -0.056981  0.015197   \n",
       "last                  -0.004325 -0.004689 -0.056981  1.000000  0.043737   \n",
       "gender                -0.028249  0.001044  0.015197  0.043737  1.000000   \n",
       "street                 0.002257  0.001345 -0.045359  0.005639  0.042685   \n",
       "city                   0.000791 -0.000587 -0.009216  0.017566  0.016039   \n",
       "state                  0.000204  0.001740  0.043147 -0.048147 -0.031788   \n",
       "zip                    0.002339  0.001807  0.004767  0.028287 -0.065941   \n",
       "lat                   -0.008662 -0.001929  0.131865 -0.034928  0.042922   \n",
       "long                  -0.000740 -0.000147 -0.016476 -0.025545  0.050399   \n",
       "city_pop               0.009392  0.005827 -0.066601 -0.012027 -0.028639   \n",
       "job                    0.003478 -0.000633 -0.039693 -0.024588 -0.079912   \n",
       "dob                    0.004359  0.010665  0.004200 -0.019168 -0.012178   \n",
       "trans_num             -0.000345 -0.001272  0.000883  0.000154 -0.000255   \n",
       "unix_time              0.000175 -0.000280  0.000488  0.000099 -0.000958   \n",
       "merch_lat             -0.008521 -0.001875  0.130960 -0.034562  0.042630   \n",
       "merch_long            -0.000708 -0.000110 -0.016489 -0.025545  0.050345   \n",
       "is_fraud               0.020203  0.219178 -0.003220 -0.000090  0.007620   \n",
       "\n",
       "                         street  ...       lat      long  city_pop       job  \\\n",
       "Unnamed: 0            -0.001081  ...  0.000600 -0.000658 -0.001688 -0.000010   \n",
       "trans_date_trans_time -0.001081  ...  0.000600 -0.000658 -0.001689 -0.000009   \n",
       "cc_num                 0.046510  ... -0.059278 -0.048267 -0.008993  0.029146   \n",
       "merchant               0.000736  ... -0.002249 -0.000710  0.001938  0.001375   \n",
       "category               0.002257  ... -0.008662 -0.000740  0.009392  0.003478   \n",
       "amt                    0.001345  ... -0.001929 -0.000147  0.005827 -0.000633   \n",
       "first                 -0.045359  ...  0.131865 -0.016476 -0.066601 -0.039693   \n",
       "last                   0.005639  ... -0.034928 -0.025545 -0.012027 -0.024588   \n",
       "gender                 0.042685  ...  0.042922  0.050399 -0.028639 -0.079912   \n",
       "street                 1.000000  ... -0.012652  0.071336 -0.012541 -0.020225   \n",
       "city                  -0.024819  ... -0.032041 -0.066710  0.034932  0.020437   \n",
       "state                  0.014041  ...  0.213266  0.132473 -0.012213  0.042908   \n",
       "zip                   -0.053868  ... -0.114300 -0.909730  0.078478 -0.005681   \n",
       "lat                   -0.012652  ...  1.000000 -0.015523 -0.155721 -0.027605   \n",
       "long                   0.071336  ... -0.015523  1.000000 -0.052730 -0.002719   \n",
       "city_pop              -0.012541  ... -0.155721 -0.052730  1.000000 -0.054938   \n",
       "job                   -0.020225  ... -0.027605 -0.002719 -0.054938  1.000000   \n",
       "dob                   -0.042522  ... -0.049742  0.031883  0.088747  0.028408   \n",
       "trans_num             -0.001430  ... -0.001583  0.000914  0.000219  0.000457   \n",
       "unix_time             -0.001104  ...  0.000631 -0.000623 -0.001724  0.000023   \n",
       "merch_lat             -0.012518  ...  0.993592 -0.015441 -0.154772 -0.027424   \n",
       "merch_long             0.071295  ... -0.015499  0.999120 -0.052703 -0.002716   \n",
       "is_fraud               0.001441  ...  0.001889  0.001715  0.002143 -0.000113   \n",
       "\n",
       "                            dob  trans_num  unix_time  merch_lat  merch_long  \\\n",
       "Unnamed: 0             0.003713  -0.000596   0.998971   0.000539   -0.000653   \n",
       "trans_date_trans_time  0.003710  -0.000597   0.999007   0.000538   -0.000653   \n",
       "cc_num                 0.002393   0.001409   0.000356  -0.058951   -0.048240   \n",
       "merchant               0.006801  -0.000466  -0.000995  -0.002248   -0.000687   \n",
       "category               0.004359  -0.000345   0.000175  -0.008521   -0.000708   \n",
       "amt                    0.010665  -0.001272  -0.000280  -0.001875   -0.000110   \n",
       "first                  0.004200   0.000883   0.000488   0.130960   -0.016489   \n",
       "last                  -0.019168   0.000154   0.000099  -0.034562   -0.025545   \n",
       "gender                -0.012178  -0.000255  -0.000958   0.042630    0.050345   \n",
       "street                -0.042522  -0.001430  -0.001104  -0.012518    0.071295   \n",
       "city                   0.014333   0.000793  -0.000448  -0.031825   -0.066724   \n",
       "state                  0.054853  -0.000189   0.001058   0.211839    0.132353   \n",
       "zip                   -0.013302  -0.000616   0.000654  -0.113571   -0.908922   \n",
       "lat                   -0.049742  -0.001583   0.000631   0.993592   -0.015499   \n",
       "long                   0.031883   0.000914  -0.000623  -0.015441    0.999120   \n",
       "city_pop               0.088747   0.000219  -0.001724  -0.154772   -0.052703   \n",
       "job                    0.028408   0.000457   0.000023  -0.027424   -0.002716   \n",
       "dob                    1.000000   0.000560   0.003630  -0.049351    0.031813   \n",
       "trans_num              0.000560   1.000000  -0.000611  -0.001554    0.000943   \n",
       "unix_time              0.003630  -0.000611   1.000000   0.000559   -0.000617   \n",
       "merch_lat             -0.049351  -0.001554   0.000559   1.000000   -0.015420   \n",
       "merch_long             0.031813   0.000943  -0.000617  -0.015420    1.000000   \n",
       "is_fraud              -0.012158   0.000824  -0.005065   0.001736    0.001716   \n",
       "\n",
       "                       is_fraud  \n",
       "Unnamed: 0            -0.004755  \n",
       "trans_date_trans_time -0.004764  \n",
       "cc_num                -0.000975  \n",
       "merchant              -0.000529  \n",
       "category               0.020203  \n",
       "amt                    0.219178  \n",
       "first                 -0.003220  \n",
       "last                  -0.000090  \n",
       "gender                 0.007620  \n",
       "street                 0.001441  \n",
       "city                  -0.002092  \n",
       "state                  0.001743  \n",
       "zip                   -0.002168  \n",
       "lat                    0.001889  \n",
       "long                   0.001715  \n",
       "city_pop               0.002143  \n",
       "job                   -0.000113  \n",
       "dob                   -0.012158  \n",
       "trans_num              0.000824  \n",
       "unix_time             -0.005065  \n",
       "merch_lat              0.001736  \n",
       "merch_long             0.001716  \n",
       "is_fraud               1.000000  \n",
       "\n",
       "[23 rows x 23 columns]"
      ]
     },
     "execution_count": 98,
     "metadata": {},
     "output_type": "execute_result"
    }
   ],
   "source": [
    "corr = dataset.corr()\n",
    "corr"
   ]
  },
  {
   "cell_type": "code",
   "execution_count": 99,
   "id": "50429583",
   "metadata": {},
   "outputs": [
    {
     "data": {
      "text/plain": [
       "<Axes: >"
      ]
     },
     "execution_count": 99,
     "metadata": {},
     "output_type": "execute_result"
    },
    {
     "data": {
      "image/png": "[encoded data removed]",
      "text/plain": [
       "<Figure size 640x480 with 2 Axes>"
      ]
     },
     "metadata": {},
     "output_type": "display_data"
    }
   ],
   "source": [
    "sns.heatmap(corr, cmap = 'YlGnBu')"
   ]
  },
  {
   "cell_type": "markdown",
   "id": "aa77470c",
   "metadata": {},
   "source": [
    "### Dropping Unnecessary Columns"
   ]
  },
  {
   "cell_type": "code",
   "execution_count": 100,
   "id": "3b42d6c6",
   "metadata": {},
   "outputs": [],
   "source": [
    "train_df = dataset.drop([\"Unnamed: 0\", \"gender\", \"first\", \"last\", \"street\", \"city\", \"state\", \"zip\", \"dob\",\"trans_num\"], axis=1)"
   ]
  },
  {
   "cell_type": "markdown",
   "id": "9647b276",
   "metadata": {},
   "source": [
    "### Spliting the dataset"
   ]
  },
  {
   "cell_type": "code",
   "execution_count": 101,
   "id": "23f921b4",
   "metadata": {},
   "outputs": [],
   "source": [
    "X = train_df.drop(\"is_fraud\",axis=1).values\n",
    "y = train_df[\"is_fraud\"].values\n",
    "X_train, X_test, y_train, y_test = train_test_split(X, y, test_size=0.3,stratify=y,random_state=2)"
   ]
  },
  {
   "cell_type": "code",
   "execution_count": 102,
   "id": "5b56019d",
   "metadata": {},
   "outputs": [
    {
     "name": "stdout",
     "output_type": "stream",
     "text": [
      "X_train shape: (907566, 12)\n",
      "y_train shape: (907566,)\n"
     ]
    }
   ],
   "source": [
    "print(\"X_train shape:\", X_train.shape)\n",
    "print(\"y_train shape:\", y_train.shape)"
   ]
  },
  {
   "cell_type": "code",
   "execution_count": 103,
   "id": "f01bfe91",
   "metadata": {},
   "outputs": [
    {
     "name": "stdout",
     "output_type": "stream",
     "text": [
      "X_test shape: (388958, 12)\n",
      "y_test shape: (388958,)\n"
     ]
    }
   ],
   "source": [
    "print(\"X_test shape:\", X_test.shape)\n",
    "print(\"y_test shape:\", y_test.shape)"
   ]
  },
  {
   "cell_type": "markdown",
   "id": "3281607a",
   "metadata": {},
   "source": [
    "### Feature scaling"
   ]
  },
  {
   "cell_type": "code",
   "execution_count": 172,
   "id": "80308a85",
   "metadata": {},
   "outputs": [],
   "source": [
    "scaler= StandardScaler()\n",
    "scaler.fit(X_train)\n",
    "X_train = scaler.transform(X_train)\n",
    "X_test = scaler.transform(X_test)"
   ]
  },
  {
   "cell_type": "code",
   "execution_count": 105,
   "id": "2d3d1fb2",
   "metadata": {},
   "outputs": [
    {
     "data": {
      "text/html": [
       "<div>\n",
       "<style scoped>\n",
       "    .dataframe tbody tr th:only-of-type {\n",
       "        vertical-align: middle;\n",
       "    }\n",
       "\n",
       "    .dataframe tbody tr th {\n",
       "        vertical-align: top;\n",
       "    }\n",
       "\n",
       "    .dataframe thead th {\n",
       "        text-align: right;\n",
       "    }\n",
       "</style>\n",
       "<table border=\"1\" class=\"dataframe\">\n",
       "  <thead>\n",
       "    <tr style=\"text-align: right;\">\n",
       "      <th></th>\n",
       "      <th>Unnamed: 0</th>\n",
       "      <th>trans_date_trans_time</th>\n",
       "      <th>cc_num</th>\n",
       "      <th>merchant</th>\n",
       "      <th>category</th>\n",
       "      <th>amt</th>\n",
       "      <th>first</th>\n",
       "      <th>last</th>\n",
       "      <th>gender</th>\n",
       "      <th>street</th>\n",
       "      <th>...</th>\n",
       "      <th>lat</th>\n",
       "      <th>long</th>\n",
       "      <th>city_pop</th>\n",
       "      <th>job</th>\n",
       "      <th>dob</th>\n",
       "      <th>trans_num</th>\n",
       "      <th>unix_time</th>\n",
       "      <th>merch_lat</th>\n",
       "      <th>merch_long</th>\n",
       "      <th>is_fraud</th>\n",
       "    </tr>\n",
       "  </thead>\n",
       "  <tbody>\n",
       "    <tr>\n",
       "      <th>0</th>\n",
       "      <td>0</td>\n",
       "      <td>0</td>\n",
       "      <td>2703186189652095</td>\n",
       "      <td>514</td>\n",
       "      <td>8</td>\n",
       "      <td>4.97</td>\n",
       "      <td>162</td>\n",
       "      <td>18</td>\n",
       "      <td>0</td>\n",
       "      <td>568</td>\n",
       "      <td>...</td>\n",
       "      <td>36.0788</td>\n",
       "      <td>-81.1781</td>\n",
       "      <td>3495</td>\n",
       "      <td>370</td>\n",
       "      <td>779</td>\n",
       "      <td>56433</td>\n",
       "      <td>1.325376e+09</td>\n",
       "      <td>36.011293</td>\n",
       "      <td>-82.048315</td>\n",
       "      <td>0</td>\n",
       "    </tr>\n",
       "    <tr>\n",
       "      <th>1</th>\n",
       "      <td>1</td>\n",
       "      <td>1</td>\n",
       "      <td>630423337322</td>\n",
       "      <td>241</td>\n",
       "      <td>4</td>\n",
       "      <td>107.23</td>\n",
       "      <td>309</td>\n",
       "      <td>157</td>\n",
       "      <td>0</td>\n",
       "      <td>435</td>\n",
       "      <td>...</td>\n",
       "      <td>48.8878</td>\n",
       "      <td>-118.2105</td>\n",
       "      <td>149</td>\n",
       "      <td>428</td>\n",
       "      <td>607</td>\n",
       "      <td>159380</td>\n",
       "      <td>1.325376e+09</td>\n",
       "      <td>49.159047</td>\n",
       "      <td>-118.186462</td>\n",
       "      <td>0</td>\n",
       "    </tr>\n",
       "    <tr>\n",
       "      <th>2</th>\n",
       "      <td>2</td>\n",
       "      <td>2</td>\n",
       "      <td>38859492057661</td>\n",
       "      <td>390</td>\n",
       "      <td>0</td>\n",
       "      <td>220.11</td>\n",
       "      <td>115</td>\n",
       "      <td>381</td>\n",
       "      <td>1</td>\n",
       "      <td>602</td>\n",
       "      <td>...</td>\n",
       "      <td>42.1808</td>\n",
       "      <td>-112.2620</td>\n",
       "      <td>4154</td>\n",
       "      <td>307</td>\n",
       "      <td>302</td>\n",
       "      <td>818618</td>\n",
       "      <td>1.325376e+09</td>\n",
       "      <td>43.150704</td>\n",
       "      <td>-112.154481</td>\n",
       "      <td>0</td>\n",
       "    </tr>\n",
       "    <tr>\n",
       "      <th>3</th>\n",
       "      <td>3</td>\n",
       "      <td>3</td>\n",
       "      <td>3534093764340240</td>\n",
       "      <td>360</td>\n",
       "      <td>2</td>\n",
       "      <td>45.00</td>\n",
       "      <td>163</td>\n",
       "      <td>463</td>\n",
       "      <td>1</td>\n",
       "      <td>930</td>\n",
       "      <td>...</td>\n",
       "      <td>46.2306</td>\n",
       "      <td>-112.1138</td>\n",
       "      <td>1939</td>\n",
       "      <td>328</td>\n",
       "      <td>397</td>\n",
       "      <td>544518</td>\n",
       "      <td>1.325376e+09</td>\n",
       "      <td>47.034331</td>\n",
       "      <td>-112.561071</td>\n",
       "      <td>0</td>\n",
       "    </tr>\n",
       "    <tr>\n",
       "      <th>4</th>\n",
       "      <td>4</td>\n",
       "      <td>4</td>\n",
       "      <td>375534208663984</td>\n",
       "      <td>297</td>\n",
       "      <td>9</td>\n",
       "      <td>41.96</td>\n",
       "      <td>336</td>\n",
       "      <td>149</td>\n",
       "      <td>1</td>\n",
       "      <td>418</td>\n",
       "      <td>...</td>\n",
       "      <td>38.4207</td>\n",
       "      <td>-79.4629</td>\n",
       "      <td>99</td>\n",
       "      <td>116</td>\n",
       "      <td>734</td>\n",
       "      <td>831025</td>\n",
       "      <td>1.325376e+09</td>\n",
       "      <td>38.674999</td>\n",
       "      <td>-78.632459</td>\n",
       "      <td>0</td>\n",
       "    </tr>\n",
       "  </tbody>\n",
       "</table>\n",
       "<p>5 rows × 23 columns</p>\n",
       "</div>"
      ],
      "text/plain": [
       "   Unnamed: 0  trans_date_trans_time            cc_num  merchant  category  \\\n",
       "0           0                      0  2703186189652095       514         8   \n",
       "1           1                      1      630423337322       241         4   \n",
       "2           2                      2    38859492057661       390         0   \n",
       "3           3                      3  3534093764340240       360         2   \n",
       "4           4                      4   375534208663984       297         9   \n",
       "\n",
       "      amt  first  last  gender  street  ...      lat      long  city_pop  job  \\\n",
       "0    4.97    162    18       0     568  ...  36.0788  -81.1781      3495  370   \n",
       "1  107.23    309   157       0     435  ...  48.8878 -118.2105       149  428   \n",
       "2  220.11    115   381       1     602  ...  42.1808 -112.2620      4154  307   \n",
       "3   45.00    163   463       1     930  ...  46.2306 -112.1138      1939  328   \n",
       "4   41.96    336   149       1     418  ...  38.4207  -79.4629        99  116   \n",
       "\n",
       "   dob  trans_num     unix_time  merch_lat  merch_long  is_fraud  \n",
       "0  779      56433  1.325376e+09  36.011293  -82.048315         0  \n",
       "1  607     159380  1.325376e+09  49.159047 -118.186462         0  \n",
       "2  302     818618  1.325376e+09  43.150704 -112.154481         0  \n",
       "3  397     544518  1.325376e+09  47.034331 -112.561071         0  \n",
       "4  734     831025  1.325376e+09  38.674999  -78.632459         0  \n",
       "\n",
       "[5 rows x 23 columns]"
      ]
     },
     "execution_count": 105,
     "metadata": {},
     "output_type": "execute_result"
    }
   ],
   "source": [
    "dataset.head()"
   ]
  },
  {
   "cell_type": "markdown",
   "id": "b72c0bfe",
   "metadata": {},
   "source": [
    "### Applying KNN on our dataset"
   ]
  },
  {
   "cell_type": "code",
   "execution_count": 24,
   "id": "3fea2088",
   "metadata": {},
   "outputs": [],
   "source": [
    "knn = KNeighborsClassifier(n_neighbors=3)"
   ]
  },
  {
   "cell_type": "code",
   "execution_count": 25,
   "id": "5c256586",
   "metadata": {},
   "outputs": [
    {
     "data": {
      "text/html": [
       "<style>#sk-container-id-1 {color: black;background-color: white;}#sk-container-id-1 pre{padding: 0;}#sk-container-id-1 div.sk-toggleable {background-color: white;}#sk-container-id-1 label.sk-toggleable__label {cursor: pointer;display: block;width: 100%;margin-bottom: 0;padding: 0.3em;box-sizing: border-box;text-align: center;}#sk-container-id-1 label.sk-toggleable__label-arrow:before {content: \"▸\";float: left;margin-right: 0.25em;color: #696969;}#sk-container-id-1 label.sk-toggleable__label-arrow:hover:before {color: black;}#sk-container-id-1 div.sk-estimator:hover label.sk-toggleable__label-arrow:before {color: black;}#sk-container-id-1 div.sk-toggleable__content {max-height: 0;max-width: 0;overflow: hidden;text-align: left;background-color: #f0f8ff;}#sk-container-id-1 div.sk-toggleable__content pre {margin: 0.2em;color: black;border-radius: 0.25em;background-color: #f0f8ff;}#sk-container-id-1 input.sk-toggleable__control:checked~div.sk-toggleable__content {max-height: 200px;max-width: 100%;overflow: auto;}#sk-container-id-1 input.sk-toggleable__control:checked~label.sk-toggleable__label-arrow:before {content: \"▾\";}#sk-container-id-1 div.sk-estimator input.sk-toggleable__control:checked~label.sk-toggleable__label {background-color: #d4ebff;}#sk-container-id-1 div.sk-label input.sk-toggleable__control:checked~label.sk-toggleable__label {background-color: #d4ebff;}#sk-container-id-1 input.sk-hidden--visually {border: 0;clip: rect(1px 1px 1px 1px);clip: rect(1px, 1px, 1px, 1px);height: 1px;margin: -1px;overflow: hidden;padding: 0;position: absolute;width: 1px;}#sk-container-id-1 div.sk-estimator {font-family: monospace;background-color: #f0f8ff;border: 1px dotted black;border-radius: 0.25em;box-sizing: border-box;margin-bottom: 0.5em;}#sk-container-id-1 div.sk-estimator:hover {background-color: #d4ebff;}#sk-container-id-1 div.sk-parallel-item::after {content: \"\";width: 100%;border-bottom: 1px solid gray;flex-grow: 1;}#sk-container-id-1 div.sk-label:hover label.sk-toggleable__label {background-color: #d4ebff;}#sk-container-id-1 div.sk-serial::before {content: \"\";position: absolute;border-left: 1px solid gray;box-sizing: border-box;top: 0;bottom: 0;left: 50%;z-index: 0;}#sk-container-id-1 div.sk-serial {display: flex;flex-direction: column;align-items: center;background-color: white;padding-right: 0.2em;padding-left: 0.2em;position: relative;}#sk-container-id-1 div.sk-item {position: relative;z-index: 1;}#sk-container-id-1 div.sk-parallel {display: flex;align-items: stretch;justify-content: center;background-color: white;position: relative;}#sk-container-id-1 div.sk-item::before, #sk-container-id-1 div.sk-parallel-item::before {content: \"\";position: absolute;border-left: 1px solid gray;box-sizing: border-box;top: 0;bottom: 0;left: 50%;z-index: -1;}#sk-container-id-1 div.sk-parallel-item {display: flex;flex-direction: column;z-index: 1;position: relative;background-color: white;}#sk-container-id-1 div.sk-parallel-item:first-child::after {align-self: flex-end;width: 50%;}#sk-container-id-1 div.sk-parallel-item:last-child::after {align-self: flex-start;width: 50%;}#sk-container-id-1 div.sk-parallel-item:only-child::after {width: 0;}#sk-container-id-1 div.sk-dashed-wrapped {border: 1px dashed gray;margin: 0 0.4em 0.5em 0.4em;box-sizing: border-box;padding-bottom: 0.4em;background-color: white;}#sk-container-id-1 div.sk-label label {font-family: monospace;font-weight: bold;display: inline-block;line-height: 1.2em;}#sk-container-id-1 div.sk-label-container {text-align: center;}#sk-container-id-1 div.sk-container {/* jupyter's `normalize.less` sets `[hidden] { display: none; }` but bootstrap.min.css set `[hidden] { display: none !important; }` so we also need the `!important` here to be able to override the default hidden behavior on the sphinx rendered scikit-learn.org. See: https://github.com/scikit-learn/scikit-learn/issues/21755 */display: inline-block !important;position: relative;}#sk-container-id-1 div.sk-text-repr-fallback {display: none;}</style><div id=\"sk-container-id-1\" class=\"sk-top-container\"><div class=\"sk-text-repr-fallback\"><pre>KNeighborsClassifier(n_neighbors=3)</pre><b>In a Jupyter environment, please rerun this cell to show the HTML representation or trust the notebook. <br />On GitHub, the HTML representation is unable to render, please try loading this page with nbviewer.org.</b></div><div class=\"sk-container\" hidden><div class=\"sk-item\"><div class=\"sk-estimator sk-toggleable\"><input class=\"sk-toggleable__control sk-hidden--visually\" id=\"sk-estimator-id-1\" type=\"checkbox\" checked><label for=\"sk-estimator-id-1\" class=\"sk-toggleable__label sk-toggleable__label-arrow\">KNeighborsClassifier</label><div class=\"sk-toggleable__content\"><pre>KNeighborsClassifier(n_neighbors=3)</pre></div></div></div></div></div>"
      ],
      "text/plain": [
       "KNeighborsClassifier(n_neighbors=3)"
      ]
     },
     "execution_count": 25,
     "metadata": {},
     "output_type": "execute_result"
    }
   ],
   "source": [
    "knn.fit(X_train, y_train)"
   ]
  },
  {
   "cell_type": "code",
   "execution_count": 26,
   "id": "d9cac3ca",
   "metadata": {},
   "outputs": [],
   "source": [
    "y_pred = knn.predict(X_test)"
   ]
  },
  {
   "cell_type": "code",
   "execution_count": 27,
   "id": "c6d6ac4f",
   "metadata": {},
   "outputs": [
    {
     "name": "stdout",
     "output_type": "stream",
     "text": [
      "Training Accuracy: 0.9971462130577832\n",
      "Testing Accuracy: 0.9953696800168655\n"
     ]
    }
   ],
   "source": [
    "knn_old_training = accuracy_score(y_train, knn.predict(X_train))\n",
    "knn_old_test = accuracy_score(y_test, y_pred)\n",
    "print(f'Training Accuracy: {knn_old_training}')\n",
    "print(f'Testing Accuracy: {knn_old_test}')"
   ]
  },
  {
   "cell_type": "code",
   "execution_count": 28,
   "id": "6d722bc4",
   "metadata": {},
   "outputs": [
    {
     "name": "stdout",
     "output_type": "stream",
     "text": [
      "Precision: 0.6504010695187166\n",
      "Recall: 0.43225233229675697\n"
     ]
    }
   ],
   "source": [
    "report = classification_report(y_test, y_pred)\n",
    "precision, recall, f1, support = precision_recall_fscore_support(y_test, y_pred, pos_label=1)\n",
    "knn_old_Precision = precision[1]\n",
    "knn_old_Recall = recall[1]\n",
    "print('Precision:', knn_old_Precision)\n",
    "print('Recall:', knn_old_Recall)"
   ]
  },
  {
   "cell_type": "code",
   "execution_count": 29,
   "id": "5f270e96",
   "metadata": {},
   "outputs": [
    {
     "name": "stdout",
     "output_type": "stream",
     "text": [
      "[[386184    523]\n",
      " [  1278    973]]\n"
     ]
    }
   ],
   "source": [
    "knn_cm = confusion_matrix(y_test, y_pred)\n",
    "print(knn_cm)"
   ]
  },
  {
   "cell_type": "code",
   "execution_count": 30,
   "id": "9e2dfc23",
   "metadata": {},
   "outputs": [
    {
     "data": {
      "text/plain": [
       "<Axes: >"
      ]
     },
     "execution_count": 30,
     "metadata": {},
     "output_type": "execute_result"
    },
    {
     "data": {
      "image/png": "[encoded data removed]",
      "text/plain": [
       "<Figure size 640x480 with 2 Axes>"
      ]
     },
     "metadata": {},
     "output_type": "display_data"
    }
   ],
   "source": [
    "sns.heatmap(knn_cm, annot=True, cmap='Pastel1_r', xticklabels=['Fraud' ,'Genuine'],yticklabels=['Fraud' ,'Genuine'])"
   ]
  },
  {
   "cell_type": "markdown",
   "id": "031f0d0f",
   "metadata": {},
   "source": [
    "### Applying LogisticRegression on our dataset"
   ]
  },
  {
   "cell_type": "code",
   "execution_count": 106,
   "id": "c0408349",
   "metadata": {},
   "outputs": [],
   "source": [
    "from sklearn.linear_model import LogisticRegression\n",
    "model = LogisticRegression(max_iter=1000)"
   ]
  },
  {
   "cell_type": "code",
   "execution_count": 107,
   "id": "12be89b6",
   "metadata": {},
   "outputs": [
    {
     "data": {
      "text/html": [
       "<style>#sk-container-id-6 {color: black;background-color: white;}#sk-container-id-6 pre{padding: 0;}#sk-container-id-6 div.sk-toggleable {background-color: white;}#sk-container-id-6 label.sk-toggleable__label {cursor: pointer;display: block;width: 100%;margin-bottom: 0;padding: 0.3em;box-sizing: border-box;text-align: center;}#sk-container-id-6 label.sk-toggleable__label-arrow:before {content: \"▸\";float: left;margin-right: 0.25em;color: #696969;}#sk-container-id-6 label.sk-toggleable__label-arrow:hover:before {color: black;}#sk-container-id-6 div.sk-estimator:hover label.sk-toggleable__label-arrow:before {color: black;}#sk-container-id-6 div.sk-toggleable__content {max-height: 0;max-width: 0;overflow: hidden;text-align: left;background-color: #f0f8ff;}#sk-container-id-6 div.sk-toggleable__content pre {margin: 0.2em;color: black;border-radius: 0.25em;background-color: #f0f8ff;}#sk-container-id-6 input.sk-toggleable__control:checked~div.sk-toggleable__content {max-height: 200px;max-width: 100%;overflow: auto;}#sk-container-id-6 input.sk-toggleable__control:checked~label.sk-toggleable__label-arrow:before {content: \"▾\";}#sk-container-id-6 div.sk-estimator input.sk-toggleable__control:checked~label.sk-toggleable__label {background-color: #d4ebff;}#sk-container-id-6 div.sk-label input.sk-toggleable__control:checked~label.sk-toggleable__label {background-color: #d4ebff;}#sk-container-id-6 input.sk-hidden--visually {border: 0;clip: rect(1px 1px 1px 1px);clip: rect(1px, 1px, 1px, 1px);height: 1px;margin: -1px;overflow: hidden;padding: 0;position: absolute;width: 1px;}#sk-container-id-6 div.sk-estimator {font-family: monospace;background-color: #f0f8ff;border: 1px dotted black;border-radius: 0.25em;box-sizing: border-box;margin-bottom: 0.5em;}#sk-container-id-6 div.sk-estimator:hover {background-color: #d4ebff;}#sk-container-id-6 div.sk-parallel-item::after {content: \"\";width: 100%;border-bottom: 1px solid gray;flex-grow: 1;}#sk-container-id-6 div.sk-label:hover label.sk-toggleable__label {background-color: #d4ebff;}#sk-container-id-6 div.sk-serial::before {content: \"\";position: absolute;border-left: 1px solid gray;box-sizing: border-box;top: 0;bottom: 0;left: 50%;z-index: 0;}#sk-container-id-6 div.sk-serial {display: flex;flex-direction: column;align-items: center;background-color: white;padding-right: 0.2em;padding-left: 0.2em;position: relative;}#sk-container-id-6 div.sk-item {position: relative;z-index: 1;}#sk-container-id-6 div.sk-parallel {display: flex;align-items: stretch;justify-content: center;background-color: white;position: relative;}#sk-container-id-6 div.sk-item::before, #sk-container-id-6 div.sk-parallel-item::before {content: \"\";position: absolute;border-left: 1px solid gray;box-sizing: border-box;top: 0;bottom: 0;left: 50%;z-index: -1;}#sk-container-id-6 div.sk-parallel-item {display: flex;flex-direction: column;z-index: 1;position: relative;background-color: white;}#sk-container-id-6 div.sk-parallel-item:first-child::after {align-self: flex-end;width: 50%;}#sk-container-id-6 div.sk-parallel-item:last-child::after {align-self: flex-start;width: 50%;}#sk-container-id-6 div.sk-parallel-item:only-child::after {width: 0;}#sk-container-id-6 div.sk-dashed-wrapped {border: 1px dashed gray;margin: 0 0.4em 0.5em 0.4em;box-sizing: border-box;padding-bottom: 0.4em;background-color: white;}#sk-container-id-6 div.sk-label label {font-family: monospace;font-weight: bold;display: inline-block;line-height: 1.2em;}#sk-container-id-6 div.sk-label-container {text-align: center;}#sk-container-id-6 div.sk-container {/* jupyter's `normalize.less` sets `[hidden] { display: none; }` but bootstrap.min.css set `[hidden] { display: none !important; }` so we also need the `!important` here to be able to override the default hidden behavior on the sphinx rendered scikit-learn.org. See: https://github.com/scikit-learn/scikit-learn/issues/21755 */display: inline-block !important;position: relative;}#sk-container-id-6 div.sk-text-repr-fallback {display: none;}</style><div id=\"sk-container-id-6\" class=\"sk-top-container\"><div class=\"sk-text-repr-fallback\"><pre>LogisticRegression(max_iter=1000)</pre><b>In a Jupyter environment, please rerun this cell to show the HTML representation or trust the notebook. <br />On GitHub, the HTML representation is unable to render, please try loading this page with nbviewer.org.</b></div><div class=\"sk-container\" hidden><div class=\"sk-item\"><div class=\"sk-estimator sk-toggleable\"><input class=\"sk-toggleable__control sk-hidden--visually\" id=\"sk-estimator-id-6\" type=\"checkbox\" checked><label for=\"sk-estimator-id-6\" class=\"sk-toggleable__label sk-toggleable__label-arrow\">LogisticRegression</label><div class=\"sk-toggleable__content\"><pre>LogisticRegression(max_iter=1000)</pre></div></div></div></div></div>"
      ],
      "text/plain": [
       "LogisticRegression(max_iter=1000)"
      ]
     },
     "execution_count": 107,
     "metadata": {},
     "output_type": "execute_result"
    }
   ],
   "source": [
    "model.fit(X_train,y_train)"
   ]
  },
  {
   "cell_type": "code",
   "execution_count": 108,
   "id": "d86bf02d",
   "metadata": {},
   "outputs": [],
   "source": [
    "X_train_prediction = model.predict(X_train)\n",
    "logi_old_training_data_accuracy = accuracy_score(X_train_prediction, y_train)\n",
    "X_test_prediction = model.predict(X_test)\n",
    "logi_old_test_data_accuracy = accuracy_score(X_test_prediction, y_test)"
   ]
  },
  {
   "cell_type": "code",
   "execution_count": 109,
   "id": "668d06f8",
   "metadata": {},
   "outputs": [
    {
     "name": "stdout",
     "output_type": "stream",
     "text": [
      "Accuracy on Training data :  0.9936809003422341\n",
      "Accuracy score on Test Data :  0.9936882645427013\n"
     ]
    }
   ],
   "source": [
    "print('Accuracy on Training data : ', logi_old_training_data_accuracy)\n",
    "print('Accuracy score on Test Data : ', logi_old_test_data_accuracy)"
   ]
  },
  {
   "cell_type": "code",
   "execution_count": 110,
   "id": "502bc0a0",
   "metadata": {},
   "outputs": [
    {
     "name": "stdout",
     "output_type": "stream",
     "text": [
      "Precision: 0.0\n",
      "Recall: 0.0\n"
     ]
    }
   ],
   "source": [
    "report = classification_report(y_test, X_test_prediction)\n",
    "precision, recall, f1, support = precision_recall_fscore_support(y_test, X_test_prediction, pos_label=1)\n",
    "logi_old_Precision = precision[1]\n",
    "logi_old_Recall = recall[1]\n",
    "print('Precision:', logi_old_Precision)\n",
    "print('Recall:', logi_old_Recall)"
   ]
  },
  {
   "cell_type": "code",
   "execution_count": 111,
   "id": "cb15b83a",
   "metadata": {},
   "outputs": [
    {
     "name": "stdout",
     "output_type": "stream",
     "text": [
      "[[386503    204]\n",
      " [  2251      0]]\n"
     ]
    }
   ],
   "source": [
    "logi_cm_old = confusion_matrix(y_test, X_test_prediction)\n",
    "print(logi_cm_old)"
   ]
  },
  {
   "cell_type": "code",
   "execution_count": 112,
   "id": "ef086b15",
   "metadata": {},
   "outputs": [
    {
     "data": {
      "text/plain": [
       "<Axes: >"
      ]
     },
     "execution_count": 112,
     "metadata": {},
     "output_type": "execute_result"
    },
    {
     "data": {
      "image/png": "[encoded data removed]",
      "text/plain": [
       "<Figure size 640x480 with 2 Axes>"
      ]
     },
     "metadata": {},
     "output_type": "display_data"
    }
   ],
   "source": [
    "sns.heatmap(logi_cm_old, annot=True, cmap='Pastel1_r', xticklabels=['Fraud' ,'Genuine'],yticklabels=['Fraud' ,'Genuine'])"
   ]
  },
  {
   "cell_type": "markdown",
   "id": "af6ff7f6",
   "metadata": {},
   "source": [
    "### Applying Naive Bayes on our dataset"
   ]
  },
  {
   "cell_type": "code",
   "execution_count": 113,
   "id": "7dda267a",
   "metadata": {},
   "outputs": [
    {
     "data": {
      "text/html": [
       "<style>#sk-container-id-7 {color: black;background-color: white;}#sk-container-id-7 pre{padding: 0;}#sk-container-id-7 div.sk-toggleable {background-color: white;}#sk-container-id-7 label.sk-toggleable__label {cursor: pointer;display: block;width: 100%;margin-bottom: 0;padding: 0.3em;box-sizing: border-box;text-align: center;}#sk-container-id-7 label.sk-toggleable__label-arrow:before {content: \"▸\";float: left;margin-right: 0.25em;color: #696969;}#sk-container-id-7 label.sk-toggleable__label-arrow:hover:before {color: black;}#sk-container-id-7 div.sk-estimator:hover label.sk-toggleable__label-arrow:before {color: black;}#sk-container-id-7 div.sk-toggleable__content {max-height: 0;max-width: 0;overflow: hidden;text-align: left;background-color: #f0f8ff;}#sk-container-id-7 div.sk-toggleable__content pre {margin: 0.2em;color: black;border-radius: 0.25em;background-color: #f0f8ff;}#sk-container-id-7 input.sk-toggleable__control:checked~div.sk-toggleable__content {max-height: 200px;max-width: 100%;overflow: auto;}#sk-container-id-7 input.sk-toggleable__control:checked~label.sk-toggleable__label-arrow:before {content: \"▾\";}#sk-container-id-7 div.sk-estimator input.sk-toggleable__control:checked~label.sk-toggleable__label {background-color: #d4ebff;}#sk-container-id-7 div.sk-label input.sk-toggleable__control:checked~label.sk-toggleable__label {background-color: #d4ebff;}#sk-container-id-7 input.sk-hidden--visually {border: 0;clip: rect(1px 1px 1px 1px);clip: rect(1px, 1px, 1px, 1px);height: 1px;margin: -1px;overflow: hidden;padding: 0;position: absolute;width: 1px;}#sk-container-id-7 div.sk-estimator {font-family: monospace;background-color: #f0f8ff;border: 1px dotted black;border-radius: 0.25em;box-sizing: border-box;margin-bottom: 0.5em;}#sk-container-id-7 div.sk-estimator:hover {background-color: #d4ebff;}#sk-container-id-7 div.sk-parallel-item::after {content: \"\";width: 100%;border-bottom: 1px solid gray;flex-grow: 1;}#sk-container-id-7 div.sk-label:hover label.sk-toggleable__label {background-color: #d4ebff;}#sk-container-id-7 div.sk-serial::before {content: \"\";position: absolute;border-left: 1px solid gray;box-sizing: border-box;top: 0;bottom: 0;left: 50%;z-index: 0;}#sk-container-id-7 div.sk-serial {display: flex;flex-direction: column;align-items: center;background-color: white;padding-right: 0.2em;padding-left: 0.2em;position: relative;}#sk-container-id-7 div.sk-item {position: relative;z-index: 1;}#sk-container-id-7 div.sk-parallel {display: flex;align-items: stretch;justify-content: center;background-color: white;position: relative;}#sk-container-id-7 div.sk-item::before, #sk-container-id-7 div.sk-parallel-item::before {content: \"\";position: absolute;border-left: 1px solid gray;box-sizing: border-box;top: 0;bottom: 0;left: 50%;z-index: -1;}#sk-container-id-7 div.sk-parallel-item {display: flex;flex-direction: column;z-index: 1;position: relative;background-color: white;}#sk-container-id-7 div.sk-parallel-item:first-child::after {align-self: flex-end;width: 50%;}#sk-container-id-7 div.sk-parallel-item:last-child::after {align-self: flex-start;width: 50%;}#sk-container-id-7 div.sk-parallel-item:only-child::after {width: 0;}#sk-container-id-7 div.sk-dashed-wrapped {border: 1px dashed gray;margin: 0 0.4em 0.5em 0.4em;box-sizing: border-box;padding-bottom: 0.4em;background-color: white;}#sk-container-id-7 div.sk-label label {font-family: monospace;font-weight: bold;display: inline-block;line-height: 1.2em;}#sk-container-id-7 div.sk-label-container {text-align: center;}#sk-container-id-7 div.sk-container {/* jupyter's `normalize.less` sets `[hidden] { display: none; }` but bootstrap.min.css set `[hidden] { display: none !important; }` so we also need the `!important` here to be able to override the default hidden behavior on the sphinx rendered scikit-learn.org. See: https://github.com/scikit-learn/scikit-learn/issues/21755 */display: inline-block !important;position: relative;}#sk-container-id-7 div.sk-text-repr-fallback {display: none;}</style><div id=\"sk-container-id-7\" class=\"sk-top-container\"><div class=\"sk-text-repr-fallback\"><pre>GaussianNB()</pre><b>In a Jupyter environment, please rerun this cell to show the HTML representation or trust the notebook. <br />On GitHub, the HTML representation is unable to render, please try loading this page with nbviewer.org.</b></div><div class=\"sk-container\" hidden><div class=\"sk-item\"><div class=\"sk-estimator sk-toggleable\"><input class=\"sk-toggleable__control sk-hidden--visually\" id=\"sk-estimator-id-7\" type=\"checkbox\" checked><label for=\"sk-estimator-id-7\" class=\"sk-toggleable__label sk-toggleable__label-arrow\">GaussianNB</label><div class=\"sk-toggleable__content\"><pre>GaussianNB()</pre></div></div></div></div></div>"
      ],
      "text/plain": [
       "GaussianNB()"
      ]
     },
     "execution_count": 113,
     "metadata": {},
     "output_type": "execute_result"
    }
   ],
   "source": [
    "gnb = GaussianNB()\n",
    "gnb.fit(X_train, y_train)"
   ]
  },
  {
   "cell_type": "code",
   "execution_count": 114,
   "id": "dc99b84b",
   "metadata": {},
   "outputs": [
    {
     "name": "stdout",
     "output_type": "stream",
     "text": [
      "Training accuracy of the model is 0.99\n",
      "Testing accuracy of the model is 0.99\n"
     ]
    }
   ],
   "source": [
    "gnb_old_training = gnb.score(X_train, y_train)\n",
    "gnb_old_test = gnb.score(X_test, y_test)\n",
    "print(\"Training accuracy of the model is {:.2f}\".format(gnb_old_training))\n",
    "print(\"Testing accuracy of the model is {:.2f}\".format(gnb_old_test))"
   ]
  },
  {
   "cell_type": "code",
   "execution_count": 115,
   "id": "f047df68",
   "metadata": {},
   "outputs": [
    {
     "name": "stdout",
     "output_type": "stream",
     "text": [
      "Precision: 0.2156784719458814\n",
      "Recall: 0.48156374944469127\n"
     ]
    }
   ],
   "source": [
    "y_pred = gnb.predict(X_test)\n",
    "report = classification_report(y_test, y_pred)\n",
    "precision, recall, f1, support = precision_recall_fscore_support(y_test, y_pred, pos_label=1)\n",
    "gnb_old_Precision = precision[1]\n",
    "gnb_old_Recall = recall[1]\n",
    "print('Precision:', gnb_old_Precision)\n",
    "print('Recall:', gnb_old_Recall)"
   ]
  },
  {
   "cell_type": "code",
   "execution_count": 116,
   "id": "ba2e3776",
   "metadata": {},
   "outputs": [
    {
     "name": "stdout",
     "output_type": "stream",
     "text": [
      "[[382765   1167]\n",
      " [  3942   1084]]\n"
     ]
    }
   ],
   "source": [
    "predictions = gnb.predict(X_test)\n",
    "gnb_old_new=confusion_matrix(predictions, y_test)\n",
    "print(gnb_old_new)"
   ]
  },
  {
   "cell_type": "code",
   "execution_count": 117,
   "id": "32c90a45",
   "metadata": {},
   "outputs": [
    {
     "data": {
      "text/plain": [
       "<Axes: >"
      ]
     },
     "execution_count": 117,
     "metadata": {},
     "output_type": "execute_result"
    },
    {
     "data": {
      "image/png": "[encoded data removed]",
      "text/plain": [
       "<Figure size 640x480 with 2 Axes>"
      ]
     },
     "metadata": {},
     "output_type": "display_data"
    }
   ],
   "source": [
    "sns.heatmap(gnb_old_new, annot=True, cmap='Pastel1_r', xticklabels=['Fraud' ,'Genuine'],yticklabels=['Fraud' ,'Genuine'])"
   ]
  },
  {
   "cell_type": "markdown",
   "id": "2203755d",
   "metadata": {},
   "source": [
    "### Over sampling the dataset"
   ]
  },
  {
   "cell_type": "code",
   "execution_count": 118,
   "id": "bd72c3bc",
   "metadata": {},
   "outputs": [],
   "source": [
    "smote = SMOTE()\n",
    "X_resampled, y_resampled = smote.fit_resample(X, y)"
   ]
  },
  {
   "cell_type": "code",
   "execution_count": 119,
   "id": "5e257fa3",
   "metadata": {},
   "outputs": [
    {
     "data": {
      "text/plain": [
       "0    1289020\n",
       "1    1289020\n",
       "dtype: int64"
      ]
     },
     "execution_count": 119,
     "metadata": {},
     "output_type": "execute_result"
    }
   ],
   "source": [
    "pd.Series(y_resampled).value_counts()"
   ]
  },
  {
   "cell_type": "markdown",
   "id": "1a7e56fc",
   "metadata": {},
   "source": [
    "### Under sampaling the dataset"
   ]
  },
  {
   "cell_type": "code",
   "execution_count": 120,
   "id": "aa017b3f",
   "metadata": {},
   "outputs": [
    {
     "name": "stdout",
     "output_type": "stream",
     "text": [
      "(1289020, 23)\n",
      "(7504, 23)\n"
     ]
    }
   ],
   "source": [
    "legit = dataset[dataset.is_fraud==0]\n",
    "fraud = dataset[dataset.is_fraud==1]\n",
    "print(legit.shape)\n",
    "print(fraud.shape)"
   ]
  },
  {
   "cell_type": "code",
   "execution_count": 121,
   "id": "aab91534",
   "metadata": {},
   "outputs": [
    {
     "data": {
      "text/plain": [
       "count    1.289020e+06\n",
       "mean     6.765301e+01\n",
       "std      1.539861e+02\n",
       "min      1.000000e+00\n",
       "25%      9.620000e+00\n",
       "50%      4.736000e+01\n",
       "75%      8.250000e+01\n",
       "max      2.894890e+04\n",
       "Name: amt, dtype: float64"
      ]
     },
     "execution_count": 121,
     "metadata": {},
     "output_type": "execute_result"
    }
   ],
   "source": [
    "legit.amt.describe()"
   ]
  },
  {
   "cell_type": "code",
   "execution_count": 122,
   "id": "12f51502",
   "metadata": {},
   "outputs": [
    {
     "data": {
      "text/plain": [
       "count    7504.000000\n",
       "mean      530.777898\n",
       "std       390.640603\n",
       "min         1.060000\n",
       "25%       243.027500\n",
       "50%       392.385000\n",
       "75%       900.770000\n",
       "max      1376.040000\n",
       "Name: amt, dtype: float64"
      ]
     },
     "execution_count": 122,
     "metadata": {},
     "output_type": "execute_result"
    }
   ],
   "source": [
    "fraud.amt.describe()"
   ]
  },
  {
   "cell_type": "code",
   "execution_count": 123,
   "id": "933c3498",
   "metadata": {},
   "outputs": [
    {
     "data": {
      "text/html": [
       "<div>\n",
       "<style scoped>\n",
       "    .dataframe tbody tr th:only-of-type {\n",
       "        vertical-align: middle;\n",
       "    }\n",
       "\n",
       "    .dataframe tbody tr th {\n",
       "        vertical-align: top;\n",
       "    }\n",
       "\n",
       "    .dataframe thead th {\n",
       "        text-align: right;\n",
       "    }\n",
       "</style>\n",
       "<table border=\"1\" class=\"dataframe\">\n",
       "  <thead>\n",
       "    <tr style=\"text-align: right;\">\n",
       "      <th></th>\n",
       "      <th>Unnamed: 0</th>\n",
       "      <th>trans_date_trans_time</th>\n",
       "      <th>cc_num</th>\n",
       "      <th>merchant</th>\n",
       "      <th>category</th>\n",
       "      <th>amt</th>\n",
       "      <th>first</th>\n",
       "      <th>last</th>\n",
       "      <th>gender</th>\n",
       "      <th>street</th>\n",
       "      <th>...</th>\n",
       "      <th>zip</th>\n",
       "      <th>lat</th>\n",
       "      <th>long</th>\n",
       "      <th>city_pop</th>\n",
       "      <th>job</th>\n",
       "      <th>dob</th>\n",
       "      <th>trans_num</th>\n",
       "      <th>unix_time</th>\n",
       "      <th>merch_lat</th>\n",
       "      <th>merch_long</th>\n",
       "    </tr>\n",
       "    <tr>\n",
       "      <th>is_fraud</th>\n",
       "      <th></th>\n",
       "      <th></th>\n",
       "      <th></th>\n",
       "      <th></th>\n",
       "      <th></th>\n",
       "      <th></th>\n",
       "      <th></th>\n",
       "      <th></th>\n",
       "      <th></th>\n",
       "      <th></th>\n",
       "      <th></th>\n",
       "      <th></th>\n",
       "      <th></th>\n",
       "      <th></th>\n",
       "      <th></th>\n",
       "      <th></th>\n",
       "      <th></th>\n",
       "      <th></th>\n",
       "      <th></th>\n",
       "      <th></th>\n",
       "      <th></th>\n",
       "    </tr>\n",
       "  </thead>\n",
       "  <tbody>\n",
       "    <tr>\n",
       "      <th>0</th>\n",
       "      <td>648479.428062</td>\n",
       "      <td>637795.023923</td>\n",
       "      <td>4.172888e+17</td>\n",
       "      <td>342.866385</td>\n",
       "      <td>6.221734</td>\n",
       "      <td>67.653015</td>\n",
       "      <td>180.286146</td>\n",
       "      <td>250.523472</td>\n",
       "      <td>0.452265</td>\n",
       "      <td>488.001988</td>\n",
       "      <td>...</td>\n",
       "      <td>48805.219177</td>\n",
       "      <td>38.536837</td>\n",
       "      <td>-90.228093</td>\n",
       "      <td>88773.711401</td>\n",
       "      <td>251.174582</td>\n",
       "      <td>534.478887</td>\n",
       "      <td>648237.981637</td>\n",
       "      <td>1.349249e+09</td>\n",
       "      <td>38.536611</td>\n",
       "      <td>-90.228233</td>\n",
       "    </tr>\n",
       "    <tr>\n",
       "      <th>1</th>\n",
       "      <td>625016.652852</td>\n",
       "      <td>614702.148721</td>\n",
       "      <td>4.004638e+17</td>\n",
       "      <td>341.464286</td>\n",
       "      <td>7.263993</td>\n",
       "      <td>530.777898</td>\n",
       "      <td>176.146588</td>\n",
       "      <td>250.361007</td>\n",
       "      <td>0.502265</td>\n",
       "      <td>493.323561</td>\n",
       "      <td>...</td>\n",
       "      <td>48036.671509</td>\n",
       "      <td>38.663242</td>\n",
       "      <td>-89.916955</td>\n",
       "      <td>97302.103145</td>\n",
       "      <td>250.966551</td>\n",
       "      <td>491.609808</td>\n",
       "      <td>652301.430704</td>\n",
       "      <td>1.348391e+09</td>\n",
       "      <td>38.653567</td>\n",
       "      <td>-89.916643</td>\n",
       "    </tr>\n",
       "  </tbody>\n",
       "</table>\n",
       "<p>2 rows × 22 columns</p>\n",
       "</div>"
      ],
      "text/plain": [
       "             Unnamed: 0  trans_date_trans_time        cc_num    merchant  \\\n",
       "is_fraud                                                                   \n",
       "0         648479.428062          637795.023923  4.172888e+17  342.866385   \n",
       "1         625016.652852          614702.148721  4.004638e+17  341.464286   \n",
       "\n",
       "          category         amt       first        last    gender      street  \\\n",
       "is_fraud                                                                       \n",
       "0         6.221734   67.653015  180.286146  250.523472  0.452265  488.001988   \n",
       "1         7.263993  530.777898  176.146588  250.361007  0.502265  493.323561   \n",
       "\n",
       "          ...           zip        lat       long      city_pop         job  \\\n",
       "is_fraud  ...                                                                 \n",
       "0         ...  48805.219177  38.536837 -90.228093  88773.711401  251.174582   \n",
       "1         ...  48036.671509  38.663242 -89.916955  97302.103145  250.966551   \n",
       "\n",
       "                 dob      trans_num     unix_time  merch_lat  merch_long  \n",
       "is_fraud                                                                  \n",
       "0         534.478887  648237.981637  1.349249e+09  38.536611  -90.228233  \n",
       "1         491.609808  652301.430704  1.348391e+09  38.653567  -89.916643  \n",
       "\n",
       "[2 rows x 22 columns]"
      ]
     },
     "execution_count": 123,
     "metadata": {},
     "output_type": "execute_result"
    }
   ],
   "source": [
    "dataset.groupby('is_fraud').mean()"
   ]
  },
  {
   "cell_type": "code",
   "execution_count": 124,
   "id": "be87591d",
   "metadata": {},
   "outputs": [],
   "source": [
    "legitSample = legit.sample(n=7506)"
   ]
  },
  {
   "cell_type": "code",
   "execution_count": 125,
   "id": "c0774282",
   "metadata": {},
   "outputs": [],
   "source": [
    "newDataset = pd.concat([legitSample, fraud], axis = 0)"
   ]
  },
  {
   "cell_type": "code",
   "execution_count": 126,
   "id": "c6dcc811",
   "metadata": {},
   "outputs": [
    {
     "data": {
      "text/html": [
       "<div>\n",
       "<style scoped>\n",
       "    .dataframe tbody tr th:only-of-type {\n",
       "        vertical-align: middle;\n",
       "    }\n",
       "\n",
       "    .dataframe tbody tr th {\n",
       "        vertical-align: top;\n",
       "    }\n",
       "\n",
       "    .dataframe thead th {\n",
       "        text-align: right;\n",
       "    }\n",
       "</style>\n",
       "<table border=\"1\" class=\"dataframe\">\n",
       "  <thead>\n",
       "    <tr style=\"text-align: right;\">\n",
       "      <th></th>\n",
       "      <th>Unnamed: 0</th>\n",
       "      <th>trans_date_trans_time</th>\n",
       "      <th>cc_num</th>\n",
       "      <th>merchant</th>\n",
       "      <th>category</th>\n",
       "      <th>amt</th>\n",
       "      <th>first</th>\n",
       "      <th>last</th>\n",
       "      <th>gender</th>\n",
       "      <th>street</th>\n",
       "      <th>...</th>\n",
       "      <th>lat</th>\n",
       "      <th>long</th>\n",
       "      <th>city_pop</th>\n",
       "      <th>job</th>\n",
       "      <th>dob</th>\n",
       "      <th>trans_num</th>\n",
       "      <th>unix_time</th>\n",
       "      <th>merch_lat</th>\n",
       "      <th>merch_long</th>\n",
       "      <th>is_fraud</th>\n",
       "    </tr>\n",
       "  </thead>\n",
       "  <tbody>\n",
       "    <tr>\n",
       "      <th>934134</th>\n",
       "      <td>934134</td>\n",
       "      <td>917434</td>\n",
       "      <td>3595192916105588</td>\n",
       "      <td>428</td>\n",
       "      <td>4</td>\n",
       "      <td>63.24</td>\n",
       "      <td>111</td>\n",
       "      <td>365</td>\n",
       "      <td>1</td>\n",
       "      <td>332</td>\n",
       "      <td>...</td>\n",
       "      <td>35.0583</td>\n",
       "      <td>-79.0080</td>\n",
       "      <td>238602</td>\n",
       "      <td>413</td>\n",
       "      <td>862</td>\n",
       "      <td>926769</td>\n",
       "      <td>1.357466e+09</td>\n",
       "      <td>35.214844</td>\n",
       "      <td>-78.146773</td>\n",
       "      <td>0</td>\n",
       "    </tr>\n",
       "    <tr>\n",
       "      <th>15705</th>\n",
       "      <td>15705</td>\n",
       "      <td>15518</td>\n",
       "      <td>4841313716651064</td>\n",
       "      <td>673</td>\n",
       "      <td>9</td>\n",
       "      <td>36.14</td>\n",
       "      <td>259</td>\n",
       "      <td>153</td>\n",
       "      <td>1</td>\n",
       "      <td>215</td>\n",
       "      <td>...</td>\n",
       "      <td>43.7185</td>\n",
       "      <td>-72.4439</td>\n",
       "      <td>140</td>\n",
       "      <td>130</td>\n",
       "      <td>803</td>\n",
       "      <td>401249</td>\n",
       "      <td>1.326167e+09</td>\n",
       "      <td>44.043359</td>\n",
       "      <td>-72.816116</td>\n",
       "      <td>0</td>\n",
       "    </tr>\n",
       "    <tr>\n",
       "      <th>826561</th>\n",
       "      <td>826561</td>\n",
       "      <td>812812</td>\n",
       "      <td>3585052663373890</td>\n",
       "      <td>596</td>\n",
       "      <td>6</td>\n",
       "      <td>155.15</td>\n",
       "      <td>159</td>\n",
       "      <td>46</td>\n",
       "      <td>1</td>\n",
       "      <td>302</td>\n",
       "      <td>...</td>\n",
       "      <td>42.8546</td>\n",
       "      <td>-75.6605</td>\n",
       "      <td>176</td>\n",
       "      <td>406</td>\n",
       "      <td>341</td>\n",
       "      <td>1254016</td>\n",
       "      <td>1.355082e+09</td>\n",
       "      <td>42.167814</td>\n",
       "      <td>-74.767733</td>\n",
       "      <td>0</td>\n",
       "    </tr>\n",
       "    <tr>\n",
       "      <th>766682</th>\n",
       "      <td>766682</td>\n",
       "      <td>754583</td>\n",
       "      <td>377026671291680</td>\n",
       "      <td>338</td>\n",
       "      <td>10</td>\n",
       "      <td>60.96</td>\n",
       "      <td>149</td>\n",
       "      <td>99</td>\n",
       "      <td>0</td>\n",
       "      <td>185</td>\n",
       "      <td>...</td>\n",
       "      <td>37.3272</td>\n",
       "      <td>-91.0243</td>\n",
       "      <td>241</td>\n",
       "      <td>254</td>\n",
       "      <td>545</td>\n",
       "      <td>1002724</td>\n",
       "      <td>1.353764e+09</td>\n",
       "      <td>38.200353</td>\n",
       "      <td>-91.139952</td>\n",
       "      <td>0</td>\n",
       "    </tr>\n",
       "    <tr>\n",
       "      <th>561740</th>\n",
       "      <td>561740</td>\n",
       "      <td>552731</td>\n",
       "      <td>4045036286570100739</td>\n",
       "      <td>689</td>\n",
       "      <td>10</td>\n",
       "      <td>53.37</td>\n",
       "      <td>36</td>\n",
       "      <td>389</td>\n",
       "      <td>0</td>\n",
       "      <td>954</td>\n",
       "      <td>...</td>\n",
       "      <td>39.9458</td>\n",
       "      <td>-75.9703</td>\n",
       "      <td>3066</td>\n",
       "      <td>357</td>\n",
       "      <td>14</td>\n",
       "      <td>179679</td>\n",
       "      <td>1.346023e+09</td>\n",
       "      <td>40.654418</td>\n",
       "      <td>-75.048956</td>\n",
       "      <td>0</td>\n",
       "    </tr>\n",
       "  </tbody>\n",
       "</table>\n",
       "<p>5 rows × 23 columns</p>\n",
       "</div>"
      ],
      "text/plain": [
       "        Unnamed: 0  trans_date_trans_time               cc_num  merchant  \\\n",
       "934134      934134                 917434     3595192916105588       428   \n",
       "15705        15705                  15518     4841313716651064       673   \n",
       "826561      826561                 812812     3585052663373890       596   \n",
       "766682      766682                 754583      377026671291680       338   \n",
       "561740      561740                 552731  4045036286570100739       689   \n",
       "\n",
       "        category     amt  first  last  gender  street  ...      lat     long  \\\n",
       "934134         4   63.24    111   365       1     332  ...  35.0583 -79.0080   \n",
       "15705          9   36.14    259   153       1     215  ...  43.7185 -72.4439   \n",
       "826561         6  155.15    159    46       1     302  ...  42.8546 -75.6605   \n",
       "766682        10   60.96    149    99       0     185  ...  37.3272 -91.0243   \n",
       "561740        10   53.37     36   389       0     954  ...  39.9458 -75.9703   \n",
       "\n",
       "        city_pop  job  dob  trans_num     unix_time  merch_lat  merch_long  \\\n",
       "934134    238602  413  862     926769  1.357466e+09  35.214844  -78.146773   \n",
       "15705        140  130  803     401249  1.326167e+09  44.043359  -72.816116   \n",
       "826561       176  406  341    1254016  1.355082e+09  42.167814  -74.767733   \n",
       "766682       241  254  545    1002724  1.353764e+09  38.200353  -91.139952   \n",
       "561740      3066  357   14     179679  1.346023e+09  40.654418  -75.048956   \n",
       "\n",
       "        is_fraud  \n",
       "934134         0  \n",
       "15705          0  \n",
       "826561         0  \n",
       "766682         0  \n",
       "561740         0  \n",
       "\n",
       "[5 rows x 23 columns]"
      ]
     },
     "execution_count": 126,
     "metadata": {},
     "output_type": "execute_result"
    }
   ],
   "source": [
    "newDataset.head()"
   ]
  },
  {
   "cell_type": "code",
   "execution_count": 127,
   "id": "3f314ffc",
   "metadata": {},
   "outputs": [
    {
     "data": {
      "text/html": [
       "<div>\n",
       "<style scoped>\n",
       "    .dataframe tbody tr th:only-of-type {\n",
       "        vertical-align: middle;\n",
       "    }\n",
       "\n",
       "    .dataframe tbody tr th {\n",
       "        vertical-align: top;\n",
       "    }\n",
       "\n",
       "    .dataframe thead th {\n",
       "        text-align: right;\n",
       "    }\n",
       "</style>\n",
       "<table border=\"1\" class=\"dataframe\">\n",
       "  <thead>\n",
       "    <tr style=\"text-align: right;\">\n",
       "      <th></th>\n",
       "      <th>Unnamed: 0</th>\n",
       "      <th>trans_date_trans_time</th>\n",
       "      <th>cc_num</th>\n",
       "      <th>merchant</th>\n",
       "      <th>category</th>\n",
       "      <th>amt</th>\n",
       "      <th>first</th>\n",
       "      <th>last</th>\n",
       "      <th>gender</th>\n",
       "      <th>street</th>\n",
       "      <th>...</th>\n",
       "      <th>zip</th>\n",
       "      <th>lat</th>\n",
       "      <th>long</th>\n",
       "      <th>city_pop</th>\n",
       "      <th>job</th>\n",
       "      <th>dob</th>\n",
       "      <th>trans_num</th>\n",
       "      <th>unix_time</th>\n",
       "      <th>merch_lat</th>\n",
       "      <th>merch_long</th>\n",
       "    </tr>\n",
       "    <tr>\n",
       "      <th>is_fraud</th>\n",
       "      <th></th>\n",
       "      <th></th>\n",
       "      <th></th>\n",
       "      <th></th>\n",
       "      <th></th>\n",
       "      <th></th>\n",
       "      <th></th>\n",
       "      <th></th>\n",
       "      <th></th>\n",
       "      <th></th>\n",
       "      <th></th>\n",
       "      <th></th>\n",
       "      <th></th>\n",
       "      <th></th>\n",
       "      <th></th>\n",
       "      <th></th>\n",
       "      <th></th>\n",
       "      <th></th>\n",
       "      <th></th>\n",
       "      <th></th>\n",
       "      <th></th>\n",
       "    </tr>\n",
       "  </thead>\n",
       "  <tbody>\n",
       "    <tr>\n",
       "      <th>0</th>\n",
       "      <td>651993.431788</td>\n",
       "      <td>641247.157474</td>\n",
       "      <td>4.108580e+17</td>\n",
       "      <td>341.773381</td>\n",
       "      <td>6.301092</td>\n",
       "      <td>68.844357</td>\n",
       "      <td>180.361178</td>\n",
       "      <td>250.819611</td>\n",
       "      <td>0.459366</td>\n",
       "      <td>486.363043</td>\n",
       "      <td>...</td>\n",
       "      <td>48902.653344</td>\n",
       "      <td>38.404593</td>\n",
       "      <td>-90.212459</td>\n",
       "      <td>90970.525846</td>\n",
       "      <td>253.185985</td>\n",
       "      <td>538.646150</td>\n",
       "      <td>648553.318545</td>\n",
       "      <td>1.349373e+09</td>\n",
       "      <td>38.398764</td>\n",
       "      <td>-90.205375</td>\n",
       "    </tr>\n",
       "    <tr>\n",
       "      <th>1</th>\n",
       "      <td>625016.652852</td>\n",
       "      <td>614702.148721</td>\n",
       "      <td>4.004638e+17</td>\n",
       "      <td>341.464286</td>\n",
       "      <td>7.263993</td>\n",
       "      <td>530.777898</td>\n",
       "      <td>176.146588</td>\n",
       "      <td>250.361007</td>\n",
       "      <td>0.502265</td>\n",
       "      <td>493.323561</td>\n",
       "      <td>...</td>\n",
       "      <td>48036.671509</td>\n",
       "      <td>38.663242</td>\n",
       "      <td>-89.916955</td>\n",
       "      <td>97302.103145</td>\n",
       "      <td>250.966551</td>\n",
       "      <td>491.609808</td>\n",
       "      <td>652301.430704</td>\n",
       "      <td>1.348391e+09</td>\n",
       "      <td>38.653567</td>\n",
       "      <td>-89.916643</td>\n",
       "    </tr>\n",
       "  </tbody>\n",
       "</table>\n",
       "<p>2 rows × 22 columns</p>\n",
       "</div>"
      ],
      "text/plain": [
       "             Unnamed: 0  trans_date_trans_time        cc_num    merchant  \\\n",
       "is_fraud                                                                   \n",
       "0         651993.431788          641247.157474  4.108580e+17  341.773381   \n",
       "1         625016.652852          614702.148721  4.004638e+17  341.464286   \n",
       "\n",
       "          category         amt       first        last    gender      street  \\\n",
       "is_fraud                                                                       \n",
       "0         6.301092   68.844357  180.361178  250.819611  0.459366  486.363043   \n",
       "1         7.263993  530.777898  176.146588  250.361007  0.502265  493.323561   \n",
       "\n",
       "          ...           zip        lat       long      city_pop         job  \\\n",
       "is_fraud  ...                                                                 \n",
       "0         ...  48902.653344  38.404593 -90.212459  90970.525846  253.185985   \n",
       "1         ...  48036.671509  38.663242 -89.916955  97302.103145  250.966551   \n",
       "\n",
       "                 dob      trans_num     unix_time  merch_lat  merch_long  \n",
       "is_fraud                                                                  \n",
       "0         538.646150  648553.318545  1.349373e+09  38.398764  -90.205375  \n",
       "1         491.609808  652301.430704  1.348391e+09  38.653567  -89.916643  \n",
       "\n",
       "[2 rows x 22 columns]"
      ]
     },
     "execution_count": 127,
     "metadata": {},
     "output_type": "execute_result"
    }
   ],
   "source": [
    "newDataset.groupby('is_fraud').mean()"
   ]
  },
  {
   "cell_type": "code",
   "execution_count": 128,
   "id": "03b0d8a9",
   "metadata": {},
   "outputs": [
    {
     "data": {
      "text/html": [
       "<div>\n",
       "<style scoped>\n",
       "    .dataframe tbody tr th:only-of-type {\n",
       "        vertical-align: middle;\n",
       "    }\n",
       "\n",
       "    .dataframe tbody tr th {\n",
       "        vertical-align: top;\n",
       "    }\n",
       "\n",
       "    .dataframe thead th {\n",
       "        text-align: right;\n",
       "    }\n",
       "</style>\n",
       "<table border=\"1\" class=\"dataframe\">\n",
       "  <thead>\n",
       "    <tr style=\"text-align: right;\">\n",
       "      <th></th>\n",
       "      <th>Unnamed: 0</th>\n",
       "      <th>trans_date_trans_time</th>\n",
       "      <th>cc_num</th>\n",
       "      <th>merchant</th>\n",
       "      <th>category</th>\n",
       "      <th>amt</th>\n",
       "      <th>first</th>\n",
       "      <th>last</th>\n",
       "      <th>gender</th>\n",
       "      <th>street</th>\n",
       "      <th>...</th>\n",
       "      <th>lat</th>\n",
       "      <th>long</th>\n",
       "      <th>city_pop</th>\n",
       "      <th>job</th>\n",
       "      <th>dob</th>\n",
       "      <th>trans_num</th>\n",
       "      <th>unix_time</th>\n",
       "      <th>merch_lat</th>\n",
       "      <th>merch_long</th>\n",
       "      <th>is_fraud</th>\n",
       "    </tr>\n",
       "  </thead>\n",
       "  <tbody>\n",
       "    <tr>\n",
       "      <th>Unnamed: 0</th>\n",
       "      <td>1.000000</td>\n",
       "      <td>0.999999</td>\n",
       "      <td>0.012597</td>\n",
       "      <td>0.005332</td>\n",
       "      <td>0.006853</td>\n",
       "      <td>-0.006223</td>\n",
       "      <td>0.025857</td>\n",
       "      <td>-0.016164</td>\n",
       "      <td>0.015129</td>\n",
       "      <td>0.002980</td>\n",
       "      <td>...</td>\n",
       "      <td>-0.009531</td>\n",
       "      <td>0.002563</td>\n",
       "      <td>-0.002887</td>\n",
       "      <td>0.011474</td>\n",
       "      <td>-0.014903</td>\n",
       "      <td>0.010645</td>\n",
       "      <td>0.999034</td>\n",
       "      <td>-0.010340</td>\n",
       "      <td>0.002323</td>\n",
       "      <td>-0.034782</td>\n",
       "    </tr>\n",
       "    <tr>\n",
       "      <th>trans_date_trans_time</th>\n",
       "      <td>0.999999</td>\n",
       "      <td>1.000000</td>\n",
       "      <td>0.012601</td>\n",
       "      <td>0.005339</td>\n",
       "      <td>0.006857</td>\n",
       "      <td>-0.006257</td>\n",
       "      <td>0.025861</td>\n",
       "      <td>-0.016167</td>\n",
       "      <td>0.015166</td>\n",
       "      <td>0.002971</td>\n",
       "      <td>...</td>\n",
       "      <td>-0.009529</td>\n",
       "      <td>0.002595</td>\n",
       "      <td>-0.002900</td>\n",
       "      <td>0.011490</td>\n",
       "      <td>-0.014904</td>\n",
       "      <td>0.010645</td>\n",
       "      <td>0.999068</td>\n",
       "      <td>-0.010338</td>\n",
       "      <td>0.002354</td>\n",
       "      <td>-0.034842</td>\n",
       "    </tr>\n",
       "    <tr>\n",
       "      <th>cc_num</th>\n",
       "      <td>0.012597</td>\n",
       "      <td>0.012601</td>\n",
       "      <td>1.000000</td>\n",
       "      <td>0.013114</td>\n",
       "      <td>0.000549</td>\n",
       "      <td>0.008606</td>\n",
       "      <td>0.007169</td>\n",
       "      <td>0.010428</td>\n",
       "      <td>0.022352</td>\n",
       "      <td>0.008418</td>\n",
       "      <td>...</td>\n",
       "      <td>-0.052183</td>\n",
       "      <td>-0.048626</td>\n",
       "      <td>-0.010262</td>\n",
       "      <td>0.032125</td>\n",
       "      <td>-0.014799</td>\n",
       "      <td>-0.001369</td>\n",
       "      <td>0.012922</td>\n",
       "      <td>-0.051899</td>\n",
       "      <td>-0.048552</td>\n",
       "      <td>-0.004035</td>\n",
       "    </tr>\n",
       "    <tr>\n",
       "      <th>merchant</th>\n",
       "      <td>0.005332</td>\n",
       "      <td>0.005339</td>\n",
       "      <td>0.013114</td>\n",
       "      <td>1.000000</td>\n",
       "      <td>0.027770</td>\n",
       "      <td>-0.001251</td>\n",
       "      <td>0.002033</td>\n",
       "      <td>-0.001239</td>\n",
       "      <td>0.012781</td>\n",
       "      <td>-0.010058</td>\n",
       "      <td>...</td>\n",
       "      <td>0.002314</td>\n",
       "      <td>-0.004404</td>\n",
       "      <td>0.007995</td>\n",
       "      <td>0.006779</td>\n",
       "      <td>0.014845</td>\n",
       "      <td>0.011282</td>\n",
       "      <td>0.005257</td>\n",
       "      <td>0.002344</td>\n",
       "      <td>-0.004372</td>\n",
       "      <td>-0.000785</td>\n",
       "    </tr>\n",
       "    <tr>\n",
       "      <th>category</th>\n",
       "      <td>0.006853</td>\n",
       "      <td>0.006857</td>\n",
       "      <td>0.000549</td>\n",
       "      <td>0.027770</td>\n",
       "      <td>1.000000</td>\n",
       "      <td>0.411541</td>\n",
       "      <td>-0.023274</td>\n",
       "      <td>0.006148</td>\n",
       "      <td>-0.001071</td>\n",
       "      <td>-0.004231</td>\n",
       "      <td>...</td>\n",
       "      <td>-0.003928</td>\n",
       "      <td>0.017939</td>\n",
       "      <td>-0.004471</td>\n",
       "      <td>-0.003566</td>\n",
       "      <td>-0.001679</td>\n",
       "      <td>-0.012868</td>\n",
       "      <td>0.006808</td>\n",
       "      <td>-0.002777</td>\n",
       "      <td>0.018716</td>\n",
       "      <td>0.124207</td>\n",
       "    </tr>\n",
       "    <tr>\n",
       "      <th>amt</th>\n",
       "      <td>-0.006223</td>\n",
       "      <td>-0.006257</td>\n",
       "      <td>0.008606</td>\n",
       "      <td>-0.001251</td>\n",
       "      <td>0.411541</td>\n",
       "      <td>1.000000</td>\n",
       "      <td>-0.008787</td>\n",
       "      <td>0.001129</td>\n",
       "      <td>0.065925</td>\n",
       "      <td>0.005243</td>\n",
       "      <td>...</td>\n",
       "      <td>0.018525</td>\n",
       "      <td>0.010872</td>\n",
       "      <td>0.015345</td>\n",
       "      <td>-0.012860</td>\n",
       "      <td>-0.067113</td>\n",
       "      <td>0.000826</td>\n",
       "      <td>-0.007617</td>\n",
       "      <td>0.017808</td>\n",
       "      <td>0.010925</td>\n",
       "      <td>0.584884</td>\n",
       "    </tr>\n",
       "    <tr>\n",
       "      <th>first</th>\n",
       "      <td>0.025857</td>\n",
       "      <td>0.025861</td>\n",
       "      <td>0.007169</td>\n",
       "      <td>0.002033</td>\n",
       "      <td>-0.023274</td>\n",
       "      <td>-0.008787</td>\n",
       "      <td>1.000000</td>\n",
       "      <td>-0.065253</td>\n",
       "      <td>0.003906</td>\n",
       "      <td>-0.035591</td>\n",
       "      <td>...</td>\n",
       "      <td>0.111369</td>\n",
       "      <td>-0.039107</td>\n",
       "      <td>-0.032312</td>\n",
       "      <td>-0.035792</td>\n",
       "      <td>0.034065</td>\n",
       "      <td>0.005908</td>\n",
       "      <td>0.025417</td>\n",
       "      <td>0.110393</td>\n",
       "      <td>-0.039489</td>\n",
       "      <td>-0.021679</td>\n",
       "    </tr>\n",
       "    <tr>\n",
       "      <th>last</th>\n",
       "      <td>-0.016164</td>\n",
       "      <td>-0.016167</td>\n",
       "      <td>0.010428</td>\n",
       "      <td>-0.001239</td>\n",
       "      <td>0.006148</td>\n",
       "      <td>0.001129</td>\n",
       "      <td>-0.065253</td>\n",
       "      <td>1.000000</td>\n",
       "      <td>0.034188</td>\n",
       "      <td>0.016601</td>\n",
       "      <td>...</td>\n",
       "      <td>-0.030637</td>\n",
       "      <td>0.005765</td>\n",
       "      <td>-0.030192</td>\n",
       "      <td>0.002190</td>\n",
       "      <td>-0.014335</td>\n",
       "      <td>0.007274</td>\n",
       "      <td>-0.016360</td>\n",
       "      <td>-0.030408</td>\n",
       "      <td>0.005808</td>\n",
       "      <td>-0.001670</td>\n",
       "    </tr>\n",
       "    <tr>\n",
       "      <th>gender</th>\n",
       "      <td>0.015129</td>\n",
       "      <td>0.015166</td>\n",
       "      <td>0.022352</td>\n",
       "      <td>0.012781</td>\n",
       "      <td>-0.001071</td>\n",
       "      <td>0.065925</td>\n",
       "      <td>0.003906</td>\n",
       "      <td>0.034188</td>\n",
       "      <td>1.000000</td>\n",
       "      <td>0.038916</td>\n",
       "      <td>...</td>\n",
       "      <td>0.051000</td>\n",
       "      <td>0.035403</td>\n",
       "      <td>-0.020478</td>\n",
       "      <td>-0.086400</td>\n",
       "      <td>-0.004165</td>\n",
       "      <td>-0.004794</td>\n",
       "      <td>0.015629</td>\n",
       "      <td>0.050248</td>\n",
       "      <td>0.035620</td>\n",
       "      <td>0.042931</td>\n",
       "    </tr>\n",
       "    <tr>\n",
       "      <th>street</th>\n",
       "      <td>0.002980</td>\n",
       "      <td>0.002971</td>\n",
       "      <td>0.008418</td>\n",
       "      <td>-0.010058</td>\n",
       "      <td>-0.004231</td>\n",
       "      <td>0.005243</td>\n",
       "      <td>-0.035591</td>\n",
       "      <td>0.016601</td>\n",
       "      <td>0.038916</td>\n",
       "      <td>1.000000</td>\n",
       "      <td>...</td>\n",
       "      <td>0.009596</td>\n",
       "      <td>0.050762</td>\n",
       "      <td>-0.007338</td>\n",
       "      <td>-0.029478</td>\n",
       "      <td>-0.048954</td>\n",
       "      <td>-0.008116</td>\n",
       "      <td>0.002574</td>\n",
       "      <td>0.009511</td>\n",
       "      <td>0.051100</td>\n",
       "      <td>0.012362</td>\n",
       "    </tr>\n",
       "    <tr>\n",
       "      <th>city</th>\n",
       "      <td>-0.002098</td>\n",
       "      <td>-0.002133</td>\n",
       "      <td>0.034026</td>\n",
       "      <td>0.011267</td>\n",
       "      <td>-0.009031</td>\n",
       "      <td>-0.009953</td>\n",
       "      <td>-0.002194</td>\n",
       "      <td>0.026932</td>\n",
       "      <td>0.004138</td>\n",
       "      <td>-0.022231</td>\n",
       "      <td>...</td>\n",
       "      <td>-0.030457</td>\n",
       "      <td>-0.047032</td>\n",
       "      <td>0.019930</td>\n",
       "      <td>0.011425</td>\n",
       "      <td>0.012446</td>\n",
       "      <td>-0.003944</td>\n",
       "      <td>-0.004041</td>\n",
       "      <td>-0.029249</td>\n",
       "      <td>-0.047378</td>\n",
       "      <td>-0.016142</td>\n",
       "    </tr>\n",
       "    <tr>\n",
       "      <th>state</th>\n",
       "      <td>0.037676</td>\n",
       "      <td>0.037674</td>\n",
       "      <td>-0.027602</td>\n",
       "      <td>0.011662</td>\n",
       "      <td>0.003870</td>\n",
       "      <td>0.019437</td>\n",
       "      <td>0.042166</td>\n",
       "      <td>-0.031273</td>\n",
       "      <td>-0.042580</td>\n",
       "      <td>0.000452</td>\n",
       "      <td>...</td>\n",
       "      <td>0.213887</td>\n",
       "      <td>0.140641</td>\n",
       "      <td>0.004821</td>\n",
       "      <td>0.034326</td>\n",
       "      <td>0.032811</td>\n",
       "      <td>-0.010808</td>\n",
       "      <td>0.037014</td>\n",
       "      <td>0.211448</td>\n",
       "      <td>0.140230</td>\n",
       "      <td>0.022885</td>\n",
       "    </tr>\n",
       "    <tr>\n",
       "      <th>zip</th>\n",
       "      <td>0.003594</td>\n",
       "      <td>0.003563</td>\n",
       "      <td>0.038184</td>\n",
       "      <td>0.001709</td>\n",
       "      <td>-0.013801</td>\n",
       "      <td>-0.014193</td>\n",
       "      <td>0.031733</td>\n",
       "      <td>-0.000048</td>\n",
       "      <td>-0.045907</td>\n",
       "      <td>-0.040413</td>\n",
       "      <td>...</td>\n",
       "      <td>-0.079687</td>\n",
       "      <td>-0.911122</td>\n",
       "      <td>0.102331</td>\n",
       "      <td>-0.005113</td>\n",
       "      <td>-0.013128</td>\n",
       "      <td>-0.002366</td>\n",
       "      <td>0.002353</td>\n",
       "      <td>-0.079525</td>\n",
       "      <td>-0.910246</td>\n",
       "      <td>-0.016033</td>\n",
       "    </tr>\n",
       "    <tr>\n",
       "      <th>lat</th>\n",
       "      <td>-0.009531</td>\n",
       "      <td>-0.009529</td>\n",
       "      <td>-0.052183</td>\n",
       "      <td>0.002314</td>\n",
       "      <td>-0.003928</td>\n",
       "      <td>0.018525</td>\n",
       "      <td>0.111369</td>\n",
       "      <td>-0.030637</td>\n",
       "      <td>0.051000</td>\n",
       "      <td>0.009596</td>\n",
       "      <td>...</td>\n",
       "      <td>1.000000</td>\n",
       "      <td>-0.061531</td>\n",
       "      <td>-0.169288</td>\n",
       "      <td>-0.038111</td>\n",
       "      <td>-0.021678</td>\n",
       "      <td>-0.003694</td>\n",
       "      <td>-0.008806</td>\n",
       "      <td>0.993693</td>\n",
       "      <td>-0.061764</td>\n",
       "      <td>0.025160</td>\n",
       "    </tr>\n",
       "    <tr>\n",
       "      <th>long</th>\n",
       "      <td>0.002563</td>\n",
       "      <td>0.002595</td>\n",
       "      <td>-0.048626</td>\n",
       "      <td>-0.004404</td>\n",
       "      <td>0.017939</td>\n",
       "      <td>0.010872</td>\n",
       "      <td>-0.039107</td>\n",
       "      <td>0.005765</td>\n",
       "      <td>0.035403</td>\n",
       "      <td>0.050762</td>\n",
       "      <td>...</td>\n",
       "      <td>-0.061531</td>\n",
       "      <td>1.000000</td>\n",
       "      <td>-0.068601</td>\n",
       "      <td>-0.002577</td>\n",
       "      <td>0.021433</td>\n",
       "      <td>0.004561</td>\n",
       "      <td>0.003650</td>\n",
       "      <td>-0.061253</td>\n",
       "      <td>0.999150</td>\n",
       "      <td>0.010584</td>\n",
       "    </tr>\n",
       "    <tr>\n",
       "      <th>city_pop</th>\n",
       "      <td>-0.002887</td>\n",
       "      <td>-0.002900</td>\n",
       "      <td>-0.010262</td>\n",
       "      <td>0.007995</td>\n",
       "      <td>-0.004471</td>\n",
       "      <td>0.015345</td>\n",
       "      <td>-0.032312</td>\n",
       "      <td>-0.030192</td>\n",
       "      <td>-0.020478</td>\n",
       "      <td>-0.007338</td>\n",
       "      <td>...</td>\n",
       "      <td>-0.169288</td>\n",
       "      <td>-0.068601</td>\n",
       "      <td>1.000000</td>\n",
       "      <td>-0.068235</td>\n",
       "      <td>0.054569</td>\n",
       "      <td>0.016063</td>\n",
       "      <td>-0.003514</td>\n",
       "      <td>-0.169433</td>\n",
       "      <td>-0.068829</td>\n",
       "      <td>0.009996</td>\n",
       "    </tr>\n",
       "    <tr>\n",
       "      <th>job</th>\n",
       "      <td>0.011474</td>\n",
       "      <td>0.011490</td>\n",
       "      <td>0.032125</td>\n",
       "      <td>0.006779</td>\n",
       "      <td>-0.003566</td>\n",
       "      <td>-0.012860</td>\n",
       "      <td>-0.035792</td>\n",
       "      <td>0.002190</td>\n",
       "      <td>-0.086400</td>\n",
       "      <td>-0.029478</td>\n",
       "      <td>...</td>\n",
       "      <td>-0.038111</td>\n",
       "      <td>-0.002577</td>\n",
       "      <td>-0.068235</td>\n",
       "      <td>1.000000</td>\n",
       "      <td>0.031507</td>\n",
       "      <td>-0.012410</td>\n",
       "      <td>0.011758</td>\n",
       "      <td>-0.036915</td>\n",
       "      <td>-0.002864</td>\n",
       "      <td>-0.007921</td>\n",
       "    </tr>\n",
       "    <tr>\n",
       "      <th>dob</th>\n",
       "      <td>-0.014903</td>\n",
       "      <td>-0.014904</td>\n",
       "      <td>-0.014799</td>\n",
       "      <td>0.014845</td>\n",
       "      <td>-0.001679</td>\n",
       "      <td>-0.067113</td>\n",
       "      <td>0.034065</td>\n",
       "      <td>-0.014335</td>\n",
       "      <td>-0.004165</td>\n",
       "      <td>-0.048954</td>\n",
       "      <td>...</td>\n",
       "      <td>-0.021678</td>\n",
       "      <td>0.021433</td>\n",
       "      <td>0.054569</td>\n",
       "      <td>0.031507</td>\n",
       "      <td>1.000000</td>\n",
       "      <td>0.000292</td>\n",
       "      <td>-0.014637</td>\n",
       "      <td>-0.022992</td>\n",
       "      <td>0.020915</td>\n",
       "      <td>-0.085090</td>\n",
       "    </tr>\n",
       "    <tr>\n",
       "      <th>trans_num</th>\n",
       "      <td>0.010645</td>\n",
       "      <td>0.010645</td>\n",
       "      <td>-0.001369</td>\n",
       "      <td>0.011282</td>\n",
       "      <td>-0.012868</td>\n",
       "      <td>0.000826</td>\n",
       "      <td>0.005908</td>\n",
       "      <td>0.007274</td>\n",
       "      <td>-0.004794</td>\n",
       "      <td>-0.008116</td>\n",
       "      <td>...</td>\n",
       "      <td>-0.003694</td>\n",
       "      <td>0.004561</td>\n",
       "      <td>0.016063</td>\n",
       "      <td>-0.012410</td>\n",
       "      <td>0.000292</td>\n",
       "      <td>1.000000</td>\n",
       "      <td>0.010371</td>\n",
       "      <td>-0.002233</td>\n",
       "      <td>0.004663</td>\n",
       "      <td>0.005012</td>\n",
       "    </tr>\n",
       "    <tr>\n",
       "      <th>unix_time</th>\n",
       "      <td>0.999034</td>\n",
       "      <td>0.999068</td>\n",
       "      <td>0.012922</td>\n",
       "      <td>0.005257</td>\n",
       "      <td>0.006808</td>\n",
       "      <td>-0.007617</td>\n",
       "      <td>0.025417</td>\n",
       "      <td>-0.016360</td>\n",
       "      <td>0.015629</td>\n",
       "      <td>0.002574</td>\n",
       "      <td>...</td>\n",
       "      <td>-0.008806</td>\n",
       "      <td>0.003650</td>\n",
       "      <td>-0.003514</td>\n",
       "      <td>0.011758</td>\n",
       "      <td>-0.014637</td>\n",
       "      <td>0.010371</td>\n",
       "      <td>1.000000</td>\n",
       "      <td>-0.009620</td>\n",
       "      <td>0.003388</td>\n",
       "      <td>-0.036789</td>\n",
       "    </tr>\n",
       "    <tr>\n",
       "      <th>merch_lat</th>\n",
       "      <td>-0.010340</td>\n",
       "      <td>-0.010338</td>\n",
       "      <td>-0.051899</td>\n",
       "      <td>0.002344</td>\n",
       "      <td>-0.002777</td>\n",
       "      <td>0.017808</td>\n",
       "      <td>0.110393</td>\n",
       "      <td>-0.030408</td>\n",
       "      <td>0.050248</td>\n",
       "      <td>0.009511</td>\n",
       "      <td>...</td>\n",
       "      <td>0.993693</td>\n",
       "      <td>-0.061253</td>\n",
       "      <td>-0.169433</td>\n",
       "      <td>-0.036915</td>\n",
       "      <td>-0.022992</td>\n",
       "      <td>-0.002233</td>\n",
       "      <td>-0.009620</td>\n",
       "      <td>1.000000</td>\n",
       "      <td>-0.061437</td>\n",
       "      <td>0.024586</td>\n",
       "    </tr>\n",
       "    <tr>\n",
       "      <th>merch_long</th>\n",
       "      <td>0.002323</td>\n",
       "      <td>0.002354</td>\n",
       "      <td>-0.048552</td>\n",
       "      <td>-0.004372</td>\n",
       "      <td>0.018716</td>\n",
       "      <td>0.010925</td>\n",
       "      <td>-0.039489</td>\n",
       "      <td>0.005808</td>\n",
       "      <td>0.035620</td>\n",
       "      <td>0.051100</td>\n",
       "      <td>...</td>\n",
       "      <td>-0.061764</td>\n",
       "      <td>0.999150</td>\n",
       "      <td>-0.068829</td>\n",
       "      <td>-0.002864</td>\n",
       "      <td>0.020915</td>\n",
       "      <td>0.004663</td>\n",
       "      <td>0.003388</td>\n",
       "      <td>-0.061437</td>\n",
       "      <td>1.000000</td>\n",
       "      <td>0.010328</td>\n",
       "    </tr>\n",
       "    <tr>\n",
       "      <th>is_fraud</th>\n",
       "      <td>-0.034782</td>\n",
       "      <td>-0.034842</td>\n",
       "      <td>-0.004035</td>\n",
       "      <td>-0.000785</td>\n",
       "      <td>0.124207</td>\n",
       "      <td>0.584884</td>\n",
       "      <td>-0.021679</td>\n",
       "      <td>-0.001670</td>\n",
       "      <td>0.042931</td>\n",
       "      <td>0.012362</td>\n",
       "      <td>...</td>\n",
       "      <td>0.025160</td>\n",
       "      <td>0.010584</td>\n",
       "      <td>0.009996</td>\n",
       "      <td>-0.007921</td>\n",
       "      <td>-0.085090</td>\n",
       "      <td>0.005012</td>\n",
       "      <td>-0.036789</td>\n",
       "      <td>0.024586</td>\n",
       "      <td>0.010328</td>\n",
       "      <td>1.000000</td>\n",
       "    </tr>\n",
       "  </tbody>\n",
       "</table>\n",
       "<p>23 rows × 23 columns</p>\n",
       "</div>"
      ],
      "text/plain": [
       "                       Unnamed: 0  trans_date_trans_time    cc_num  merchant  \\\n",
       "Unnamed: 0               1.000000               0.999999  0.012597  0.005332   \n",
       "trans_date_trans_time    0.999999               1.000000  0.012601  0.005339   \n",
       "cc_num                   0.012597               0.012601  1.000000  0.013114   \n",
       "merchant                 0.005332               0.005339  0.013114  1.000000   \n",
       "category                 0.006853               0.006857  0.000549  0.027770   \n",
       "amt                     -0.006223              -0.006257  0.008606 -0.001251   \n",
       "first                    0.025857               0.025861  0.007169  0.002033   \n",
       "last                    -0.016164              -0.016167  0.010428 -0.001239   \n",
       "gender                   0.015129               0.015166  0.022352  0.012781   \n",
       "street                   0.002980               0.002971  0.008418 -0.010058   \n",
       "city                    -0.002098              -0.002133  0.034026  0.011267   \n",
       "state                    0.037676               0.037674 -0.027602  0.011662   \n",
       "zip                      0.003594               0.003563  0.038184  0.001709   \n",
       "lat                     -0.009531              -0.009529 -0.052183  0.002314   \n",
       "long                     0.002563               0.002595 -0.048626 -0.004404   \n",
       "city_pop                -0.002887              -0.002900 -0.010262  0.007995   \n",
       "job                      0.011474               0.011490  0.032125  0.006779   \n",
       "dob                     -0.014903              -0.014904 -0.014799  0.014845   \n",
       "trans_num                0.010645               0.010645 -0.001369  0.011282   \n",
       "unix_time                0.999034               0.999068  0.012922  0.005257   \n",
       "merch_lat               -0.010340              -0.010338 -0.051899  0.002344   \n",
       "merch_long               0.002323               0.002354 -0.048552 -0.004372   \n",
       "is_fraud                -0.034782              -0.034842 -0.004035 -0.000785   \n",
       "\n",
       "                       category       amt     first      last    gender  \\\n",
       "Unnamed: 0             0.006853 -0.006223  0.025857 -0.016164  0.015129   \n",
       "trans_date_trans_time  0.006857 -0.006257  0.025861 -0.016167  0.015166   \n",
       "cc_num                 0.000549  0.008606  0.007169  0.010428  0.022352   \n",
       "merchant               0.027770 -0.001251  0.002033 -0.001239  0.012781   \n",
       "category               1.000000  0.411541 -0.023274  0.006148 -0.001071   \n",
       "amt                    0.411541  1.000000 -0.008787  0.001129  0.065925   \n",
       "first                 -0.023274 -0.008787  1.000000 -0.065253  0.003906   \n",
       "last                   0.006148  0.001129 -0.065253  1.000000  0.034188   \n",
       "gender                -0.001071  0.065925  0.003906  0.034188  1.000000   \n",
       "street                -0.004231  0.005243 -0.035591  0.016601  0.038916   \n",
       "city                  -0.009031 -0.009953 -0.002194  0.026932  0.004138   \n",
       "state                  0.003870  0.019437  0.042166 -0.031273 -0.042580   \n",
       "zip                   -0.013801 -0.014193  0.031733 -0.000048 -0.045907   \n",
       "lat                   -0.003928  0.018525  0.111369 -0.030637  0.051000   \n",
       "long                   0.017939  0.010872 -0.039107  0.005765  0.035403   \n",
       "city_pop              -0.004471  0.015345 -0.032312 -0.030192 -0.020478   \n",
       "job                   -0.003566 -0.012860 -0.035792  0.002190 -0.086400   \n",
       "dob                   -0.001679 -0.067113  0.034065 -0.014335 -0.004165   \n",
       "trans_num             -0.012868  0.000826  0.005908  0.007274 -0.004794   \n",
       "unix_time              0.006808 -0.007617  0.025417 -0.016360  0.015629   \n",
       "merch_lat             -0.002777  0.017808  0.110393 -0.030408  0.050248   \n",
       "merch_long             0.018716  0.010925 -0.039489  0.005808  0.035620   \n",
       "is_fraud               0.124207  0.584884 -0.021679 -0.001670  0.042931   \n",
       "\n",
       "                         street  ...       lat      long  city_pop       job  \\\n",
       "Unnamed: 0             0.002980  ... -0.009531  0.002563 -0.002887  0.011474   \n",
       "trans_date_trans_time  0.002971  ... -0.009529  0.002595 -0.002900  0.011490   \n",
       "cc_num                 0.008418  ... -0.052183 -0.048626 -0.010262  0.032125   \n",
       "merchant              -0.010058  ...  0.002314 -0.004404  0.007995  0.006779   \n",
       "category              -0.004231  ... -0.003928  0.017939 -0.004471 -0.003566   \n",
       "amt                    0.005243  ...  0.018525  0.010872  0.015345 -0.012860   \n",
       "first                 -0.035591  ...  0.111369 -0.039107 -0.032312 -0.035792   \n",
       "last                   0.016601  ... -0.030637  0.005765 -0.030192  0.002190   \n",
       "gender                 0.038916  ...  0.051000  0.035403 -0.020478 -0.086400   \n",
       "street                 1.000000  ...  0.009596  0.050762 -0.007338 -0.029478   \n",
       "city                  -0.022231  ... -0.030457 -0.047032  0.019930  0.011425   \n",
       "state                  0.000452  ...  0.213887  0.140641  0.004821  0.034326   \n",
       "zip                   -0.040413  ... -0.079687 -0.911122  0.102331 -0.005113   \n",
       "lat                    0.009596  ...  1.000000 -0.061531 -0.169288 -0.038111   \n",
       "long                   0.050762  ... -0.061531  1.000000 -0.068601 -0.002577   \n",
       "city_pop              -0.007338  ... -0.169288 -0.068601  1.000000 -0.068235   \n",
       "job                   -0.029478  ... -0.038111 -0.002577 -0.068235  1.000000   \n",
       "dob                   -0.048954  ... -0.021678  0.021433  0.054569  0.031507   \n",
       "trans_num             -0.008116  ... -0.003694  0.004561  0.016063 -0.012410   \n",
       "unix_time              0.002574  ... -0.008806  0.003650 -0.003514  0.011758   \n",
       "merch_lat              0.009511  ...  0.993693 -0.061253 -0.169433 -0.036915   \n",
       "merch_long             0.051100  ... -0.061764  0.999150 -0.068829 -0.002864   \n",
       "is_fraud               0.012362  ...  0.025160  0.010584  0.009996 -0.007921   \n",
       "\n",
       "                            dob  trans_num  unix_time  merch_lat  merch_long  \\\n",
       "Unnamed: 0            -0.014903   0.010645   0.999034  -0.010340    0.002323   \n",
       "trans_date_trans_time -0.014904   0.010645   0.999068  -0.010338    0.002354   \n",
       "cc_num                -0.014799  -0.001369   0.012922  -0.051899   -0.048552   \n",
       "merchant               0.014845   0.011282   0.005257   0.002344   -0.004372   \n",
       "category              -0.001679  -0.012868   0.006808  -0.002777    0.018716   \n",
       "amt                   -0.067113   0.000826  -0.007617   0.017808    0.010925   \n",
       "first                  0.034065   0.005908   0.025417   0.110393   -0.039489   \n",
       "last                  -0.014335   0.007274  -0.016360  -0.030408    0.005808   \n",
       "gender                -0.004165  -0.004794   0.015629   0.050248    0.035620   \n",
       "street                -0.048954  -0.008116   0.002574   0.009511    0.051100   \n",
       "city                   0.012446  -0.003944  -0.004041  -0.029249   -0.047378   \n",
       "state                  0.032811  -0.010808   0.037014   0.211448    0.140230   \n",
       "zip                   -0.013128  -0.002366   0.002353  -0.079525   -0.910246   \n",
       "lat                   -0.021678  -0.003694  -0.008806   0.993693   -0.061764   \n",
       "long                   0.021433   0.004561   0.003650  -0.061253    0.999150   \n",
       "city_pop               0.054569   0.016063  -0.003514  -0.169433   -0.068829   \n",
       "job                    0.031507  -0.012410   0.011758  -0.036915   -0.002864   \n",
       "dob                    1.000000   0.000292  -0.014637  -0.022992    0.020915   \n",
       "trans_num              0.000292   1.000000   0.010371  -0.002233    0.004663   \n",
       "unix_time             -0.014637   0.010371   1.000000  -0.009620    0.003388   \n",
       "merch_lat             -0.022992  -0.002233  -0.009620   1.000000   -0.061437   \n",
       "merch_long             0.020915   0.004663   0.003388  -0.061437    1.000000   \n",
       "is_fraud              -0.085090   0.005012  -0.036789   0.024586    0.010328   \n",
       "\n",
       "                       is_fraud  \n",
       "Unnamed: 0            -0.034782  \n",
       "trans_date_trans_time -0.034842  \n",
       "cc_num                -0.004035  \n",
       "merchant              -0.000785  \n",
       "category               0.124207  \n",
       "amt                    0.584884  \n",
       "first                 -0.021679  \n",
       "last                  -0.001670  \n",
       "gender                 0.042931  \n",
       "street                 0.012362  \n",
       "city                  -0.016142  \n",
       "state                  0.022885  \n",
       "zip                   -0.016033  \n",
       "lat                    0.025160  \n",
       "long                   0.010584  \n",
       "city_pop               0.009996  \n",
       "job                   -0.007921  \n",
       "dob                   -0.085090  \n",
       "trans_num              0.005012  \n",
       "unix_time             -0.036789  \n",
       "merch_lat              0.024586  \n",
       "merch_long             0.010328  \n",
       "is_fraud               1.000000  \n",
       "\n",
       "[23 rows x 23 columns]"
      ]
     },
     "execution_count": 128,
     "metadata": {},
     "output_type": "execute_result"
    }
   ],
   "source": [
    "corr = newDataset.corr()\n",
    "corr"
   ]
  },
  {
   "cell_type": "code",
   "execution_count": 129,
   "id": "d20568f7",
   "metadata": {},
   "outputs": [
    {
     "data": {
      "text/plain": [
       "<Axes: >"
      ]
     },
     "execution_count": 129,
     "metadata": {},
     "output_type": "execute_result"
    },
    {
     "data": {
      "image/png": "[encoded data removed]",
      "text/plain": [
       "<Figure size 640x480 with 2 Axes>"
      ]
     },
     "metadata": {},
     "output_type": "display_data"
    }
   ],
   "source": [
    "sns.heatmap(corr, cmap = 'YlGnBu')"
   ]
  },
  {
   "cell_type": "code",
   "execution_count": 130,
   "id": "8112ff06",
   "metadata": {},
   "outputs": [],
   "source": [
    "train_df2 = newDataset.drop([\"Unnamed: 0\", \"gender\", \"first\", \"last\", \"street\", \"city\", \"state\", \"zip\",\"dob\",\"trans_num\"], axis=1)"
   ]
  },
  {
   "cell_type": "code",
   "execution_count": 131,
   "id": "9b5ce01a",
   "metadata": {},
   "outputs": [],
   "source": [
    "nX = train_df2.drop(\"is_fraud\",axis=1)\n",
    "ny = train_df2[\"is_fraud\"]\n",
    "X_trainN, X_testN, y_trainN, y_testN = train_test_split(nX, ny, test_size=0.3,stratify=ny,random_state=2)"
   ]
  },
  {
   "cell_type": "code",
   "execution_count": 132,
   "id": "2e4e7819",
   "metadata": {},
   "outputs": [
    {
     "name": "stdout",
     "output_type": "stream",
     "text": [
      "[ 6.24886616e+05  4.00602822e+17  3.41678595e+02  6.79518416e+00\n",
      "  3.00551452e+02  3.85451145e+01 -9.00766628e+01  9.24277754e+04\n",
      "  2.51319787e+02  1.34876777e+09  3.85372427e+01 -9.00743652e+01]\n"
     ]
    }
   ],
   "source": [
    "scaler.fit(X_trainN)\n",
    "print(scaler.mean_)\n",
    "X_trainN = scaler.transform(X_trainN)\n",
    "X_testN = scaler.transform(X_testN)"
   ]
  },
  {
   "cell_type": "markdown",
   "id": "01fbbfa4",
   "metadata": {},
   "source": [
    "### Applying KNN on our under sampled dataset"
   ]
  },
  {
   "cell_type": "code",
   "execution_count": 187,
   "id": "110496c6",
   "metadata": {},
   "outputs": [],
   "source": [
    "knn = KNeighborsClassifier(n_neighbors=953)\n",
    "knn.fit(X_trainN, y_trainN)\n",
    "y_pred = knn.predict(X_testN)"
   ]
  },
  {
   "cell_type": "code",
   "execution_count": 188,
   "id": "34d6879f",
   "metadata": {},
   "outputs": [
    {
     "name": "stdout",
     "output_type": "stream",
     "text": [
      "Training Accuracy: 0.7367469306176835\n",
      "Testing Accuracy: 0.7363979569176105\n"
     ]
    }
   ],
   "source": [
    "knn_new_training = accuracy_score(y_trainN, knn.predict(X_trainN))\n",
    "knn_new_test = accuracy_score(y_testN, y_pred)\n",
    "print(f'Training Accuracy: {knn_new_training}')\n",
    "print(f'Testing Accuracy: {knn_new_test}')"
   ]
  },
  {
   "cell_type": "code",
   "execution_count": 189,
   "id": "67bbeff7",
   "metadata": {},
   "outputs": [
    {
     "name": "stdout",
     "output_type": "stream",
     "text": [
      "Precision: 0.975\n",
      "Recall: 0.4851177254553532\n"
     ]
    }
   ],
   "source": [
    "report = classification_report(y_testN, y_pred)\n",
    "precision, recall, f1, support = precision_recall_fscore_support(y_testN, y_pred, pos_label=1)\n",
    "knn_new_Precision = precision[1]\n",
    "knn_new_Recall = recall[1]\n",
    "print('Precision:', knn_new_Precision)\n",
    "print('Recall:', knn_new_Recall)"
   ]
  },
  {
   "cell_type": "code",
   "execution_count": 190,
   "id": "afb75505",
   "metadata": {},
   "outputs": [
    {
     "name": "stdout",
     "output_type": "stream",
     "text": [
      "[[2224   28]\n",
      " [1159 1092]]\n"
     ]
    }
   ],
   "source": [
    "knn_cm_new = confusion_matrix(y_testN, y_pred)\n",
    "print(knn_cm_new)"
   ]
  },
  {
   "cell_type": "code",
   "execution_count": 186,
   "id": "0e7fd77c",
   "metadata": {},
   "outputs": [
    {
     "data": {
      "text/plain": [
       "<Axes: >"
      ]
     },
     "execution_count": 186,
     "metadata": {},
     "output_type": "execute_result"
    },
    {
     "data": {
      "image/png": "[encoded data removed]",
      "text/plain": [
       "<Figure size 640x480 with 2 Axes>"
      ]
     },
     "metadata": {},
     "output_type": "display_data"
    }
   ],
   "source": [
    "sns.heatmap(knn_cm_new, annot=True, cmap='Pastel1_r', xticklabels=['Fraud' ,'Genuine'],yticklabels=['Fraud' ,'Genuine'])"
   ]
  },
  {
   "cell_type": "markdown",
   "id": "821d22ed",
   "metadata": {},
   "source": [
    "### Applying LogisticRegression on our under sampled dataset"
   ]
  },
  {
   "cell_type": "code",
   "execution_count": 138,
   "id": "7cb1b3ad",
   "metadata": {},
   "outputs": [],
   "source": [
    "model = LogisticRegression(max_iter=1000)"
   ]
  },
  {
   "cell_type": "code",
   "execution_count": 139,
   "id": "d6c57300",
   "metadata": {},
   "outputs": [
    {
     "data": {
      "text/html": [
       "<style>#sk-container-id-8 {color: black;background-color: white;}#sk-container-id-8 pre{padding: 0;}#sk-container-id-8 div.sk-toggleable {background-color: white;}#sk-container-id-8 label.sk-toggleable__label {cursor: pointer;display: block;width: 100%;margin-bottom: 0;padding: 0.3em;box-sizing: border-box;text-align: center;}#sk-container-id-8 label.sk-toggleable__label-arrow:before {content: \"▸\";float: left;margin-right: 0.25em;color: #696969;}#sk-container-id-8 label.sk-toggleable__label-arrow:hover:before {color: black;}#sk-container-id-8 div.sk-estimator:hover label.sk-toggleable__label-arrow:before {color: black;}#sk-container-id-8 div.sk-toggleable__content {max-height: 0;max-width: 0;overflow: hidden;text-align: left;background-color: #f0f8ff;}#sk-container-id-8 div.sk-toggleable__content pre {margin: 0.2em;color: black;border-radius: 0.25em;background-color: #f0f8ff;}#sk-container-id-8 input.sk-toggleable__control:checked~div.sk-toggleable__content {max-height: 200px;max-width: 100%;overflow: auto;}#sk-container-id-8 input.sk-toggleable__control:checked~label.sk-toggleable__label-arrow:before {content: \"▾\";}#sk-container-id-8 div.sk-estimator input.sk-toggleable__control:checked~label.sk-toggleable__label {background-color: #d4ebff;}#sk-container-id-8 div.sk-label input.sk-toggleable__control:checked~label.sk-toggleable__label {background-color: #d4ebff;}#sk-container-id-8 input.sk-hidden--visually {border: 0;clip: rect(1px 1px 1px 1px);clip: rect(1px, 1px, 1px, 1px);height: 1px;margin: -1px;overflow: hidden;padding: 0;position: absolute;width: 1px;}#sk-container-id-8 div.sk-estimator {font-family: monospace;background-color: #f0f8ff;border: 1px dotted black;border-radius: 0.25em;box-sizing: border-box;margin-bottom: 0.5em;}#sk-container-id-8 div.sk-estimator:hover {background-color: #d4ebff;}#sk-container-id-8 div.sk-parallel-item::after {content: \"\";width: 100%;border-bottom: 1px solid gray;flex-grow: 1;}#sk-container-id-8 div.sk-label:hover label.sk-toggleable__label {background-color: #d4ebff;}#sk-container-id-8 div.sk-serial::before {content: \"\";position: absolute;border-left: 1px solid gray;box-sizing: border-box;top: 0;bottom: 0;left: 50%;z-index: 0;}#sk-container-id-8 div.sk-serial {display: flex;flex-direction: column;align-items: center;background-color: white;padding-right: 0.2em;padding-left: 0.2em;position: relative;}#sk-container-id-8 div.sk-item {position: relative;z-index: 1;}#sk-container-id-8 div.sk-parallel {display: flex;align-items: stretch;justify-content: center;background-color: white;position: relative;}#sk-container-id-8 div.sk-item::before, #sk-container-id-8 div.sk-parallel-item::before {content: \"\";position: absolute;border-left: 1px solid gray;box-sizing: border-box;top: 0;bottom: 0;left: 50%;z-index: -1;}#sk-container-id-8 div.sk-parallel-item {display: flex;flex-direction: column;z-index: 1;position: relative;background-color: white;}#sk-container-id-8 div.sk-parallel-item:first-child::after {align-self: flex-end;width: 50%;}#sk-container-id-8 div.sk-parallel-item:last-child::after {align-self: flex-start;width: 50%;}#sk-container-id-8 div.sk-parallel-item:only-child::after {width: 0;}#sk-container-id-8 div.sk-dashed-wrapped {border: 1px dashed gray;margin: 0 0.4em 0.5em 0.4em;box-sizing: border-box;padding-bottom: 0.4em;background-color: white;}#sk-container-id-8 div.sk-label label {font-family: monospace;font-weight: bold;display: inline-block;line-height: 1.2em;}#sk-container-id-8 div.sk-label-container {text-align: center;}#sk-container-id-8 div.sk-container {/* jupyter's `normalize.less` sets `[hidden] { display: none; }` but bootstrap.min.css set `[hidden] { display: none !important; }` so we also need the `!important` here to be able to override the default hidden behavior on the sphinx rendered scikit-learn.org. See: https://github.com/scikit-learn/scikit-learn/issues/21755 */display: inline-block !important;position: relative;}#sk-container-id-8 div.sk-text-repr-fallback {display: none;}</style><div id=\"sk-container-id-8\" class=\"sk-top-container\"><div class=\"sk-text-repr-fallback\"><pre>LogisticRegression(max_iter=1000)</pre><b>In a Jupyter environment, please rerun this cell to show the HTML representation or trust the notebook. <br />On GitHub, the HTML representation is unable to render, please try loading this page with nbviewer.org.</b></div><div class=\"sk-container\" hidden><div class=\"sk-item\"><div class=\"sk-estimator sk-toggleable\"><input class=\"sk-toggleable__control sk-hidden--visually\" id=\"sk-estimator-id-8\" type=\"checkbox\" checked><label for=\"sk-estimator-id-8\" class=\"sk-toggleable__label sk-toggleable__label-arrow\">LogisticRegression</label><div class=\"sk-toggleable__content\"><pre>LogisticRegression(max_iter=1000)</pre></div></div></div></div></div>"
      ],
      "text/plain": [
       "LogisticRegression(max_iter=1000)"
      ]
     },
     "execution_count": 139,
     "metadata": {},
     "output_type": "execute_result"
    }
   ],
   "source": [
    "model.fit(X_trainN,y_trainN)"
   ]
  },
  {
   "cell_type": "code",
   "execution_count": 140,
   "id": "5b45bada",
   "metadata": {},
   "outputs": [],
   "source": [
    "X_train_prediction = model.predict(X_trainN)\n",
    "logi_new_training_data_accuracy = accuracy_score(X_train_prediction, y_trainN)\n",
    "X_test_prediction = model.predict(X_testN)\n",
    "logi_new_test_data_accuracy = accuracy_score(X_test_prediction, y_testN)"
   ]
  },
  {
   "cell_type": "code",
   "execution_count": 141,
   "id": "166e1f63",
   "metadata": {},
   "outputs": [
    {
     "name": "stdout",
     "output_type": "stream",
     "text": [
      "Accuracy on Training data :  0.8549538402969449\n",
      "Accuracy score on Test Data :  0.8565400843881856\n"
     ]
    }
   ],
   "source": [
    "print('Accuracy on Training data : ', logi_new_training_data_accuracy)\n",
    "print('Accuracy score on Test Data : ', logi_new_test_data_accuracy)"
   ]
  },
  {
   "cell_type": "code",
   "execution_count": 142,
   "id": "9e916497",
   "metadata": {},
   "outputs": [
    {
     "name": "stdout",
     "output_type": "stream",
     "text": [
      "Precision: 0.9431253451131971\n",
      "Recall: 0.7587738782763216\n"
     ]
    }
   ],
   "source": [
    "report = classification_report(y_testN, X_test_prediction)\n",
    "precision, recall, f1, support = precision_recall_fscore_support(y_testN, X_test_prediction, pos_label=1)\n",
    "logi_new_Precision = precision[1]\n",
    "logi_new_Recall = recall[1]\n",
    "print('Precision:', logi_new_Precision)\n",
    "print('Recall:', logi_new_Recall)"
   ]
  },
  {
   "cell_type": "code",
   "execution_count": 143,
   "id": "53f3ca55",
   "metadata": {},
   "outputs": [
    {
     "name": "stdout",
     "output_type": "stream",
     "text": [
      "[[2149  103]\n",
      " [ 543 1708]]\n"
     ]
    }
   ],
   "source": [
    "logi_cm_new = confusion_matrix(y_testN, X_test_prediction)\n",
    "print(logi_cm_new)"
   ]
  },
  {
   "cell_type": "code",
   "execution_count": 144,
   "id": "44a086c8",
   "metadata": {},
   "outputs": [
    {
     "data": {
      "text/plain": [
       "<Axes: >"
      ]
     },
     "execution_count": 144,
     "metadata": {},
     "output_type": "execute_result"
    },
    {
     "data": {
      "image/png": "[encoded data removed]",
      "text/plain": [
       "<Figure size 640x480 with 2 Axes>"
      ]
     },
     "metadata": {},
     "output_type": "display_data"
    }
   ],
   "source": [
    "sns.heatmap(logi_cm_new, annot=True, cmap='Pastel1_r', xticklabels=['Fraud' ,'Genuine'],yticklabels=['Fraud' ,'Genuine'])"
   ]
  },
  {
   "cell_type": "markdown",
   "id": "a3c6b060",
   "metadata": {},
   "source": [
    "### Applying Naive Bayes on our under sampled dataset"
   ]
  },
  {
   "cell_type": "code",
   "execution_count": 145,
   "id": "d85a2926",
   "metadata": {},
   "outputs": [
    {
     "data": {
      "text/html": [
       "<style>#sk-container-id-9 {color: black;background-color: white;}#sk-container-id-9 pre{padding: 0;}#sk-container-id-9 div.sk-toggleable {background-color: white;}#sk-container-id-9 label.sk-toggleable__label {cursor: pointer;display: block;width: 100%;margin-bottom: 0;padding: 0.3em;box-sizing: border-box;text-align: center;}#sk-container-id-9 label.sk-toggleable__label-arrow:before {content: \"▸\";float: left;margin-right: 0.25em;color: #696969;}#sk-container-id-9 label.sk-toggleable__label-arrow:hover:before {color: black;}#sk-container-id-9 div.sk-estimator:hover label.sk-toggleable__label-arrow:before {color: black;}#sk-container-id-9 div.sk-toggleable__content {max-height: 0;max-width: 0;overflow: hidden;text-align: left;background-color: #f0f8ff;}#sk-container-id-9 div.sk-toggleable__content pre {margin: 0.2em;color: black;border-radius: 0.25em;background-color: #f0f8ff;}#sk-container-id-9 input.sk-toggleable__control:checked~div.sk-toggleable__content {max-height: 200px;max-width: 100%;overflow: auto;}#sk-container-id-9 input.sk-toggleable__control:checked~label.sk-toggleable__label-arrow:before {content: \"▾\";}#sk-container-id-9 div.sk-estimator input.sk-toggleable__control:checked~label.sk-toggleable__label {background-color: #d4ebff;}#sk-container-id-9 div.sk-label input.sk-toggleable__control:checked~label.sk-toggleable__label {background-color: #d4ebff;}#sk-container-id-9 input.sk-hidden--visually {border: 0;clip: rect(1px 1px 1px 1px);clip: rect(1px, 1px, 1px, 1px);height: 1px;margin: -1px;overflow: hidden;padding: 0;position: absolute;width: 1px;}#sk-container-id-9 div.sk-estimator {font-family: monospace;background-color: #f0f8ff;border: 1px dotted black;border-radius: 0.25em;box-sizing: border-box;margin-bottom: 0.5em;}#sk-container-id-9 div.sk-estimator:hover {background-color: #d4ebff;}#sk-container-id-9 div.sk-parallel-item::after {content: \"\";width: 100%;border-bottom: 1px solid gray;flex-grow: 1;}#sk-container-id-9 div.sk-label:hover label.sk-toggleable__label {background-color: #d4ebff;}#sk-container-id-9 div.sk-serial::before {content: \"\";position: absolute;border-left: 1px solid gray;box-sizing: border-box;top: 0;bottom: 0;left: 50%;z-index: 0;}#sk-container-id-9 div.sk-serial {display: flex;flex-direction: column;align-items: center;background-color: white;padding-right: 0.2em;padding-left: 0.2em;position: relative;}#sk-container-id-9 div.sk-item {position: relative;z-index: 1;}#sk-container-id-9 div.sk-parallel {display: flex;align-items: stretch;justify-content: center;background-color: white;position: relative;}#sk-container-id-9 div.sk-item::before, #sk-container-id-9 div.sk-parallel-item::before {content: \"\";position: absolute;border-left: 1px solid gray;box-sizing: border-box;top: 0;bottom: 0;left: 50%;z-index: -1;}#sk-container-id-9 div.sk-parallel-item {display: flex;flex-direction: column;z-index: 1;position: relative;background-color: white;}#sk-container-id-9 div.sk-parallel-item:first-child::after {align-self: flex-end;width: 50%;}#sk-container-id-9 div.sk-parallel-item:last-child::after {align-self: flex-start;width: 50%;}#sk-container-id-9 div.sk-parallel-item:only-child::after {width: 0;}#sk-container-id-9 div.sk-dashed-wrapped {border: 1px dashed gray;margin: 0 0.4em 0.5em 0.4em;box-sizing: border-box;padding-bottom: 0.4em;background-color: white;}#sk-container-id-9 div.sk-label label {font-family: monospace;font-weight: bold;display: inline-block;line-height: 1.2em;}#sk-container-id-9 div.sk-label-container {text-align: center;}#sk-container-id-9 div.sk-container {/* jupyter's `normalize.less` sets `[hidden] { display: none; }` but bootstrap.min.css set `[hidden] { display: none !important; }` so we also need the `!important` here to be able to override the default hidden behavior on the sphinx rendered scikit-learn.org. See: https://github.com/scikit-learn/scikit-learn/issues/21755 */display: inline-block !important;position: relative;}#sk-container-id-9 div.sk-text-repr-fallback {display: none;}</style><div id=\"sk-container-id-9\" class=\"sk-top-container\"><div class=\"sk-text-repr-fallback\"><pre>GaussianNB()</pre><b>In a Jupyter environment, please rerun this cell to show the HTML representation or trust the notebook. <br />On GitHub, the HTML representation is unable to render, please try loading this page with nbviewer.org.</b></div><div class=\"sk-container\" hidden><div class=\"sk-item\"><div class=\"sk-estimator sk-toggleable\"><input class=\"sk-toggleable__control sk-hidden--visually\" id=\"sk-estimator-id-9\" type=\"checkbox\" checked><label for=\"sk-estimator-id-9\" class=\"sk-toggleable__label sk-toggleable__label-arrow\">GaussianNB</label><div class=\"sk-toggleable__content\"><pre>GaussianNB()</pre></div></div></div></div></div>"
      ],
      "text/plain": [
       "GaussianNB()"
      ]
     },
     "execution_count": 145,
     "metadata": {},
     "output_type": "execute_result"
    }
   ],
   "source": [
    "gnb = GaussianNB()\n",
    "gnb.fit(X_trainN, y_trainN)"
   ]
  },
  {
   "cell_type": "code",
   "execution_count": 146,
   "id": "880c871f",
   "metadata": {},
   "outputs": [
    {
     "name": "stdout",
     "output_type": "stream",
     "text": [
      "Training accuracy of the model is 0.76\n",
      "Testing accuracy of the model is 0.76\n"
     ]
    }
   ],
   "source": [
    "gnb_new_training = gnb.score(X_trainN, y_trainN)\n",
    "gnb_new_test = gnb.score(X_testN, y_testN)\n",
    "print(\"Training accuracy of the model is {:.2f}\".format(gnb_new_training))\n",
    "print(\"Testing accuracy of the model is {:.2f}\".format(gnb_new_test))"
   ]
  },
  {
   "cell_type": "code",
   "execution_count": 147,
   "id": "68663a0f",
   "metadata": {},
   "outputs": [
    {
     "name": "stdout",
     "output_type": "stream",
     "text": [
      "Precision: 0.9513725490196079\n",
      "Recall: 0.9513725490196079\n"
     ]
    }
   ],
   "source": [
    "y_pred = gnb.predict(X_testN)\n",
    "report = classification_report(y_testN, y_pred)\n",
    "precision, recall, f1, support = precision_recall_fscore_support(y_testN, y_pred, pos_label=1)\n",
    "gnb_new_Precision = precision[1]\n",
    "gnb_new_Recall = recall[1]\n",
    "print('Precision:', gnb_new_Precision)\n",
    "print('Recall:', gnb_new_Precision)"
   ]
  },
  {
   "cell_type": "code",
   "execution_count": 148,
   "id": "0691c72a",
   "metadata": {},
   "outputs": [
    {
     "name": "stdout",
     "output_type": "stream",
     "text": [
      "[[2190 1038]\n",
      " [  62 1213]]\n"
     ]
    }
   ],
   "source": [
    "predictions = gnb.predict(X_testN)\n",
    "gnb_cm_new=confusion_matrix(predictions, y_testN)\n",
    "print(gnb_cm_new)"
   ]
  },
  {
   "cell_type": "code",
   "execution_count": 149,
   "id": "811b1736",
   "metadata": {},
   "outputs": [
    {
     "data": {
      "text/plain": [
       "<Axes: >"
      ]
     },
     "execution_count": 149,
     "metadata": {},
     "output_type": "execute_result"
    },
    {
     "data": {
      "image/png": "[encoded data removed]",
      "text/plain": [
       "<Figure size 640x480 with 2 Axes>"
      ]
     },
     "metadata": {},
     "output_type": "display_data"
    }
   ],
   "source": [
    "sns.heatmap(gnb_cm_new, annot=True, cmap='Pastel1_r', xticklabels=['Fraud' ,'Genuine'],yticklabels=['Fraud' ,'Genuine'])"
   ]
  },
  {
   "cell_type": "markdown",
   "id": "ba10f76b",
   "metadata": {},
   "source": [
    "### Accuracy Comparison of Three Models"
   ]
  },
  {
   "cell_type": "code",
   "execution_count": 150,
   "id": "2dac1751",
   "metadata": {},
   "outputs": [
    {
     "data": {
      "image/png": "[encoded data removed]",
      "text/plain": [
       "<Figure size 640x480 with 1 Axes>"
      ]
     },
     "metadata": {},
     "output_type": "display_data"
    }
   ],
   "source": [
    "accuracy = {'Model': ['knn_old', 'LogisticRegression_old', 'Gnb_old'],\n",
    "        'Accuracy': [knn_old_test*100, logi_old_test_data_accuracy*100, gnb_old_test*100]}\n",
    "df = pd.DataFrame(accuracy)\n",
    "ax = df.plot(kind='bar', x='Model', y='Accuracy', color='blue', legend=False)\n",
    "ax.set_ylim([0, 100])\n",
    "ax.set_title('Accuracy Comparison of Three Models')\n",
    "ax.set_xlabel('Models')\n",
    "ax.set_ylabel('Accuracy(%)')\n",
    "plt.show()"
   ]
  },
  {
   "cell_type": "markdown",
   "id": "6c296d1f",
   "metadata": {},
   "source": [
    "### Accuracy Comparison of Three Models using under sampled data"
   ]
  },
  {
   "cell_type": "code",
   "execution_count": 151,
   "id": "d7e2eda8",
   "metadata": {},
   "outputs": [
    {
     "data": {
      "image/png": "[encoded data removed]",
      "text/plain": [
       "<Figure size 640x480 with 1 Axes>"
      ]
     },
     "metadata": {},
     "output_type": "display_data"
    }
   ],
   "source": [
    "accuracy = {'Model': ['knn_new', 'LogisticRegression_new', 'Gnb_new'],\n",
    "        'Accuracy': [knn_new_test*100, logi_new_test_data_accuracy*100, gnb_new_test*100]}\n",
    "df = pd.DataFrame(accuracy)\n",
    "ax = df.plot(kind='bar', x='Model', y='Accuracy', color='red', legend=False)\n",
    "ax.set_ylim([0, 100])\n",
    "ax.set_title('Accuracy Comparison of Three Models using under sampled data')\n",
    "ax.set_xlabel('Models')\n",
    "ax.set_ylabel('Accuracy(%)')\n",
    "plt.show()"
   ]
  },
  {
   "cell_type": "markdown",
   "id": "403eb4fc",
   "metadata": {},
   "source": [
    "### Accuracy Comparison of  Unbalaced and Balanced Dataset"
   ]
  },
  {
   "cell_type": "code",
   "execution_count": 152,
   "id": "208a2920",
   "metadata": {},
   "outputs": [
    {
     "data": {
      "image/png": "[encoded data removed]",
      "text/plain": [
       "<Figure size 640x480 with 1 Axes>"
      ]
     },
     "metadata": {},
     "output_type": "display_data"
    }
   ],
   "source": [
    "accuracy1 = {'Model': ['knn', 'LogisticRegression', 'Gnb'],\n",
    "        'Accuracy': [knn_old_test*100, logi_old_test_data_accuracy*100, gnb_old_test*100]}\n",
    "df1 = pd.DataFrame(accuracy1)\n",
    "accuracy2 = {'Model': ['knn_new', 'LogisticRegression_new', 'Gnb_new'],\n",
    "        'Accuracy': [knn_new_test*100, logi_new_test_data_accuracy*100, gnb_new_test*100]}\n",
    "df2 = pd.DataFrame(accuracy2)\n",
    "bar_width = 0.4\n",
    "space = 0.5\n",
    "x2 = np.arange(len(df2)) + (bar_width + space) / 2\n",
    "plt.bar(np.arange(len(df1)), df1['Accuracy'], width=bar_width, color='blue', label='Original Data')\n",
    "plt.bar(x2, df2['Accuracy'], width=bar_width, color='red', label='Undersampled Data')\n",
    "plt.xticks(np.arange(len(df1)), df1['Model'])\n",
    "plt.ylim([0, 100])\n",
    "plt.title('Accuracy Comparison of Three Models')\n",
    "plt.xlabel('Models')\n",
    "plt.ylabel('Accuracy(%)')\n",
    "plt.legend()\n",
    "plt.show()"
   ]
  },
  {
   "cell_type": "markdown",
   "id": "d910d3b6",
   "metadata": {},
   "source": [
    "### Precision Comparison of Three Models"
   ]
  },
  {
   "cell_type": "code",
   "execution_count": 153,
   "id": "f30550bc",
   "metadata": {},
   "outputs": [
    {
     "data": {
      "image/png": "[encoded data removed]",
      "text/plain": [
       "<Figure size 640x480 with 1 Axes>"
      ]
     },
     "metadata": {},
     "output_type": "display_data"
    }
   ],
   "source": [
    "accuracy = {'Model': ['knn_old', 'LogisticRegression_old', 'Gnb_old'],\n",
    "        'Accuracy': [knn_old_Precision*100, logi_old_Precision*100, gnb_old_Precision*100]}\n",
    "df = pd.DataFrame(accuracy)\n",
    "ax = df.plot(kind='bar', x='Model', y='Accuracy', color='blue', legend=False)\n",
    "ax.set_ylim([0, 100])\n",
    "ax.set_title('Precision Comparison of Three Models')\n",
    "ax.set_xlabel('Models')\n",
    "ax.set_ylabel('Precision(%)')\n",
    "plt.show()"
   ]
  },
  {
   "cell_type": "markdown",
   "id": "ecda048d",
   "metadata": {},
   "source": [
    "### Precision Comparison of Three Models using under sampled data"
   ]
  },
  {
   "cell_type": "code",
   "execution_count": 154,
   "id": "a74d5926",
   "metadata": {},
   "outputs": [
    {
     "data": {
      "image/png": "[encoded data removed]",
      "text/plain": [
       "<Figure size 640x480 with 1 Axes>"
      ]
     },
     "metadata": {},
     "output_type": "display_data"
    }
   ],
   "source": [
    "accuracy = {'Model': ['knn_new', 'LogisticRegression_new', 'Gnb_new'],\n",
    "        'Accuracy': [knn_new_Precision*100, logi_new_Precision*100, gnb_new_Precision*100]}\n",
    "df = pd.DataFrame(accuracy)\n",
    "ax = df.plot(kind='bar', x='Model', y='Accuracy', color='red', legend=False)\n",
    "ax.set_ylim([0, 100])\n",
    "ax.set_title('Precision Comparison of Three Models using under sampled data')\n",
    "ax.set_xlabel('Models')\n",
    "ax.set_ylabel('Precision(%)')\n",
    "plt.show()"
   ]
  },
  {
   "cell_type": "markdown",
   "id": "cf46bdf2",
   "metadata": {},
   "source": [
    "### Precision Comparison of  Unbalaced and Balanced Dataset"
   ]
  },
  {
   "cell_type": "code",
   "execution_count": 155,
   "id": "7c0ca756",
   "metadata": {},
   "outputs": [
    {
     "data": {
      "image/png": "[encoded data removed]",
      "text/plain": [
       "<Figure size 640x480 with 1 Axes>"
      ]
     },
     "metadata": {},
     "output_type": "display_data"
    }
   ],
   "source": [
    "accuracy1 = {'Model': ['knn', 'LogisticRegression', 'Gnb'],\n",
    "        'Accuracy': [knn_old_Precision*100, logi_old_Precision*100, gnb_old_Precision*100]}\n",
    "df1 = pd.DataFrame(accuracy1)\n",
    "accuracy2 = {'Model': ['knn_new', 'LogisticRegression_new', 'Gnb_new'],\n",
    "        'Accuracy': [knn_new_Precision*100, logi_new_Precision*100, gnb_new_Precision*100]}\n",
    "df2 = pd.DataFrame(accuracy2)\n",
    "bar_width = 0.4\n",
    "space = 0.5\n",
    "x2 = np.arange(len(df2)) + (bar_width + space) / 2\n",
    "plt.bar(np.arange(len(df1)), df1['Accuracy'], width=bar_width, color='blue', label='Original Data')\n",
    "plt.bar(x2, df2['Accuracy'], width=bar_width, color='red', label='Undersampled Data')\n",
    "plt.xticks(np.arange(len(df1)), df1['Model'])\n",
    "plt.ylim([0, 100])\n",
    "plt.title('Precision Comparison of Three Models')\n",
    "plt.xlabel('Models')\n",
    "plt.ylabel('Accuracy(%)')\n",
    "plt.legend()\n",
    "plt.show()"
   ]
  },
  {
   "cell_type": "markdown",
   "id": "039eed62",
   "metadata": {},
   "source": [
    "### Recall Comparison of Three Models"
   ]
  },
  {
   "cell_type": "code",
   "execution_count": 156,
   "id": "f275e823",
   "metadata": {},
   "outputs": [
    {
     "data": {
      "image/png": "[encoded data removed]",
      "text/plain": [
       "<Figure size 640x480 with 1 Axes>"
      ]
     },
     "metadata": {},
     "output_type": "display_data"
    }
   ],
   "source": [
    "accuracy = {'Model': ['knn_old', 'LogisticRegression_old', 'Gnb_old'],\n",
    "        'Accuracy': [knn_old_Recall*100, logi_old_Recall*100, gnb_old_Recall*100]}\n",
    "df = pd.DataFrame(accuracy)\n",
    "ax = df.plot(kind='bar', x='Model', y='Accuracy', color='blue', legend=False)\n",
    "ax.set_ylim([0, 100])\n",
    "ax.set_title('Recall Comparison of Three Models')\n",
    "ax.set_xlabel('Models')\n",
    "ax.set_ylabel('Recall(%)')\n",
    "plt.show()"
   ]
  },
  {
   "cell_type": "markdown",
   "id": "1d2f842b",
   "metadata": {},
   "source": [
    "### Recall Comparison of Three Models using under sampled data"
   ]
  },
  {
   "cell_type": "code",
   "execution_count": 157,
   "id": "7896dd1e",
   "metadata": {},
   "outputs": [
    {
     "data": {
      "image/png": "[encoded data removed]",
      "text/plain": [
       "<Figure size 640x480 with 1 Axes>"
      ]
     },
     "metadata": {},
     "output_type": "display_data"
    }
   ],
   "source": [
    "accuracy = {'Model': ['knn_new', 'LogisticRegression_new', 'Gnb_new'],\n",
    "        'Accuracy': [knn_new_Recall*100, logi_new_Recall*100, gnb_new_Recall*100]}\n",
    "df = pd.DataFrame(accuracy)\n",
    "ax = df.plot(kind='bar', x='Model', y='Accuracy', color='red', legend=False)\n",
    "ax.set_ylim([0, 100])\n",
    "ax.set_title('Precision Comparison of Three Models using under sampled data')\n",
    "ax.set_xlabel('Models')\n",
    "ax.set_ylabel('Precision(%)')\n",
    "plt.show()"
   ]
  },
  {
   "cell_type": "markdown",
   "id": "eff971dc",
   "metadata": {},
   "source": [
    "### Recall Comparison of  Unbalaced and Balanced Dataset"
   ]
  },
  {
   "cell_type": "code",
   "execution_count": 158,
   "id": "ce102bf5",
   "metadata": {},
   "outputs": [
    {
     "data": {
      "image/png": "[encoded data removed]",
      "text/plain": [
       "<Figure size 640x480 with 1 Axes>"
      ]
     },
     "metadata": {},
     "output_type": "display_data"
    }
   ],
   "source": [
    "accuracy1 = {'Model': ['knn', 'LogisticRegression', 'Gnb'],\n",
    "        'Accuracy': [knn_old_Recall*100, logi_old_Recall*100, gnb_old_Recall*100]}\n",
    "df1 = pd.DataFrame(accuracy1)\n",
    "accuracy2 = {'Model': ['knn_new', 'LogisticRegression_new', 'Gnb_new'],\n",
    "        'Accuracy': [knn_new_Recall*100, logi_new_Recall*100, gnb_new_Recall*100]}\n",
    "df2 = pd.DataFrame(accuracy2)\n",
    "bar_width = 0.4\n",
    "space = 0.5\n",
    "x2 = np.arange(len(df2)) + (bar_width + space) / 2\n",
    "plt.bar(np.arange(len(df1)), df1['Accuracy'], width=bar_width, color='blue', label='Original Data')\n",
    "plt.bar(x2, df2['Accuracy'], width=bar_width, color='red', label='Undersampled Data')\n",
    "plt.xticks(np.arange(len(df1)), df1['Model'])\n",
    "plt.ylim([0, 100])\n",
    "plt.title('Recall Comparison of Three Models')\n",
    "plt.xlabel('Models')\n",
    "plt.ylabel('Accuracy(%)')\n",
    "plt.legend()\n",
    "plt.show()"
   ]
  },
  {
   "cell_type": "code",
   "execution_count": 169,
   "id": "4a43ba1f",
   "metadata": {},
   "outputs": [
    {
     "data": {
      "image/png": "[encoded data removed]",
      "text/plain": [
       "<Figure size 640x480 with 1 Axes>"
      ]
     },
     "metadata": {},
     "output_type": "display_data"
    }
   ],
   "source": [
    "import matplotlib.pyplot as plt\n",
    "\n",
    "\n",
    "models = ['knn', 'knn', 'logistic', 'logistic', 'naive_bayes', 'naive_bayes']\n",
    "accuracy = [knn_old_test, knn_new_test, logi_old_test_data_accuracy, logi_new_test_data_accuracy, gnb_old_test, gnb_new_test]\n",
    "precision = [knn_old_Precision,knn_new_Precision, logi_old_Precision, logi_new_Precision, gnb_old_Precision, gnb_new_Precision]\n",
    "recall = [knn_old_Recall, knn_new_Recall, logi_old_Recall,logi_new_Recall, gnb_old_Recall, gnb_new_Recall]\n",
    "\n",
    "\n",
    "fig, ax = plt.subplots()\n",
    "ax.bar([x-0.2 for x in range(len(models))], accuracy, width=0.2, label='Accuracy')\n",
    "ax.bar([x for x in range(len(models))], precision, width=0.2, label='Precision')\n",
    "ax.bar([x+0.2 for x in range(len(models))], recall, width=0.2, label='Recall')\n",
    "\n",
    "ax.set_xlabel('Model')\n",
    "ax.set_ylabel('Score')\n",
    "ax.set_title('Comparison of Models')\n",
    "ax.legend()\n",
    "\n",
    "ax.set_xticks(range(len(models)))\n",
    "ax.set_xticklabels(models)\n",
    "\n",
    "plt.show()\n"
   ]
  },
  {
   "cell_type": "code",
   "execution_count": null,
   "id": "d6817d89",
   "metadata": {},
   "outputs": [],
   "source": []
  }
 ],
 "metadata": {
  "kernelspec": {
   "display_name": "Python 3 (ipykernel)",
   "language": "python",
   "name": "python3"
  },
  "language_info": {
   "codemirror_mode": {
    "name": "ipython",
    "version": 3
   },
   "file_extension": ".py",
   "mimetype": "text/x-python",
   "name": "python",
   "nbconvert_exporter": "python",
   "pygments_lexer": "ipython3",
   "version": "3.10.9"
  },
  "widgets": {
   "application/vnd.jupyter.widget-state+json": {
    "state": {},
    "version_major": 2,
    "version_minor": 0
   }
  }
 },
 "nbformat": 4,
 "nbformat_minor": 5
}
